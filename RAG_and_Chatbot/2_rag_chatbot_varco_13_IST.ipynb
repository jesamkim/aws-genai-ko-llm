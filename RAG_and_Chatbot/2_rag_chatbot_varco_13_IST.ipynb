{
 "cells": [
  {
   "cell_type": "markdown",
   "id": "efee779e-2f33-451c-b7cf-415f1491b1fa",
   "metadata": {},
   "source": [
    "# RAG (Retrieval Augmented Generation) and Chatbot"
   ]
  },
  {
   "cell_type": "markdown",
   "id": "c0d0cbda-237a-4679-9b67-bbaee014164b",
   "metadata": {},
   "source": [
    "## Pre-Requisites"
   ]
  },
  {
   "cell_type": "markdown",
   "id": "c3a0f813-6932-444b-9abe-7d85aca7d11b",
   "metadata": {},
   "source": [
    "### LLM model (VARCO) deploy in SageMaker\n",
    "Make sure that you have ran the Notebook 1_deploy-varco_model_13_IST.ipynb"
   ]
  },
  {
   "cell_type": "code",
   "execution_count": null,
   "id": "aabafe9c-ad23-4ebc-8a05-923c0168948a",
   "metadata": {
    "tags": []
   },
   "outputs": [],
   "source": [
    "%store -r endpoint_name"
   ]
  },
  {
   "cell_type": "code",
   "execution_count": null,
   "id": "c182bbee-8dfe-4321-9c2b-9e7c19007843",
   "metadata": {
    "tags": []
   },
   "outputs": [],
   "source": [
    "import os\n",
    "os.environ[\"VARCO_ENDPOINT\"]=endpoint_name\n",
    "print(os.environ[\"VARCO_ENDPOINT\"])"
   ]
  },
  {
   "cell_type": "code",
   "execution_count": null,
   "id": "175eb15b-baf6-468e-8612-8be8bd121e3e",
   "metadata": {
    "tags": []
   },
   "outputs": [],
   "source": [
    "!apt update"
   ]
  },
  {
   "cell_type": "code",
   "execution_count": null,
   "id": "9654b9fb-e9b7-4aea-a53b-2532225d037a",
   "metadata": {},
   "outputs": [],
   "source": []
  }
 ],
 "metadata": {
  "kernelspec": {
   "display_name": "conda_python3",
   "language": "python",
   "name": "conda_python3"
  },
  "language_info": {
   "codemirror_mode": {
    "name": "ipython",
    "version": 3
   },
   "file_extension": ".py",
   "mimetype": "text/x-python",
   "name": "python",
   "nbconvert_exporter": "python",
   "pygments_lexer": "ipython3",
   "version": "3.10.12"
  }
 },
 "nbformat": 4,
 "nbformat_minor": 5
}
