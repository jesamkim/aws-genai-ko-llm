{
 "cells": [
  {
   "cell_type": "markdown",
   "id": "efee779e-2f33-451c-b7cf-415f1491b1fa",
   "metadata": {},
   "source": [
    "# RAG (Retrieval Augmented Generation) and Chatbot"
   ]
  },
  {
   "cell_type": "markdown",
   "id": "c0d0cbda-237a-4679-9b67-bbaee014164b",
   "metadata": {},
   "source": [
    "## Pre-Requisites"
   ]
  },
  {
   "cell_type": "markdown",
   "id": "c3a0f813-6932-444b-9abe-7d85aca7d11b",
   "metadata": {},
   "source": [
    "### LLM model (VARCO) deploy in SageMaker\n",
    "Make sure that you have ran the Notebook 1_deploy-varco_model_13_IST.ipynb"
   ]
  },
  {
   "cell_type": "code",
   "execution_count": 2,
   "id": "aabafe9c-ad23-4ebc-8a05-923c0168948a",
   "metadata": {
    "tags": []
   },
   "outputs": [],
   "source": [
    "%store -r endpoint_name"
   ]
  },
  {
   "cell_type": "code",
   "execution_count": 3,
   "id": "c182bbee-8dfe-4321-9c2b-9e7c19007843",
   "metadata": {
    "tags": []
   },
   "outputs": [
    {
     "name": "stdout",
     "output_type": "stream",
     "text": [
      "varco-llm-13b-ist\n"
     ]
    }
   ],
   "source": [
    "import os\n",
    "os.environ[\"VARCO_ENDPOINT\"]=endpoint_name\n",
    "print(os.environ[\"VARCO_ENDPOINT\"])"
   ]
  },
  {
   "cell_type": "code",
   "execution_count": 4,
   "id": "175eb15b-baf6-468e-8612-8be8bd121e3e",
   "metadata": {
    "tags": []
   },
   "outputs": [
    {
     "name": "stdout",
     "output_type": "stream",
     "text": [
      "Get:1 http://deb.debian.org/debian buster InRelease [122 kB]\n",
      "Get:2 http://security.debian.org/debian-security buster/updates InRelease [34.8 kB]\n",
      "Get:3 http://deb.debian.org/debian buster-updates InRelease [56.6 kB]\u001b[0m\u001b[33m\n",
      "Get:4 http://security.debian.org/debian-security buster/updates/main amd64 Packages [551 kB]\n",
      "Get:5 http://deb.debian.org/debian buster/main amd64 Packages [7909 kB]\n",
      "Get:6 http://deb.debian.org/debian buster-updates/main amd64 Packages [8788 B]\n",
      "Fetched 8682 kB in 2s (4197 kB/s)3m                  \u001b[0m\u001b[33m\u001b[33m\u001b[33m\u001b[33m\n",
      "Reading package lists... Done\n",
      "Building dependency tree       \n",
      "Reading state information... Done\n",
      "65 packages can be upgraded. Run 'apt list --upgradable' to see them.\n"
     ]
    }
   ],
   "source": [
    "!apt update"
   ]
  },
  {
   "cell_type": "code",
   "execution_count": 5,
   "id": "9654b9fb-e9b7-4aea-a53b-2532225d037a",
   "metadata": {
    "collapsed": true,
    "jupyter": {
     "outputs_hidden": true
    },
    "tags": []
   },
   "outputs": [
    {
     "name": "stdout",
     "output_type": "stream",
     "text": [
      "Reading package lists... Done\n",
      "Building dependency tree       \n",
      "Reading state information... Done\n",
      "The following additional packages will be installed:\n",
      "  adwaita-icon-theme at-spi2-core avahi-daemon dbus-user-session\n",
      "  dconf-gsettings-backend dconf-service dmsetup geoclue-2.0 glib-networking\n",
      "  glib-networking-common glib-networking-services gsettings-desktop-schemas\n",
      "  gstreamer1.0-plugins-base gtk-update-icon-cache iio-sensor-proxy iso-codes\n",
      "  libargon2-1 libatk-bridge2.0-0 libatk1.0-0 libatk1.0-data libatspi2.0-0\n",
      "  libavahi-core7 libavahi-glib1 libbrotli1 libcairo-gobject2 libcap2-bin\n",
      "  libcdparanoia0 libcolord2 libcroco3 libcryptsetup12 libdaemon0 libdconf1\n",
      "  libdevmapper1.02.1 libdouble-conversion1 libdrm-amdgpu1 libdrm-common\n",
      "  libdrm-intel1 libdrm-nouveau2 libdrm-radeon1 libdrm2 libegl-mesa0 libegl1\n",
      "  libelf1 libepoxy0 libevdev2 libfontenc1 libgbm1 libgdk-pixbuf2.0-0\n",
      "  libgdk-pixbuf2.0-bin libgdk-pixbuf2.0-common libgl1 libgl1-mesa-dri\n",
      "  libglapi-mesa libglvnd0 libglx-mesa0 libglx0 libgstreamer-plugins-base1.0-0\n",
      "  libgstreamer1.0-0 libgtk-3-0 libgtk-3-bin libgtk-3-common libgudev-1.0-0\n",
      "  libhyphen0 libinput-bin libinput10 libip4tc0 libjim0.77 libjson-glib-1.0-0\n",
      "  libjson-glib-1.0-common libkmod2 libllvm7 libmbim-glib4 libmbim-proxy\n",
      "  libmm-glib0 libmtdev1 libnl-3-200 libnl-genl-3-200 libnl-route-3-200\n",
      "  libnotify4 libnss-mdns libnss-systemd libogg0 libopus0 liborc-0.4-0\n",
      "  libpam-cap libpam-systemd libpciaccess0 libpcre2-16-0 libpcsclite1\n",
      "  libpolkit-gobject-1-0 libproxy1v5 libqmi-glib5 libqmi-proxy libqt5core5a\n",
      "  libqt5dbus5 libqt5gui5 libqt5network5 libqt5positioning5 libqt5printsupport5\n",
      "  libqt5qml5 libqt5quick5 libqt5sensors5 libqt5svg5 libqt5webchannel5\n",
      "  libqt5webkit5 libqt5widgets5 libqt5xmlpatterns5 librest-0.7-0 librsvg2-2\n",
      "  librsvg2-common libsensors-config libsensors5 libsoup-gnome2.4-1\n",
      "  libsoup2.4-1 libsystemd0 libtheora0 libudev1 libunwind8 libusb-1.0-0\n",
      "  libvisual-0.4-0 libvorbis0a libvorbisenc2 libwacom-bin libwacom-common\n",
      "  libwacom2 libwayland-client0 libwayland-cursor0 libwayland-egl1\n",
      "  libwayland-server0 libwoff1 libx11-xcb1 libxcb-dri2-0 libxcb-dri3-0\n",
      "  libxcb-glx0 libxcb-icccm4 libxcb-image0 libxcb-keysyms1 libxcb-present0\n",
      "  libxcb-randr0 libxcb-render-util0 libxcb-shape0 libxcb-sync1 libxcb-util0\n",
      "  libxcb-xfixes0 libxcb-xinerama0 libxcb-xkb1 libxcomposite1 libxcursor1\n",
      "  libxdamage1 libxfixes3 libxfont2 libxi6 libxinerama1 libxkbcommon-x11-0\n",
      "  libxkbcommon0 libxkbfile1 libxrandr2 libxshmfence1 libxslt1.1 libxtst6\n",
      "  libxxf86vm1 modemmanager notification-daemon qt5-gtk-platformtheme\n",
      "  qttranslations5-l10n systemd systemd-sysv udev usb-modeswitch\n",
      "  usb-modeswitch-data wpasupplicant x11-xkb-utils xfonts-base xfonts-encodings\n",
      "  xfonts-utils xkb-data xnest xserver-common\n",
      "Suggested packages:\n",
      "  avahi-autoipd gvfs isoquery colord libvisual-0.4-plugins gstreamer1.0-tools\n",
      "  avahi-autoipd | zeroconf opus-tools pciutils pcscd qt5-image-formats-plugins\n",
      "  qtwayland5 qt5-qmltooling-plugins librsvg2-bin lm-sensors systemd-container\n",
      "  policykit-1 comgt wvdial wpagui libengine-pkcs11-openssl\n",
      "The following NEW packages will be installed:\n",
      "  adwaita-icon-theme at-spi2-core avahi-daemon dbus-user-session\n",
      "  dconf-gsettings-backend dconf-service dmsetup geoclue-2.0 glib-networking\n",
      "  glib-networking-common glib-networking-services gsettings-desktop-schemas\n",
      "  gstreamer1.0-plugins-base gtk-update-icon-cache iio-sensor-proxy iso-codes\n",
      "  libargon2-1 libatk-bridge2.0-0 libatk1.0-0 libatk1.0-data libatspi2.0-0\n",
      "  libavahi-core7 libavahi-glib1 libbrotli1 libcairo-gobject2 libcap2-bin\n",
      "  libcdparanoia0 libcolord2 libcroco3 libcryptsetup12 libdaemon0 libdconf1\n",
      "  libdevmapper1.02.1 libdouble-conversion1 libdrm-amdgpu1 libdrm-common\n",
      "  libdrm-intel1 libdrm-nouveau2 libdrm-radeon1 libdrm2 libegl-mesa0 libegl1\n",
      "  libelf1 libepoxy0 libevdev2 libfontenc1 libgbm1 libgdk-pixbuf2.0-0\n",
      "  libgdk-pixbuf2.0-bin libgdk-pixbuf2.0-common libgl1 libgl1-mesa-dri\n",
      "  libglapi-mesa libglvnd0 libglx-mesa0 libglx0 libgstreamer-plugins-base1.0-0\n",
      "  libgstreamer1.0-0 libgtk-3-0 libgtk-3-bin libgtk-3-common libgudev-1.0-0\n",
      "  libhyphen0 libinput-bin libinput10 libip4tc0 libjim0.77 libjson-glib-1.0-0\n",
      "  libjson-glib-1.0-common libkmod2 libllvm7 libmbim-glib4 libmbim-proxy\n",
      "  libmm-glib0 libmtdev1 libnl-3-200 libnl-genl-3-200 libnl-route-3-200\n",
      "  libnotify4 libnss-mdns libnss-systemd libogg0 libopus0 liborc-0.4-0\n",
      "  libpam-cap libpam-systemd libpciaccess0 libpcre2-16-0 libpcsclite1\n",
      "  libpolkit-gobject-1-0 libproxy1v5 libqmi-glib5 libqmi-proxy libqt5core5a\n",
      "  libqt5dbus5 libqt5gui5 libqt5network5 libqt5positioning5 libqt5printsupport5\n",
      "  libqt5qml5 libqt5quick5 libqt5sensors5 libqt5svg5 libqt5webchannel5\n",
      "  libqt5webkit5 libqt5widgets5 libqt5xmlpatterns5 librest-0.7-0 librsvg2-2\n",
      "  librsvg2-common libsensors-config libsensors5 libsoup-gnome2.4-1\n",
      "  libsoup2.4-1 libtheora0 libunwind8 libusb-1.0-0 libvisual-0.4-0 libvorbis0a\n",
      "  libvorbisenc2 libwacom-bin libwacom-common libwacom2 libwayland-client0\n",
      "  libwayland-cursor0 libwayland-egl1 libwayland-server0 libwoff1 libx11-xcb1\n",
      "  libxcb-dri2-0 libxcb-dri3-0 libxcb-glx0 libxcb-icccm4 libxcb-image0\n",
      "  libxcb-keysyms1 libxcb-present0 libxcb-randr0 libxcb-render-util0\n",
      "  libxcb-shape0 libxcb-sync1 libxcb-util0 libxcb-xfixes0 libxcb-xinerama0\n",
      "  libxcb-xkb1 libxcomposite1 libxcursor1 libxdamage1 libxfixes3 libxfont2\n",
      "  libxi6 libxinerama1 libxkbcommon-x11-0 libxkbcommon0 libxkbfile1 libxrandr2\n",
      "  libxshmfence1 libxslt1.1 libxtst6 libxxf86vm1 modemmanager\n",
      "  notification-daemon qt5-gtk-platformtheme qttranslations5-l10n systemd\n",
      "  systemd-sysv udev usb-modeswitch usb-modeswitch-data wkhtmltopdf\n",
      "  wpasupplicant x11-xkb-utils xfonts-base xfonts-encodings xfonts-utils\n",
      "  xkb-data xnest xserver-common\n",
      "The following packages will be upgraded:\n",
      "  libsystemd0 libudev1\n",
      "2 upgraded, 177 newly installed, 0 to remove and 63 not upgraded.\n",
      "Need to get 106 MB of archives.\n",
      "After this operation, 511 MB of additional disk space will be used.\n",
      "Get:1 http://security.debian.org/debian-security buster/updates/main amd64 libsystemd0 amd64 241-7~deb10u10 [332 kB]\n",
      "Get:2 http://deb.debian.org/debian buster/main amd64 libargon2-1 amd64 0~20171227-0.2 [19.6 kB]\n",
      "Get:3 http://deb.debian.org/debian buster/main amd64 dmsetup amd64 2:1.02.155-3 [90.8 kB]\n",
      "Get:4 http://deb.debian.org/debian buster/main amd64 libdevmapper1.02.1 amd64 2:1.02.155-3 [141 kB]\n",
      "Get:5 http://security.debian.org/debian-security buster/updates/main amd64 libudev1 amd64 241-7~deb10u10 [151 kB]\n",
      "Get:6 http://deb.debian.org/debian buster/main amd64 libcryptsetup12 amd64 2:2.1.0-5+deb10u2 [193 kB]\n",
      "Get:7 http://security.debian.org/debian-security buster/updates/main amd64 systemd amd64 241-7~deb10u10 [3505 kB]\n",
      "Get:8 http://deb.debian.org/debian buster/main amd64 libip4tc0 amd64 1.8.2-4 [70.2 kB]\n",
      "Get:9 http://deb.debian.org/debian buster/main amd64 libkmod2 amd64 26-1 [52.7 kB]\n",
      "Get:10 http://deb.debian.org/debian buster/main amd64 libdouble-conversion1 amd64 3.1.0-3 [39.4 kB]\n",
      "Get:11 http://deb.debian.org/debian buster/main amd64 libqt5core5a amd64 5.11.3+dfsg1-1+deb10u5 [1946 kB]\n",
      "Get:12 http://deb.debian.org/debian buster/main amd64 libdrm-common all 2.4.97-1 [13.8 kB]\n",
      "Get:13 http://deb.debian.org/debian buster/main amd64 libdrm2 amd64 2.4.97-1 [39.7 kB]\n",
      "Get:14 http://deb.debian.org/debian buster/main amd64 libglvnd0 amd64 1.1.0-1 [48.6 kB]\n",
      "Get:15 http://deb.debian.org/debian buster/main amd64 libwayland-server0 amd64 1.16.0-1 [32.5 kB]\n",
      "Get:16 http://deb.debian.org/debian buster/main amd64 libgbm1 amd64 18.3.6-2+deb10u1 [67.8 kB]\n",
      "Get:17 http://deb.debian.org/debian buster/main amd64 libglapi-mesa amd64 18.3.6-2+deb10u1 [66.3 kB]\n",
      "Get:18 http://deb.debian.org/debian buster/main amd64 libwayland-client0 amd64 1.16.0-1 [26.4 kB]\n",
      "Get:19 http://deb.debian.org/debian buster/main amd64 libxcb-dri2-0 amd64 1.13.1-2 [101 kB]\n",
      "Get:20 http://deb.debian.org/debian buster/main amd64 libxcb-dri3-0 amd64 1.13.1-2 [100 kB]\n",
      "Get:21 http://deb.debian.org/debian buster/main amd64 libxcb-present0 amd64 1.13.1-2 [99.1 kB]\n",
      "Get:22 http://deb.debian.org/debian buster/main amd64 libxcb-sync1 amd64 1.13.1-2 [103 kB]\n",
      "Get:23 http://deb.debian.org/debian buster/main amd64 libxcb-xfixes0 amd64 1.13.1-2 [103 kB]\n",
      "Get:24 http://security.debian.org/debian-security buster/updates/main amd64 systemd-sysv amd64 241-7~deb10u10 [100 kB]\n",
      "Get:25 http://deb.debian.org/debian buster/main amd64 libxshmfence1 amd64 1.3-1 [8820 B]\n",
      "Get:26 http://security.debian.org/debian-security buster/updates/main amd64 libpcre2-16-0 amd64 10.32-5+deb10u1 [203 kB]\n",
      "Get:27 http://deb.debian.org/debian buster/main amd64 libegl-mesa0 amd64 18.3.6-2+deb10u1 [135 kB]\n",
      "Get:28 http://security.debian.org/debian-security buster/updates/main amd64 libx11-xcb1 amd64 2:1.6.7-1+deb10u3 [191 kB]\n",
      "Get:29 http://deb.debian.org/debian buster/main amd64 libegl1 amd64 1.1.0-1 [33.6 kB]\n",
      "Get:30 http://deb.debian.org/debian buster/main amd64 libxcb-glx0 amd64 1.13.1-2 [116 kB]\n",
      "Get:31 http://security.debian.org/debian-security buster/updates/main amd64 libgstreamer-plugins-base1.0-0 amd64 1.14.4-2+deb10u2 [1937 kB]\n",
      "Get:32 http://deb.debian.org/debian buster/main amd64 libxfixes3 amd64 1:5.0.3-1 [21.9 kB]\n",
      "Get:33 http://deb.debian.org/debian buster/main amd64 libxdamage1 amd64 1:1.1.4-3+b3 [14.9 kB]\n",
      "Get:34 http://deb.debian.org/debian buster/main amd64 libxxf86vm1 amd64 1:1.1.4-1+b2 [20.8 kB]\n",
      "Get:35 http://deb.debian.org/debian buster/main amd64 libdrm-amdgpu1 amd64 2.4.97-1 [27.3 kB]\n",
      "Get:36 http://deb.debian.org/debian buster/main amd64 libpciaccess0 amd64 0.14-1 [53.5 kB]\n",
      "Get:37 http://deb.debian.org/debian buster/main amd64 libdrm-intel1 amd64 2.4.97-1 [69.8 kB]\n",
      "Get:38 http://deb.debian.org/debian buster/main amd64 libdrm-nouveau2 amd64 2.4.97-1 [26.3 kB]\n",
      "Get:39 http://deb.debian.org/debian buster/main amd64 libdrm-radeon1 amd64 2.4.97-1 [31.1 kB]\n",
      "Get:40 http://deb.debian.org/debian buster/main amd64 libelf1 amd64 0.176-1.1 [161 kB]3m\n",
      "Get:41 http://security.debian.org/debian-security buster/updates/main amd64 libxslt1.1 amd64 1.1.32-2.2~deb10u2 [236 kB]\n",
      "Get:42 http://deb.debian.org/debian buster/main amd64 libllvm7 amd64 1:7.0.1-8+deb10u2 [13.1 MB]\n",
      "Get:43 http://security.debian.org/debian-security buster/updates/main amd64 udev amd64 241-7~deb10u10 [1278 kB]\n",
      "Get:44 http://security.debian.org/debian-security buster/updates/main amd64 libpam-systemd amd64 241-7~deb10u10 [209 kB]\n",
      "Get:45 http://security.debian.org/debian-security buster/updates/main amd64 libavahi-core7 amd64 0.7-4+deb10u3 [115 kB]\n",
      "Get:46 http://security.debian.org/debian-security buster/updates/main amd64 avahi-daemon amd64 0.7-4+deb10u3 [93.4 kB]\n",
      "Get:47 http://security.debian.org/debian-security buster/updates/main amd64 dbus-user-session amd64 1.12.24-0+deb10u1 [97.9 kB]\n",
      "Get:48 http://security.debian.org/debian-security buster/updates/main amd64 libavahi-glib1 amd64 0.7-4+deb10u3 [40.4 kB]\n",
      "Get:49 http://security.debian.org/debian-security buster/updates/main amd64 gstreamer1.0-plugins-base amd64 1.14.4-2+deb10u2 [1791 kB]\n",
      "Get:50 http://security.debian.org/debian-security buster/updates/main amd64 xserver-common all 2:1.20.4-1+deb10u9 [2236 kB]\n",
      "Get:51 http://security.debian.org/debian-security buster/updates/main amd64 xnest amd64 2:1.20.4-1+deb10u9 [2856 kB]\n",
      "Get:52 http://security.debian.org/debian-security buster/updates/main amd64 libnss-systemd amd64 241-7~deb10u10 [205 kB]\n",
      "Get:53 http://security.debian.org/debian-security buster/updates/main amd64 wkhtmltopdf amd64 0.12.5-1+deb10u1 [206 kB]\n",
      "Get:54 http://deb.debian.org/debian buster/main amd64 libsensors-config all 1:3.5.0-3 [31.6 kB]\n",
      "Get:55 http://deb.debian.org/debian buster/main amd64 libsensors5 amd64 1:3.5.0-3 [52.6 kB]\n",
      "Get:56 http://deb.debian.org/debian buster/main amd64 libgl1-mesa-dri amd64 18.3.6-2+deb10u1 [6685 kB]\n",
      "Get:57 http://deb.debian.org/debian buster/main amd64 libglx-mesa0 amd64 18.3.6-2+deb10u1 [180 kB]\n",
      "Get:58 http://deb.debian.org/debian buster/main amd64 libglx0 amd64 1.1.0-1 [30.0 kB]\n",
      "Get:59 http://deb.debian.org/debian buster/main amd64 libgl1 amd64 1.1.0-1 [91.1 kB]\n",
      "Get:60 http://deb.debian.org/debian buster/main amd64 libevdev2 amd64 1.6.0+dfsg-1 [31.0 kB]\n",
      "Get:61 http://deb.debian.org/debian buster/main amd64 libmtdev1 amd64 1.1.5-1+b1 [22.3 kB]\n",
      "Get:62 http://deb.debian.org/debian buster/main amd64 libgudev-1.0-0 amd64 232-2 [13.6 kB]\n",
      "Get:63 http://deb.debian.org/debian buster/main amd64 libwacom-common all 0.32-1 [39.1 kB]\n",
      "Get:64 http://deb.debian.org/debian buster/main amd64 libwacom2 amd64 0.32-1 [18.8 kB]\n",
      "Get:65 http://deb.debian.org/debian buster/main amd64 libinput-bin amd64 1.12.6-2+deb10u1 [16.9 kB]\n",
      "Get:66 http://deb.debian.org/debian buster/main amd64 libinput10 amd64 1.12.6-2+deb10u1 [107 kB]\n",
      "Get:67 http://deb.debian.org/debian buster/main amd64 libqt5dbus5 amd64 5.11.3+dfsg1-1+deb10u5 [231 kB]\n",
      "Get:68 http://deb.debian.org/debian buster/main amd64 libqt5network5 amd64 5.11.3+dfsg1-1+deb10u5 [671 kB]\n",
      "Get:69 http://deb.debian.org/debian buster/main amd64 libxcb-icccm4 amd64 0.4.1-1.1 [27.4 kB]\n",
      "Get:70 http://deb.debian.org/debian buster/main amd64 libxcb-util0 amd64 0.3.8-3+b2 [23.0 kB]\n",
      "Get:71 http://deb.debian.org/debian buster/main amd64 libxcb-image0 amd64 0.4.0-1+b2 [24.4 kB]\n",
      "Get:72 http://deb.debian.org/debian buster/main amd64 libxcb-keysyms1 amd64 0.4.0-1+b2 [16.4 kB]\n",
      "Get:73 http://deb.debian.org/debian buster/main amd64 libxcb-randr0 amd64 1.13.1-2 [110 kB]\n",
      "Get:74 http://deb.debian.org/debian buster/main amd64 libxcb-render-util0 amd64 0.3.9-1+b1 [18.3 kB]\n",
      "Get:75 http://deb.debian.org/debian buster/main amd64 libxcb-shape0 amd64 1.13.1-2 [99.5 kB]\n",
      "Get:76 http://deb.debian.org/debian buster/main amd64 libxcb-xinerama0 amd64 1.13.1-2 [98.9 kB]\n",
      "Get:77 http://deb.debian.org/debian buster/main amd64 libxcb-xkb1 amd64 1.13.1-2 [123 kB]\n",
      "Get:78 http://deb.debian.org/debian buster/main amd64 libxi6 amd64 2:1.7.9-1 [82.6 kB]\n",
      "Get:79 http://deb.debian.org/debian buster/main amd64 xkb-data all 2.26-2 [681 kB]\n",
      "Get:80 http://deb.debian.org/debian buster/main amd64 libxkbcommon0 amd64 0.8.2-1 [123 kB]\n",
      "Get:81 http://deb.debian.org/debian buster/main amd64 libxkbcommon-x11-0 amd64 0.8.2-1 [39.4 kB]\n",
      "Get:82 http://deb.debian.org/debian buster/main amd64 libqt5gui5 amd64 5.11.3+dfsg1-1+deb10u5 [2843 kB]\n",
      "Get:83 http://deb.debian.org/debian buster/main amd64 libqt5widgets5 amd64 5.11.3+dfsg1-1+deb10u5 [2261 kB]\n",
      "Get:84 http://deb.debian.org/debian buster/main amd64 libqt5svg5 amd64 5.11.3-2 [131 kB]\n",
      "Get:85 http://deb.debian.org/debian buster/main amd64 libcap2-bin amd64 1:2.25-2 [28.8 kB]\n",
      "Get:86 http://deb.debian.org/debian buster/main amd64 libgstreamer1.0-0 amd64 1.14.4-1 [2103 kB]\n",
      "Get:87 http://deb.debian.org/debian buster/main amd64 liborc-0.4-0 amd64 1:0.4.28-3.1 [141 kB]\n",
      "Get:88 http://deb.debian.org/debian buster/main amd64 iso-codes all 4.2-1 [2713 kB]\n",
      "Get:89 http://deb.debian.org/debian buster/main amd64 libhyphen0 amd64 2.8.8-7 [32.5 kB]\n",
      "Get:90 http://deb.debian.org/debian buster/main amd64 libqt5positioning5 amd64 5.11.3+dfsg-2 [191 kB]\n",
      "Get:91 http://deb.debian.org/debian buster/main amd64 libqt5printsupport5 amd64 5.11.3+dfsg1-1+deb10u5 [217 kB]\n",
      "Get:92 http://deb.debian.org/debian buster/main amd64 libqt5qml5 amd64 5.11.3-4 [1222 kB]\n",
      "Get:93 http://deb.debian.org/debian buster/main amd64 libqt5quick5 amd64 5.11.3-4 [1278 kB]\n",
      "Get:94 http://deb.debian.org/debian buster/main amd64 libqt5sensors5 amd64 5.11.3-2 [116 kB]\n",
      "Get:95 http://deb.debian.org/debian buster/main amd64 libqt5webchannel5 amd64 5.11.3-2 [48.8 kB]\n",
      "Get:96 http://deb.debian.org/debian buster/main amd64 libbrotli1 amd64 1.0.7-2+deb10u1 [269 kB]\n",
      "Get:97 http://deb.debian.org/debian buster/main amd64 libwoff1 amd64 1.0.2-1 [43.2 kB]\n",
      "Get:98 http://deb.debian.org/debian buster/main amd64 libqt5webkit5 amd64 5.212.0~alpha2-21 [11.7 MB]\n",
      "Get:99 http://deb.debian.org/debian buster/main amd64 libgdk-pixbuf2.0-common all 2.38.1+dfsg-1 [316 kB]\n",
      "Get:100 http://deb.debian.org/debian buster/main amd64 libgdk-pixbuf2.0-0 amd64 2.38.1+dfsg-1 [177 kB]\n",
      "Get:101 http://deb.debian.org/debian buster/main amd64 gtk-update-icon-cache amd64 3.24.5-1 [81.7 kB]\n",
      "Get:102 http://deb.debian.org/debian buster/main amd64 libcroco3 amd64 0.6.12-3 [145 kB]\n",
      "Get:103 http://deb.debian.org/debian buster/main amd64 librsvg2-2 amd64 2.44.10-2.1+deb10u3 [1258 kB]\n",
      "Get:104 http://deb.debian.org/debian buster/main amd64 librsvg2-common amd64 2.44.10-2.1+deb10u3 [23.6 kB]\n",
      "Get:105 http://deb.debian.org/debian buster/main amd64 adwaita-icon-theme all 3.30.1-1 [11.7 MB]\n",
      "Get:106 http://deb.debian.org/debian buster/main amd64 libatspi2.0-0 amd64 2.30.0-7 [65.0 kB]\n",
      "Get:107 http://deb.debian.org/debian buster/main amd64 libxtst6 amd64 2:1.2.3-1 [27.8 kB]\n",
      "Get:108 http://deb.debian.org/debian buster/main amd64 at-spi2-core amd64 2.30.0-7 [70.7 kB]\n",
      "Get:109 http://deb.debian.org/debian buster/main amd64 libdaemon0 amd64 0.14-7 [15.0 kB]\n",
      "Get:110 http://deb.debian.org/debian buster/main amd64 libdconf1 amd64 0.30.1-2 [40.7 kB]\n",
      "Get:111 http://deb.debian.org/debian buster/main amd64 dconf-service amd64 0.30.1-2 [36.4 kB]\n",
      "Get:112 http://deb.debian.org/debian buster/main amd64 dconf-gsettings-backend amd64 0.30.1-2 [28.9 kB]\n",
      "Get:113 http://deb.debian.org/debian buster/main amd64 libjson-glib-1.0-common all 1.4.4-2 [52.3 kB]\n",
      "Get:114 http://deb.debian.org/debian buster/main amd64 libjson-glib-1.0-0 amd64 1.4.4-2 [61.2 kB]\n",
      "Get:115 http://deb.debian.org/debian buster/main amd64 libmm-glib0 amd64 1.10.0-1 [942 kB]\n",
      "Get:116 http://deb.debian.org/debian buster/main amd64 libnotify4 amd64 0.7.7-4 [29.0 kB]\n",
      "Get:117 http://deb.debian.org/debian buster/main amd64 libproxy1v5 amd64 0.4.15-5+deb10u1 [56.1 kB]\n",
      "Get:118 http://deb.debian.org/debian buster/main amd64 glib-networking-common all 2.58.0-2+deb10u2 [59.5 kB]\n",
      "Get:119 http://deb.debian.org/debian buster/main amd64 glib-networking-services amd64 2.58.0-2+deb10u2 [13.7 kB]\n",
      "Get:120 http://deb.debian.org/debian buster/main amd64 gsettings-desktop-schemas all 3.28.1-1 [529 kB]\n",
      "Get:121 http://deb.debian.org/debian buster/main amd64 glib-networking amd64 2.58.0-2+deb10u2 [54.6 kB]\n",
      "Get:122 http://deb.debian.org/debian buster/main amd64 libsoup2.4-1 amd64 2.64.2-2 [253 kB]\n",
      "Get:123 http://deb.debian.org/debian buster/main amd64 geoclue-2.0 amd64 2.5.2-1+deb10u1 [95.5 kB]\n",
      "Get:124 http://deb.debian.org/debian buster/main amd64 libcdparanoia0 amd64 3.10.2+debian-13 [49.4 kB]\n",
      "Get:125 http://deb.debian.org/debian buster/main amd64 libogg0 amd64 1.3.2-1+b1 [21.3 kB]\n",
      "Get:126 http://deb.debian.org/debian buster/main amd64 libopus0 amd64 1.3-1 [191 kB]\n",
      "Get:127 http://deb.debian.org/debian buster/main amd64 libtheora0 amd64 1.1.1+dfsg.1-15 [169 kB]\n",
      "Get:128 http://deb.debian.org/debian buster/main amd64 libvisual-0.4-0 amd64 0.4.0-15 [134 kB]\n",
      "Get:129 http://deb.debian.org/debian buster/main amd64 libvorbis0a amd64 1.3.6-2 [93.5 kB]\n",
      "Get:130 http://deb.debian.org/debian buster/main amd64 libvorbisenc2 amd64 1.3.6-2 [80.2 kB]\n",
      "Get:131 http://deb.debian.org/debian buster/main amd64 iio-sensor-proxy amd64 2.4-2 [45.7 kB]\n",
      "Get:132 http://deb.debian.org/debian buster/main amd64 libatk1.0-data all 2.30.0-2 [145 kB]\n",
      "Get:133 http://deb.debian.org/debian buster/main amd64 libatk1.0-0 amd64 2.30.0-2 [50.6 kB]\n",
      "Get:134 http://deb.debian.org/debian buster/main amd64 libatk-bridge2.0-0 amd64 2.30.0-5 [61.6 kB]\n",
      "Get:135 http://deb.debian.org/debian buster/main amd64 libcairo-gobject2 amd64 1.16.0-4+deb10u1 [125 kB]\n",
      "Get:136 http://deb.debian.org/debian buster/main amd64 libcolord2 amd64 1.4.3-4 [141 kB]\n",
      "Get:137 http://deb.debian.org/debian buster/main amd64 libepoxy0 amd64 1.5.3-0.1 [190 kB]\n",
      "Get:138 http://deb.debian.org/debian buster/main amd64 libfontenc1 amd64 1:1.1.3-1+b2 [24.4 kB]\n",
      "Get:139 http://deb.debian.org/debian buster/main amd64 libgdk-pixbuf2.0-bin amd64 2.38.1+dfsg-1 [24.1 kB]\n",
      "Get:140 http://deb.debian.org/debian buster/main amd64 libsoup-gnome2.4-1 amd64 2.64.2-2 [18.0 kB]\n",
      "Get:141 http://deb.debian.org/debian buster/main amd64 librest-0.7-0 amd64 0.8.1-1 [33.7 kB]\n",
      "Get:142 http://deb.debian.org/debian buster/main amd64 libwayland-cursor0 amd64 1.16.0-1 [14.1 kB]\n",
      "Get:143 http://deb.debian.org/debian buster/main amd64 libwayland-egl1 amd64 1.16.0-1 [8204 B]\n",
      "Get:144 http://deb.debian.org/debian buster/main amd64 libxcomposite1 amd64 1:0.4.4-2 [16.5 kB]\n",
      "Get:145 http://deb.debian.org/debian buster/main amd64 libxcursor1 amd64 1:1.1.15-2 [36.6 kB]\n",
      "Get:146 http://deb.debian.org/debian buster/main amd64 libxinerama1 amd64 2:1.1.4-2 [17.7 kB]\n",
      "Get:147 http://deb.debian.org/debian buster/main amd64 libxrandr2 amd64 2:1.5.1-1 [37.5 kB]\n",
      "Get:148 http://deb.debian.org/debian buster/main amd64 libgtk-3-common all 3.24.5-1 [3678 kB]\n",
      "Get:149 http://deb.debian.org/debian buster/main amd64 libgtk-3-0 amd64 3.24.5-1 [2580 kB]\n",
      "Get:150 http://deb.debian.org/debian buster/main amd64 libgtk-3-bin amd64 3.24.5-1 [114 kB]\n",
      "Get:151 http://deb.debian.org/debian buster/main amd64 libmbim-glib4 amd64 1.18.0-1 [157 kB]\n",
      "Get:152 http://deb.debian.org/debian buster/main amd64 libmbim-proxy amd64 1.18.0-1 [71.1 kB]\n",
      "Get:153 http://deb.debian.org/debian buster/main amd64 libnl-3-200 amd64 3.4.0-1 [63.0 kB]\n",
      "Get:154 http://deb.debian.org/debian buster/main amd64 libnl-genl-3-200 amd64 3.4.0-1 [21.0 kB]\n",
      "Get:155 http://deb.debian.org/debian buster/main amd64 libnl-route-3-200 amd64 3.4.0-1 [162 kB]\n",
      "Get:156 http://deb.debian.org/debian buster/main amd64 libnss-mdns amd64 0.14.1-1 [27.0 kB]\n",
      "Get:157 http://deb.debian.org/debian buster/main amd64 libpam-cap amd64 1:2.25-2 [14.3 kB]\n",
      "Get:158 http://deb.debian.org/debian buster/main amd64 libpcsclite1 amd64 1.8.24-1 [58.5 kB]\n",
      "Get:159 http://deb.debian.org/debian buster/main amd64 libpolkit-gobject-1-0 amd64 0.105-25+deb10u1 [46.2 kB]\n",
      "Get:160 http://deb.debian.org/debian buster/main amd64 libqmi-glib5 amd64 1.22.0-1.2 [508 kB]\n",
      "Get:161 http://deb.debian.org/debian buster/main amd64 libqmi-proxy amd64 1.22.0-1.2 [9460 B]\n",
      "Get:162 http://deb.debian.org/debian buster/main amd64 libqt5xmlpatterns5 amd64 5.11.3-2 [954 kB]\n",
      "Get:163 http://deb.debian.org/debian buster/main amd64 libunwind8 amd64 1.2.1-10~deb10u1 [51.1 kB]\n",
      "Get:164 http://deb.debian.org/debian buster/main amd64 libusb-1.0-0 amd64 2:1.0.22-2 [55.3 kB]\n",
      "Get:165 http://deb.debian.org/debian buster/main amd64 libwacom-bin amd64 0.32-1 [6820 B]\n",
      "Get:166 http://deb.debian.org/debian buster/main amd64 libxfont2 amd64 1:2.0.3-1 [135 kB]\n",
      "Get:167 http://deb.debian.org/debian buster/main amd64 libxkbfile1 amd64 1:1.0.9-2+b11 [76.0 kB]\n",
      "Get:168 http://deb.debian.org/debian buster/main amd64 modemmanager amd64 1.10.0-1 [1494 kB]\n",
      "Get:169 http://deb.debian.org/debian buster/main amd64 notification-daemon amd64 3.20.0-4 [61.0 kB]\n",
      "Get:170 http://deb.debian.org/debian buster/main amd64 qt5-gtk-platformtheme amd64 5.11.3+dfsg1-1+deb10u5 [149 kB]\n",
      "Get:171 http://deb.debian.org/debian buster/main amd64 qttranslations5-l10n all 5.11.3-2 [1501 kB]\n",
      "Get:172 http://deb.debian.org/debian buster/main amd64 libjim0.77 amd64 0.77+dfsg0-3 [116 kB]\n",
      "Get:173 http://deb.debian.org/debian buster/main amd64 usb-modeswitch-data all 20170806-2 [45.5 kB]\n",
      "Get:174 http://deb.debian.org/debian buster/main amd64 usb-modeswitch amd64 2.5.2+repack0-2 [58.0 kB]\n",
      "Get:175 http://deb.debian.org/debian buster/main amd64 wpasupplicant amd64 2:2.7+git20190128+0c1e29f-6+deb10u3 [1255 kB]\n",
      "Get:176 http://deb.debian.org/debian buster/main amd64 x11-xkb-utils amd64 7.7+4 [164 kB]\n",
      "Get:177 http://deb.debian.org/debian buster/main amd64 xfonts-encodings all 1:1.0.4-2 [574 kB]\n",
      "Get:178 http://deb.debian.org/debian buster/main amd64 xfonts-utils amd64 1:7.7+6 [93.0 kB]\n",
      "Get:179 http://deb.debian.org/debian buster/main amd64 xfonts-base all 1:1.0.5 [5897 kB]\n",
      "Fetched 106 MB in 1s (81.0 MB/s)        \u001b[0m\u001b[33m\n",
      "debconf: delaying package configuration, since apt-utils is not installed\n",
      "\n",
      "(Reading database ... 21265 files and directories currently installed.)\n",
      "Preparing to unpack .../libsystemd0_241-7~deb10u10_amd64.deb ...\n",
      "\u001b7\u001b[24;0f\u001b[42m\u001b[30mProgress: [  0%]\u001b[49m\u001b[39m [..........................................................] \u001b8Unpacking libsystemd0:amd64 (241-7~deb10u10) over (241-7~deb10u4) ...\n",
      "Setting up libsystemd0:amd64 (241-7~deb10u10) ...\n",
      "Selecting previously unselected package libargon2-1:amd64.\n",
      "(Reading database ... 21265 files and directories currently installed.)\n",
      "Preparing to unpack .../libargon2-1_0~20171227-0.2_amd64.deb ...\n",
      "Unpacking libargon2-1:amd64 (0~20171227-0.2) ...\n",
      "Preparing to unpack .../libudev1_241-7~deb10u10_amd64.deb ...\n",
      "Unpacking libudev1:amd64 (241-7~deb10u10) over (241-7~deb10u4) ...\n",
      "\u001b7\u001b[24;0f\u001b[42m\u001b[30mProgress: [  1%]\u001b[49m\u001b[39m [..........................................................] \u001b8Setting up libudev1:amd64 (241-7~deb10u10) ...\n",
      "Selecting previously unselected package dmsetup.\n",
      "(Reading database ... 21270 files and directories currently installed.)\n",
      "Preparing to unpack .../0-dmsetup_2%3a1.02.155-3_amd64.deb ...\n",
      "Unpacking dmsetup (2:1.02.155-3) ...\n",
      "Selecting previously unselected package libdevmapper1.02.1:amd64.\n",
      "Preparing to unpack .../1-libdevmapper1.02.1_2%3a1.02.155-3_amd64.deb ...\n",
      "Unpacking libdevmapper1.02.1:amd64 (2:1.02.155-3) ...\n",
      "Selecting previously unselected package libcryptsetup12:amd64.\n",
      "Preparing to unpack .../2-libcryptsetup12_2%3a2.1.0-5+deb10u2_amd64.deb ...\n",
      "\u001b7\u001b[24;0f\u001b[42m\u001b[30mProgress: [  2%]\u001b[49m\u001b[39m [#.........................................................] \u001b8Unpacking libcryptsetup12:amd64 (2:2.1.0-5+deb10u2) ...\n",
      "Selecting previously unselected package libip4tc0:amd64.\n",
      "Preparing to unpack .../3-libip4tc0_1.8.2-4_amd64.deb ...\n",
      "Unpacking libip4tc0:amd64 (1.8.2-4) ...\n",
      "Selecting previously unselected package libkmod2:amd64.\n",
      "Preparing to unpack .../4-libkmod2_26-1_amd64.deb ...\n",
      "Unpacking libkmod2:amd64 (26-1) ...\n",
      "Selecting previously unselected package systemd.\n",
      "Preparing to unpack .../5-systemd_241-7~deb10u10_amd64.deb ...\n",
      "Unpacking systemd (241-7~deb10u10) ...\n",
      "\u001b7\u001b[24;0f\u001b[42m\u001b[30mProgress: [  3%]\u001b[49m\u001b[39m [#.........................................................] \u001b8Setting up libargon2-1:amd64 (0~20171227-0.2) ...\n",
      "Setting up libip4tc0:amd64 (1.8.2-4) ...\n",
      "Setting up libkmod2:amd64 (26-1) ...\n",
      "Setting up libdevmapper1.02.1:amd64 (2:1.02.155-3) ...\n",
      "\u001b7\u001b[24;0f\u001b[42m\u001b[30mProgress: [  4%]\u001b[49m\u001b[39m [##........................................................] \u001b8Setting up libcryptsetup12:amd64 (2:2.1.0-5+deb10u2) ...\n",
      "Setting up systemd (241-7~deb10u10) ...\n",
      "Created symlink /etc/systemd/system/getty.target.wants/getty@tty1.service → /lib/systemd/system/getty@.service.\n",
      "Created symlink /etc/systemd/system/multi-user.target.wants/remote-fs.target → /lib/systemd/system/remote-fs.target.\n",
      "Created symlink /etc/systemd/system/dbus-org.freedesktop.timesync1.service → /lib/systemd/system/systemd-timesyncd.service.\n",
      "Created symlink /etc/systemd/system/sysinit.target.wants/systemd-timesyncd.service → /lib/systemd/system/systemd-timesyncd.service.\n",
      "Setting up dmsetup (2:1.02.155-3) ...\n",
      "\u001b7\u001b[24;0f\u001b[42m\u001b[30mProgress: [  5%]\u001b[49m\u001b[39m [##........................................................] \u001b8Selecting previously unselected package systemd-sysv.\n",
      "(Reading database ... 22070 files and directories currently installed.)\n",
      "Preparing to unpack .../000-systemd-sysv_241-7~deb10u10_amd64.deb ...\n",
      "Unpacking systemd-sysv (241-7~deb10u10) ...\n",
      "Selecting previously unselected package libdouble-conversion1:amd64.\n",
      "Preparing to unpack .../001-libdouble-conversion1_3.1.0-3_amd64.deb ...\n",
      "Unpacking libdouble-conversion1:amd64 (3.1.0-3) ...\n",
      "Selecting previously unselected package libpcre2-16-0:amd64.\n",
      "Preparing to unpack .../002-libpcre2-16-0_10.32-5+deb10u1_amd64.deb ...\n",
      "Unpacking libpcre2-16-0:amd64 (10.32-5+deb10u1) ...\n",
      "Selecting previously unselected package libqt5core5a:amd64.\n",
      "Preparing to unpack .../003-libqt5core5a_5.11.3+dfsg1-1+deb10u5_amd64.deb ...\n",
      "Unpacking libqt5core5a:amd64 (5.11.3+dfsg1-1+deb10u5) ...\n",
      "\u001b7\u001b[24;0f\u001b[42m\u001b[30mProgress: [  6%]\u001b[49m\u001b[39m [###.......................................................] \u001b8Selecting previously unselected package libdrm-common.\n",
      "Preparing to unpack .../004-libdrm-common_2.4.97-1_all.deb ...\n",
      "Unpacking libdrm-common (2.4.97-1) ...\n",
      "Selecting previously unselected package libdrm2:amd64.\n",
      "Preparing to unpack .../005-libdrm2_2.4.97-1_amd64.deb ...\n",
      "Unpacking libdrm2:amd64 (2.4.97-1) ...\n",
      "Selecting previously unselected package libglvnd0:amd64.\n",
      "Preparing to unpack .../006-libglvnd0_1.1.0-1_amd64.deb ...\n",
      "Unpacking libglvnd0:amd64 (1.1.0-1) ...\n",
      "Selecting previously unselected package libwayland-server0:amd64.\n",
      "Preparing to unpack .../007-libwayland-server0_1.16.0-1_amd64.deb ...\n",
      "\u001b7\u001b[24;0f\u001b[42m\u001b[30mProgress: [  7%]\u001b[49m\u001b[39m [####......................................................] \u001b8Unpacking libwayland-server0:amd64 (1.16.0-1) ...\n",
      "Selecting previously unselected package libgbm1:amd64.\n",
      "Preparing to unpack .../008-libgbm1_18.3.6-2+deb10u1_amd64.deb ...\n",
      "Unpacking libgbm1:amd64 (18.3.6-2+deb10u1) ...\n",
      "Selecting previously unselected package libglapi-mesa:amd64.\n",
      "Preparing to unpack .../009-libglapi-mesa_18.3.6-2+deb10u1_amd64.deb ...\n",
      "Unpacking libglapi-mesa:amd64 (18.3.6-2+deb10u1) ...\n",
      "Selecting previously unselected package libwayland-client0:amd64.\n",
      "Preparing to unpack .../010-libwayland-client0_1.16.0-1_amd64.deb ...\n",
      "Unpacking libwayland-client0:amd64 (1.16.0-1) ...\n",
      "\u001b7\u001b[24;0f\u001b[42m\u001b[30mProgress: [  8%]\u001b[49m\u001b[39m [####......................................................] \u001b8Selecting previously unselected package libx11-xcb1:amd64.\n",
      "Preparing to unpack .../011-libx11-xcb1_2%3a1.6.7-1+deb10u3_amd64.deb ...\n",
      "Unpacking libx11-xcb1:amd64 (2:1.6.7-1+deb10u3) ...\n",
      "Selecting previously unselected package libxcb-dri2-0:amd64.\n",
      "Preparing to unpack .../012-libxcb-dri2-0_1.13.1-2_amd64.deb ...\n",
      "Unpacking libxcb-dri2-0:amd64 (1.13.1-2) ...\n",
      "Selecting previously unselected package libxcb-dri3-0:amd64.\n",
      "Preparing to unpack .../013-libxcb-dri3-0_1.13.1-2_amd64.deb ...\n",
      "Unpacking libxcb-dri3-0:amd64 (1.13.1-2) ...\n",
      "Selecting previously unselected package libxcb-present0:amd64.\n",
      "Preparing to unpack .../014-libxcb-present0_1.13.1-2_amd64.deb ...\n",
      "\u001b7\u001b[24;0f\u001b[42m\u001b[30mProgress: [  9%]\u001b[49m\u001b[39m [#####.....................................................] \u001b8Unpacking libxcb-present0:amd64 (1.13.1-2) ...\n",
      "Selecting previously unselected package libxcb-sync1:amd64.\n",
      "Preparing to unpack .../015-libxcb-sync1_1.13.1-2_amd64.deb ...\n",
      "Unpacking libxcb-sync1:amd64 (1.13.1-2) ...\n",
      "Selecting previously unselected package libxcb-xfixes0:amd64.\n",
      "Preparing to unpack .../016-libxcb-xfixes0_1.13.1-2_amd64.deb ...\n",
      "Unpacking libxcb-xfixes0:amd64 (1.13.1-2) ...\n",
      "Selecting previously unselected package libxshmfence1:amd64.\n",
      "Preparing to unpack .../017-libxshmfence1_1.3-1_amd64.deb ...\n",
      "Unpacking libxshmfence1:amd64 (1.3-1) ...\n",
      "\u001b7\u001b[24;0f\u001b[42m\u001b[30mProgress: [ 10%]\u001b[49m\u001b[39m [#####.....................................................] \u001b8Selecting previously unselected package libegl-mesa0:amd64.\n",
      "Preparing to unpack .../018-libegl-mesa0_18.3.6-2+deb10u1_amd64.deb ...\n",
      "Unpacking libegl-mesa0:amd64 (18.3.6-2+deb10u1) ...\n",
      "Selecting previously unselected package libegl1:amd64.\n",
      "Preparing to unpack .../019-libegl1_1.1.0-1_amd64.deb ...\n",
      "Unpacking libegl1:amd64 (1.1.0-1) ...\n",
      "Selecting previously unselected package libxcb-glx0:amd64.\n",
      "Preparing to unpack .../020-libxcb-glx0_1.13.1-2_amd64.deb ...\n",
      "Unpacking libxcb-glx0:amd64 (1.13.1-2) ...\n",
      "Selecting previously unselected package libxfixes3:amd64.\n",
      "Preparing to unpack .../021-libxfixes3_1%3a5.0.3-1_amd64.deb ...\n",
      "\u001b7\u001b[24;0f\u001b[42m\u001b[30mProgress: [ 11%]\u001b[49m\u001b[39m [######....................................................] \u001b8Unpacking libxfixes3:amd64 (1:5.0.3-1) ...\n",
      "Selecting previously unselected package libxdamage1:amd64.\n",
      "Preparing to unpack .../022-libxdamage1_1%3a1.1.4-3+b3_amd64.deb ...\n",
      "Unpacking libxdamage1:amd64 (1:1.1.4-3+b3) ...\n",
      "Selecting previously unselected package libxxf86vm1:amd64.\n",
      "Preparing to unpack .../023-libxxf86vm1_1%3a1.1.4-1+b2_amd64.deb ...\n",
      "Unpacking libxxf86vm1:amd64 (1:1.1.4-1+b2) ...\n",
      "Selecting previously unselected package libdrm-amdgpu1:amd64.\n",
      "Preparing to unpack .../024-libdrm-amdgpu1_2.4.97-1_amd64.deb ...\n",
      "Unpacking libdrm-amdgpu1:amd64 (2.4.97-1) ...\n",
      "Selecting previously unselected package libpciaccess0:amd64.\n",
      "Preparing to unpack .../025-libpciaccess0_0.14-1_amd64.deb ...\n",
      "\u001b7\u001b[24;0f\u001b[42m\u001b[30mProgress: [ 12%]\u001b[49m\u001b[39m [#######...................................................] \u001b8Unpacking libpciaccess0:amd64 (0.14-1) ...\n",
      "Selecting previously unselected package libdrm-intel1:amd64.\n",
      "Preparing to unpack .../026-libdrm-intel1_2.4.97-1_amd64.deb ...\n",
      "Unpacking libdrm-intel1:amd64 (2.4.97-1) ...\n",
      "Selecting previously unselected package libdrm-nouveau2:amd64.\n",
      "Preparing to unpack .../027-libdrm-nouveau2_2.4.97-1_amd64.deb ...\n",
      "Unpacking libdrm-nouveau2:amd64 (2.4.97-1) ...\n",
      "Selecting previously unselected package libdrm-radeon1:amd64.\n",
      "Preparing to unpack .../028-libdrm-radeon1_2.4.97-1_amd64.deb ...\n",
      "Unpacking libdrm-radeon1:amd64 (2.4.97-1) ...\n",
      "\u001b7\u001b[24;0f\u001b[42m\u001b[30mProgress: [ 13%]\u001b[49m\u001b[39m [#######...................................................] \u001b8Selecting previously unselected package libelf1:amd64.\n",
      "Preparing to unpack .../029-libelf1_0.176-1.1_amd64.deb ...\n",
      "Unpacking libelf1:amd64 (0.176-1.1) ...\n",
      "Selecting previously unselected package libllvm7:amd64.\n",
      "Preparing to unpack .../030-libllvm7_1%3a7.0.1-8+deb10u2_amd64.deb ...\n",
      "Unpacking libllvm7:amd64 (1:7.0.1-8+deb10u2) ...\n",
      "Selecting previously unselected package libsensors-config.\n",
      "Preparing to unpack .../031-libsensors-config_1%3a3.5.0-3_all.deb ...\n",
      "Unpacking libsensors-config (1:3.5.0-3) ...\n",
      "Selecting previously unselected package libsensors5:amd64.\n",
      "Preparing to unpack .../032-libsensors5_1%3a3.5.0-3_amd64.deb ...\n",
      "\u001b7\u001b[24;0f\u001b[42m\u001b[30mProgress: [ 14%]\u001b[49m\u001b[39m [########..................................................] \u001b8Unpacking libsensors5:amd64 (1:3.5.0-3) ...\n",
      "Selecting previously unselected package libgl1-mesa-dri:amd64.\n",
      "Preparing to unpack .../033-libgl1-mesa-dri_18.3.6-2+deb10u1_amd64.deb ...\n",
      "Unpacking libgl1-mesa-dri:amd64 (18.3.6-2+deb10u1) ...\n",
      "Selecting previously unselected package libglx-mesa0:amd64.\n",
      "Preparing to unpack .../034-libglx-mesa0_18.3.6-2+deb10u1_amd64.deb ...\n",
      "Unpacking libglx-mesa0:amd64 (18.3.6-2+deb10u1) ...\n",
      "Selecting previously unselected package libglx0:amd64.\n",
      "Preparing to unpack .../035-libglx0_1.1.0-1_amd64.deb ...\n",
      "Unpacking libglx0:amd64 (1.1.0-1) ...\n",
      "\u001b7\u001b[24;0f\u001b[42m\u001b[30mProgress: [ 15%]\u001b[49m\u001b[39m [########..................................................] \u001b8Selecting previously unselected package libgl1:amd64.\n",
      "Preparing to unpack .../036-libgl1_1.1.0-1_amd64.deb ...\n",
      "Unpacking libgl1:amd64 (1.1.0-1) ...\n",
      "Selecting previously unselected package libevdev2:amd64.\n",
      "Preparing to unpack .../037-libevdev2_1.6.0+dfsg-1_amd64.deb ...\n",
      "Unpacking libevdev2:amd64 (1.6.0+dfsg-1) ...\n",
      "Selecting previously unselected package libmtdev1:amd64.\n",
      "Preparing to unpack .../038-libmtdev1_1.1.5-1+b1_amd64.deb ...\n",
      "Unpacking libmtdev1:amd64 (1.1.5-1+b1) ...\n",
      "Selecting previously unselected package libgudev-1.0-0:amd64.\n",
      "Preparing to unpack .../039-libgudev-1.0-0_232-2_amd64.deb ...\n",
      "\u001b7\u001b[24;0f\u001b[42m\u001b[30mProgress: [ 16%]\u001b[49m\u001b[39m [#########.................................................] \u001b8Unpacking libgudev-1.0-0:amd64 (232-2) ...\n",
      "Selecting previously unselected package libwacom-common.\n",
      "Preparing to unpack .../040-libwacom-common_0.32-1_all.deb ...\n",
      "Unpacking libwacom-common (0.32-1) ...\n",
      "Selecting previously unselected package libwacom2:amd64.\n",
      "Preparing to unpack .../041-libwacom2_0.32-1_amd64.deb ...\n",
      "Unpacking libwacom2:amd64 (0.32-1) ...\n",
      "Selecting previously unselected package libinput-bin.\n",
      "Preparing to unpack .../042-libinput-bin_1.12.6-2+deb10u1_amd64.deb ...\n",
      "Unpacking libinput-bin (1.12.6-2+deb10u1) ...\n",
      "\u001b7\u001b[24;0f\u001b[42m\u001b[30mProgress: [ 17%]\u001b[49m\u001b[39m [#########.................................................] \u001b8Selecting previously unselected package libinput10:amd64.\n",
      "Preparing to unpack .../043-libinput10_1.12.6-2+deb10u1_amd64.deb ...\n",
      "Unpacking libinput10:amd64 (1.12.6-2+deb10u1) ...\n",
      "Selecting previously unselected package libqt5dbus5:amd64.\n",
      "Preparing to unpack .../044-libqt5dbus5_5.11.3+dfsg1-1+deb10u5_amd64.deb ...\n",
      "Unpacking libqt5dbus5:amd64 (5.11.3+dfsg1-1+deb10u5) ...\n",
      "Selecting previously unselected package libqt5network5:amd64.\n",
      "Preparing to unpack .../045-libqt5network5_5.11.3+dfsg1-1+deb10u5_amd64.deb ...\n",
      "Unpacking libqt5network5:amd64 (5.11.3+dfsg1-1+deb10u5) ...\n",
      "Selecting previously unselected package libxcb-icccm4:amd64.\n",
      "Preparing to unpack .../046-libxcb-icccm4_0.4.1-1.1_amd64.deb ...\n",
      "Unpacking libxcb-icccm4:amd64 (0.4.1-1.1) ...\n",
      "\u001b7\u001b[24;0f\u001b[42m\u001b[30mProgress: [ 18%]\u001b[49m\u001b[39m [##########................................................] \u001b8Selecting previously unselected package libxcb-util0:amd64.\n",
      "Preparing to unpack .../047-libxcb-util0_0.3.8-3+b2_amd64.deb ...\n",
      "Unpacking libxcb-util0:amd64 (0.3.8-3+b2) ...\n",
      "Selecting previously unselected package libxcb-image0:amd64.\n",
      "Preparing to unpack .../048-libxcb-image0_0.4.0-1+b2_amd64.deb ...\n",
      "Unpacking libxcb-image0:amd64 (0.4.0-1+b2) ...\n",
      "Selecting previously unselected package libxcb-keysyms1:amd64.\n",
      "Preparing to unpack .../049-libxcb-keysyms1_0.4.0-1+b2_amd64.deb ...\n",
      "Unpacking libxcb-keysyms1:amd64 (0.4.0-1+b2) ...\n",
      "Selecting previously unselected package libxcb-randr0:amd64.\n",
      "Preparing to unpack .../050-libxcb-randr0_1.13.1-2_amd64.deb ...\n",
      "\u001b7\u001b[24;0f\u001b[42m\u001b[30mProgress: [ 19%]\u001b[49m\u001b[39m [###########...............................................] \u001b8Unpacking libxcb-randr0:amd64 (1.13.1-2) ...\n",
      "Selecting previously unselected package libxcb-render-util0:amd64.\n",
      "Preparing to unpack .../051-libxcb-render-util0_0.3.9-1+b1_amd64.deb ...\n",
      "Unpacking libxcb-render-util0:amd64 (0.3.9-1+b1) ...\n",
      "Selecting previously unselected package libxcb-shape0:amd64.\n",
      "Preparing to unpack .../052-libxcb-shape0_1.13.1-2_amd64.deb ...\n",
      "Unpacking libxcb-shape0:amd64 (1.13.1-2) ...\n",
      "Selecting previously unselected package libxcb-xinerama0:amd64.\n",
      "Preparing to unpack .../053-libxcb-xinerama0_1.13.1-2_amd64.deb ...\n",
      "Unpacking libxcb-xinerama0:amd64 (1.13.1-2) ...\n",
      "\u001b7\u001b[24;0f\u001b[42m\u001b[30mProgress: [ 20%]\u001b[49m\u001b[39m [###########...............................................] \u001b8Selecting previously unselected package libxcb-xkb1:amd64.\n",
      "Preparing to unpack .../054-libxcb-xkb1_1.13.1-2_amd64.deb ...\n",
      "Unpacking libxcb-xkb1:amd64 (1.13.1-2) ...\n",
      "Selecting previously unselected package libxi6:amd64.\n",
      "Preparing to unpack .../055-libxi6_2%3a1.7.9-1_amd64.deb ...\n",
      "Unpacking libxi6:amd64 (2:1.7.9-1) ...\n",
      "Selecting previously unselected package xkb-data.\n",
      "Preparing to unpack .../056-xkb-data_2.26-2_all.deb ...\n",
      "Unpacking xkb-data (2.26-2) ...\n",
      "Selecting previously unselected package libxkbcommon0:amd64.\n",
      "Preparing to unpack .../057-libxkbcommon0_0.8.2-1_amd64.deb ...\n",
      "\u001b7\u001b[24;0f\u001b[42m\u001b[30mProgress: [ 21%]\u001b[49m\u001b[39m [############..............................................] \u001b8Unpacking libxkbcommon0:amd64 (0.8.2-1) ...\n",
      "Selecting previously unselected package libxkbcommon-x11-0:amd64.\n",
      "Preparing to unpack .../058-libxkbcommon-x11-0_0.8.2-1_amd64.deb ...\n",
      "Unpacking libxkbcommon-x11-0:amd64 (0.8.2-1) ...\n",
      "Selecting previously unselected package libqt5gui5:amd64.\n",
      "Preparing to unpack .../059-libqt5gui5_5.11.3+dfsg1-1+deb10u5_amd64.deb ...\n",
      "Unpacking libqt5gui5:amd64 (5.11.3+dfsg1-1+deb10u5) ...\n",
      "Selecting previously unselected package libqt5widgets5:amd64.\n",
      "Preparing to unpack .../060-libqt5widgets5_5.11.3+dfsg1-1+deb10u5_amd64.deb ...\n",
      "Unpacking libqt5widgets5:amd64 (5.11.3+dfsg1-1+deb10u5) ...\n",
      "\u001b7\u001b[24;0f\u001b[42m\u001b[30mProgress: [ 22%]\u001b[49m\u001b[39m [############..............................................] \u001b8Selecting previously unselected package libqt5svg5:amd64.\n",
      "Preparing to unpack .../061-libqt5svg5_5.11.3-2_amd64.deb ...\n",
      "Unpacking libqt5svg5:amd64 (5.11.3-2) ...\n",
      "Selecting previously unselected package libcap2-bin.\n",
      "Preparing to unpack .../062-libcap2-bin_1%3a2.25-2_amd64.deb ...\n",
      "Unpacking libcap2-bin (1:2.25-2) ...\n",
      "Selecting previously unselected package libgstreamer1.0-0:amd64.\n",
      "Preparing to unpack .../063-libgstreamer1.0-0_1.14.4-1_amd64.deb ...\n",
      "Unpacking libgstreamer1.0-0:amd64 (1.14.4-1) ...\n",
      "Selecting previously unselected package liborc-0.4-0:amd64.\n",
      "Preparing to unpack .../064-liborc-0.4-0_1%3a0.4.28-3.1_amd64.deb ...\n",
      "\u001b7\u001b[24;0f\u001b[42m\u001b[30mProgress: [ 23%]\u001b[49m\u001b[39m [#############.............................................] \u001b8Unpacking liborc-0.4-0:amd64 (1:0.4.28-3.1) ...\n",
      "Selecting previously unselected package iso-codes.\n",
      "Preparing to unpack .../065-iso-codes_4.2-1_all.deb ...\n",
      "Unpacking iso-codes (4.2-1) ...\n",
      "Selecting previously unselected package libgstreamer-plugins-base1.0-0:amd64.\n",
      "Preparing to unpack .../066-libgstreamer-plugins-base1.0-0_1.14.4-2+deb10u2_amd64.deb ...\n",
      "Unpacking libgstreamer-plugins-base1.0-0:amd64 (1.14.4-2+deb10u2) ...\n",
      "Selecting previously unselected package libhyphen0:amd64.\n",
      "Preparing to unpack .../067-libhyphen0_2.8.8-7_amd64.deb ...\n",
      "Unpacking libhyphen0:amd64 (2.8.8-7) ...\n",
      "Selecting previously unselected package libqt5positioning5:amd64.\n",
      "Preparing to unpack .../068-libqt5positioning5_5.11.3+dfsg-2_amd64.deb ...\n",
      "\u001b7\u001b[24;0f\u001b[42m\u001b[30mProgress: [ 24%]\u001b[49m\u001b[39m [#############.............................................] \u001b8Unpacking libqt5positioning5:amd64 (5.11.3+dfsg-2) ...\n",
      "Selecting previously unselected package libqt5printsupport5:amd64.\n",
      "Preparing to unpack .../069-libqt5printsupport5_5.11.3+dfsg1-1+deb10u5_amd64.deb ...\n",
      "Unpacking libqt5printsupport5:amd64 (5.11.3+dfsg1-1+deb10u5) ...\n",
      "Selecting previously unselected package libqt5qml5:amd64.\n",
      "Preparing to unpack .../070-libqt5qml5_5.11.3-4_amd64.deb ...\n",
      "Unpacking libqt5qml5:amd64 (5.11.3-4) ...\n",
      "Selecting previously unselected package libqt5quick5:amd64.\n",
      "Preparing to unpack .../071-libqt5quick5_5.11.3-4_amd64.deb ...\n",
      "Unpacking libqt5quick5:amd64 (5.11.3-4) ...\n",
      "\u001b7\u001b[24;0f\u001b[42m\u001b[30mProgress: [ 25%]\u001b[49m\u001b[39m [##############............................................] \u001b8Selecting previously unselected package libqt5sensors5:amd64.\n",
      "Preparing to unpack .../072-libqt5sensors5_5.11.3-2_amd64.deb ...\n",
      "Unpacking libqt5sensors5:amd64 (5.11.3-2) ...\n",
      "Selecting previously unselected package libqt5webchannel5:amd64.\n",
      "Preparing to unpack .../073-libqt5webchannel5_5.11.3-2_amd64.deb ...\n",
      "Unpacking libqt5webchannel5:amd64 (5.11.3-2) ...\n",
      "Selecting previously unselected package libbrotli1:amd64.\n",
      "Preparing to unpack .../074-libbrotli1_1.0.7-2+deb10u1_amd64.deb ...\n",
      "Unpacking libbrotli1:amd64 (1.0.7-2+deb10u1) ...\n",
      "Selecting previously unselected package libwoff1:amd64.\n",
      "Preparing to unpack .../075-libwoff1_1.0.2-1_amd64.deb ...\n",
      "\u001b7\u001b[24;0f\u001b[42m\u001b[30mProgress: [ 26%]\u001b[49m\u001b[39m [###############...........................................] \u001b8Unpacking libwoff1:amd64 (1.0.2-1) ...\n",
      "Selecting previously unselected package libxslt1.1:amd64.\n",
      "Preparing to unpack .../076-libxslt1.1_1.1.32-2.2~deb10u2_amd64.deb ...\n",
      "Unpacking libxslt1.1:amd64 (1.1.32-2.2~deb10u2) ...\n",
      "Selecting previously unselected package libqt5webkit5:amd64.\n",
      "Preparing to unpack .../077-libqt5webkit5_5.212.0~alpha2-21_amd64.deb ...\n",
      "Unpacking libqt5webkit5:amd64 (5.212.0~alpha2-21) ...\n",
      "Selecting previously unselected package udev.\n",
      "Preparing to unpack .../078-udev_241-7~deb10u10_amd64.deb ...\n",
      "Unpacking udev (241-7~deb10u10) ...\n",
      "Selecting previously unselected package libpam-systemd:amd64.\n",
      "Preparing to unpack .../079-libpam-systemd_241-7~deb10u10_amd64.deb ...\n",
      "\u001b7\u001b[24;0f\u001b[42m\u001b[30mProgress: [ 27%]\u001b[49m\u001b[39m [###############...........................................] \u001b8Unpacking libpam-systemd:amd64 (241-7~deb10u10) ...\n",
      "Selecting previously unselected package libgdk-pixbuf2.0-common.\n",
      "Preparing to unpack .../080-libgdk-pixbuf2.0-common_2.38.1+dfsg-1_all.deb ...\n",
      "Unpacking libgdk-pixbuf2.0-common (2.38.1+dfsg-1) ...\n",
      "Selecting previously unselected package libgdk-pixbuf2.0-0:amd64.\n",
      "Preparing to unpack .../081-libgdk-pixbuf2.0-0_2.38.1+dfsg-1_amd64.deb ...\n",
      "Unpacking libgdk-pixbuf2.0-0:amd64 (2.38.1+dfsg-1) ...\n",
      "Selecting previously unselected package gtk-update-icon-cache.\n",
      "Preparing to unpack .../082-gtk-update-icon-cache_3.24.5-1_amd64.deb ...\n",
      "No diversion 'diversion of /usr/sbin/update-icon-caches to /usr/sbin/update-icon-caches.gtk2 by libgtk-3-bin', none removed.\n",
      "No diversion 'diversion of /usr/share/man/man8/update-icon-caches.8.gz to /usr/share/man/man8/update-icon-caches.gtk2.8.gz by libgtk-3-bin', none removed.\n",
      "Unpacking gtk-update-icon-cache (3.24.5-1) ...\n",
      "\u001b7\u001b[24;0f\u001b[42m\u001b[30mProgress: [ 28%]\u001b[49m\u001b[39m [################..........................................] \u001b8Selecting previously unselected package libcroco3:amd64.\n",
      "Preparing to unpack .../083-libcroco3_0.6.12-3_amd64.deb ...\n",
      "Unpacking libcroco3:amd64 (0.6.12-3) ...\n",
      "Selecting previously unselected package librsvg2-2:amd64.\n",
      "Preparing to unpack .../084-librsvg2-2_2.44.10-2.1+deb10u3_amd64.deb ...\n",
      "Unpacking librsvg2-2:amd64 (2.44.10-2.1+deb10u3) ...\n",
      "Selecting previously unselected package librsvg2-common:amd64.\n",
      "Preparing to unpack .../085-librsvg2-common_2.44.10-2.1+deb10u3_amd64.deb ...\n",
      "Unpacking librsvg2-common:amd64 (2.44.10-2.1+deb10u3) ...\n",
      "Selecting previously unselected package adwaita-icon-theme.\n",
      "Preparing to unpack .../086-adwaita-icon-theme_3.30.1-1_all.deb ...\n",
      "\u001b7\u001b[24;0f\u001b[42m\u001b[30mProgress: [ 29%]\u001b[49m\u001b[39m [################..........................................] \u001b8Unpacking adwaita-icon-theme (3.30.1-1) ...\n",
      "Selecting previously unselected package libatspi2.0-0:amd64.\n",
      "Preparing to unpack .../087-libatspi2.0-0_2.30.0-7_amd64.deb ...\n",
      "Unpacking libatspi2.0-0:amd64 (2.30.0-7) ...\n",
      "Selecting previously unselected package libxtst6:amd64.\n",
      "Preparing to unpack .../088-libxtst6_2%3a1.2.3-1_amd64.deb ...\n",
      "Unpacking libxtst6:amd64 (2:1.2.3-1) ...\n",
      "Selecting previously unselected package at-spi2-core.\n",
      "Preparing to unpack .../089-at-spi2-core_2.30.0-7_amd64.deb ...\n",
      "Unpacking at-spi2-core (2.30.0-7) ...\n",
      "\u001b7\u001b[24;0f\u001b[42m\u001b[30mProgress: [ 30%]\u001b[49m\u001b[39m [#################.........................................] \u001b8Selecting previously unselected package libavahi-core7:amd64.\n",
      "Preparing to unpack .../090-libavahi-core7_0.7-4+deb10u3_amd64.deb ...\n",
      "Unpacking libavahi-core7:amd64 (0.7-4+deb10u3) ...\n",
      "Selecting previously unselected package libdaemon0:amd64.\n",
      "Preparing to unpack .../091-libdaemon0_0.14-7_amd64.deb ...\n",
      "Unpacking libdaemon0:amd64 (0.14-7) ...\n",
      "Selecting previously unselected package avahi-daemon.\n",
      "Preparing to unpack .../092-avahi-daemon_0.7-4+deb10u3_amd64.deb ...\n",
      "Unpacking avahi-daemon (0.7-4+deb10u3) ...\n",
      "Selecting previously unselected package dbus-user-session.\n",
      "Preparing to unpack .../093-dbus-user-session_1.12.24-0+deb10u1_amd64.deb ...\n",
      "\u001b7\u001b[24;0f\u001b[42m\u001b[30mProgress: [ 31%]\u001b[49m\u001b[39m [#################.........................................] \u001b8Unpacking dbus-user-session (1.12.24-0+deb10u1) ...\n",
      "Selecting previously unselected package libdconf1:amd64.\n",
      "Preparing to unpack .../094-libdconf1_0.30.1-2_amd64.deb ...\n",
      "Unpacking libdconf1:amd64 (0.30.1-2) ...\n",
      "Selecting previously unselected package dconf-service.\n",
      "Preparing to unpack .../095-dconf-service_0.30.1-2_amd64.deb ...\n",
      "Unpacking dconf-service (0.30.1-2) ...\n",
      "Selecting previously unselected package dconf-gsettings-backend:amd64.\n",
      "Preparing to unpack .../096-dconf-gsettings-backend_0.30.1-2_amd64.deb ...\n",
      "Unpacking dconf-gsettings-backend:amd64 (0.30.1-2) ...\n",
      "Selecting previously unselected package libavahi-glib1:amd64.\n",
      "Preparing to unpack .../097-libavahi-glib1_0.7-4+deb10u3_amd64.deb ...\n",
      "\u001b7\u001b[24;0f\u001b[42m\u001b[30mProgress: [ 32%]\u001b[49m\u001b[39m [##################........................................] \u001b8Unpacking libavahi-glib1:amd64 (0.7-4+deb10u3) ...\n",
      "Selecting previously unselected package libjson-glib-1.0-common.\n",
      "Preparing to unpack .../098-libjson-glib-1.0-common_1.4.4-2_all.deb ...\n",
      "Unpacking libjson-glib-1.0-common (1.4.4-2) ...\n",
      "Selecting previously unselected package libjson-glib-1.0-0:amd64.\n",
      "Preparing to unpack .../099-libjson-glib-1.0-0_1.4.4-2_amd64.deb ...\n",
      "Unpacking libjson-glib-1.0-0:amd64 (1.4.4-2) ...\n",
      "Selecting previously unselected package libmm-glib0:amd64.\n",
      "Preparing to unpack .../100-libmm-glib0_1.10.0-1_amd64.deb ...\n",
      "Unpacking libmm-glib0:amd64 (1.10.0-1) ...\n",
      "\u001b7\u001b[24;0f\u001b[42m\u001b[30mProgress: [ 33%]\u001b[49m\u001b[39m [###################.......................................] \u001b8Selecting previously unselected package libnotify4:amd64.\n",
      "Preparing to unpack .../101-libnotify4_0.7.7-4_amd64.deb ...\n",
      "Unpacking libnotify4:amd64 (0.7.7-4) ...\n",
      "Selecting previously unselected package libproxy1v5:amd64.\n",
      "Preparing to unpack .../102-libproxy1v5_0.4.15-5+deb10u1_amd64.deb ...\n",
      "Unpacking libproxy1v5:amd64 (0.4.15-5+deb10u1) ...\n",
      "Selecting previously unselected package glib-networking-common.\n",
      "Preparing to unpack .../103-glib-networking-common_2.58.0-2+deb10u2_all.deb ...\n",
      "Unpacking glib-networking-common (2.58.0-2+deb10u2) ...\n",
      "Selecting previously unselected package glib-networking-services.\n",
      "Preparing to unpack .../104-glib-networking-services_2.58.0-2+deb10u2_amd64.deb ...\n",
      "Unpacking glib-networking-services (2.58.0-2+deb10u2) ...\n",
      "\u001b7\u001b[24;0f\u001b[42m\u001b[30mProgress: [ 34%]\u001b[49m\u001b[39m [###################.......................................] \u001b8Selecting previously unselected package gsettings-desktop-schemas.\n",
      "Preparing to unpack .../105-gsettings-desktop-schemas_3.28.1-1_all.deb ...\n",
      "Unpacking gsettings-desktop-schemas (3.28.1-1) ...\n",
      "Selecting previously unselected package glib-networking:amd64.\n",
      "Preparing to unpack .../106-glib-networking_2.58.0-2+deb10u2_amd64.deb ...\n",
      "Unpacking glib-networking:amd64 (2.58.0-2+deb10u2) ...\n",
      "Selecting previously unselected package libsoup2.4-1:amd64.\n",
      "Preparing to unpack .../107-libsoup2.4-1_2.64.2-2_amd64.deb ...\n",
      "Unpacking libsoup2.4-1:amd64 (2.64.2-2) ...\n",
      "Selecting previously unselected package geoclue-2.0.\n",
      "Preparing to unpack .../108-geoclue-2.0_2.5.2-1+deb10u1_amd64.deb ...\n",
      "\u001b7\u001b[24;0f\u001b[42m\u001b[30mProgress: [ 35%]\u001b[49m\u001b[39m [####################......................................] \u001b8Unpacking geoclue-2.0 (2.5.2-1+deb10u1) ...\n",
      "Selecting previously unselected package libcdparanoia0:amd64.\n",
      "Preparing to unpack .../109-libcdparanoia0_3.10.2+debian-13_amd64.deb ...\n",
      "Unpacking libcdparanoia0:amd64 (3.10.2+debian-13) ...\n",
      "Selecting previously unselected package libogg0:amd64.\n",
      "Preparing to unpack .../110-libogg0_1.3.2-1+b1_amd64.deb ...\n",
      "Unpacking libogg0:amd64 (1.3.2-1+b1) ...\n",
      "Selecting previously unselected package libopus0:amd64.\n",
      "Preparing to unpack .../111-libopus0_1.3-1_amd64.deb ...\n",
      "Unpacking libopus0:amd64 (1.3-1) ...\n",
      "\u001b7\u001b[24;0f\u001b[42m\u001b[30mProgress: [ 36%]\u001b[49m\u001b[39m [####################......................................] \u001b8Selecting previously unselected package libtheora0:amd64.\n",
      "Preparing to unpack .../112-libtheora0_1.1.1+dfsg.1-15_amd64.deb ...\n",
      "Unpacking libtheora0:amd64 (1.1.1+dfsg.1-15) ...\n",
      "Selecting previously unselected package libvisual-0.4-0:amd64.\n",
      "Preparing to unpack .../113-libvisual-0.4-0_0.4.0-15_amd64.deb ...\n",
      "Unpacking libvisual-0.4-0:amd64 (0.4.0-15) ...\n",
      "Selecting previously unselected package libvorbis0a:amd64.\n",
      "Preparing to unpack .../114-libvorbis0a_1.3.6-2_amd64.deb ...\n",
      "Unpacking libvorbis0a:amd64 (1.3.6-2) ...\n",
      "Selecting previously unselected package libvorbisenc2:amd64.\n",
      "Preparing to unpack .../115-libvorbisenc2_1.3.6-2_amd64.deb ...\n",
      "\u001b7\u001b[24;0f\u001b[42m\u001b[30mProgress: [ 37%]\u001b[49m\u001b[39m [#####################.....................................] \u001b8Unpacking libvorbisenc2:amd64 (1.3.6-2) ...\n",
      "Selecting previously unselected package gstreamer1.0-plugins-base:amd64.\n",
      "Preparing to unpack .../116-gstreamer1.0-plugins-base_1.14.4-2+deb10u2_amd64.deb ...\n",
      "Unpacking gstreamer1.0-plugins-base:amd64 (1.14.4-2+deb10u2) ...\n",
      "Selecting previously unselected package iio-sensor-proxy.\n",
      "Preparing to unpack .../117-iio-sensor-proxy_2.4-2_amd64.deb ...\n",
      "Unpacking iio-sensor-proxy (2.4-2) ...\n",
      "Selecting previously unselected package libatk1.0-data.\n",
      "Preparing to unpack .../118-libatk1.0-data_2.30.0-2_all.deb ...\n",
      "Unpacking libatk1.0-data (2.30.0-2) ...\n",
      "\u001b7\u001b[24;0f\u001b[42m\u001b[30mProgress: [ 38%]\u001b[49m\u001b[39m [######################....................................] \u001b8Selecting previously unselected package libatk1.0-0:amd64.\n",
      "Preparing to unpack .../119-libatk1.0-0_2.30.0-2_amd64.deb ...\n",
      "Unpacking libatk1.0-0:amd64 (2.30.0-2) ...\n",
      "Selecting previously unselected package libatk-bridge2.0-0:amd64.\n",
      "Preparing to unpack .../120-libatk-bridge2.0-0_2.30.0-5_amd64.deb ...\n",
      "Unpacking libatk-bridge2.0-0:amd64 (2.30.0-5) ...\n",
      "Selecting previously unselected package libcairo-gobject2:amd64.\n",
      "Preparing to unpack .../121-libcairo-gobject2_1.16.0-4+deb10u1_amd64.deb ...\n",
      "Unpacking libcairo-gobject2:amd64 (1.16.0-4+deb10u1) ...\n",
      "Selecting previously unselected package libcolord2:amd64.\n",
      "Preparing to unpack .../122-libcolord2_1.4.3-4_amd64.deb ...\n",
      "Unpacking libcolord2:amd64 (1.4.3-4) ...\n",
      "\u001b7\u001b[24;0f\u001b[42m\u001b[30mProgress: [ 39%]\u001b[49m\u001b[39m [######################....................................] \u001b8Selecting previously unselected package libepoxy0:amd64.\n",
      "Preparing to unpack .../123-libepoxy0_1.5.3-0.1_amd64.deb ...\n",
      "Unpacking libepoxy0:amd64 (1.5.3-0.1) ...\n",
      "Selecting previously unselected package libfontenc1:amd64.\n",
      "Preparing to unpack .../124-libfontenc1_1%3a1.1.3-1+b2_amd64.deb ...\n",
      "Unpacking libfontenc1:amd64 (1:1.1.3-1+b2) ...\n",
      "Selecting previously unselected package libgdk-pixbuf2.0-bin.\n",
      "Preparing to unpack .../125-libgdk-pixbuf2.0-bin_2.38.1+dfsg-1_amd64.deb ...\n",
      "Unpacking libgdk-pixbuf2.0-bin (2.38.1+dfsg-1) ...\n",
      "Selecting previously unselected package libsoup-gnome2.4-1:amd64.\n",
      "Preparing to unpack .../126-libsoup-gnome2.4-1_2.64.2-2_amd64.deb ...\n",
      "\u001b7\u001b[24;0f\u001b[42m\u001b[30mProgress: [ 40%]\u001b[49m\u001b[39m [#######################...................................] \u001b8Unpacking libsoup-gnome2.4-1:amd64 (2.64.2-2) ...\n",
      "Selecting previously unselected package librest-0.7-0:amd64.\n",
      "Preparing to unpack .../127-librest-0.7-0_0.8.1-1_amd64.deb ...\n",
      "Unpacking librest-0.7-0:amd64 (0.8.1-1) ...\n",
      "Selecting previously unselected package libwayland-cursor0:amd64.\n",
      "Preparing to unpack .../128-libwayland-cursor0_1.16.0-1_amd64.deb ...\n",
      "Unpacking libwayland-cursor0:amd64 (1.16.0-1) ...\n",
      "Selecting previously unselected package libwayland-egl1:amd64.\n",
      "Preparing to unpack .../129-libwayland-egl1_1.16.0-1_amd64.deb ...\n",
      "Unpacking libwayland-egl1:amd64 (1.16.0-1) ...\n",
      "\u001b7\u001b[24;0f\u001b[42m\u001b[30mProgress: [ 41%]\u001b[49m\u001b[39m [#######################...................................] \u001b8Selecting previously unselected package libxcomposite1:amd64.\n",
      "Preparing to unpack .../130-libxcomposite1_1%3a0.4.4-2_amd64.deb ...\n",
      "Unpacking libxcomposite1:amd64 (1:0.4.4-2) ...\n",
      "Selecting previously unselected package libxcursor1:amd64.\n",
      "Preparing to unpack .../131-libxcursor1_1%3a1.1.15-2_amd64.deb ...\n",
      "Unpacking libxcursor1:amd64 (1:1.1.15-2) ...\n",
      "Selecting previously unselected package libxinerama1:amd64.\n",
      "Preparing to unpack .../132-libxinerama1_2%3a1.1.4-2_amd64.deb ...\n",
      "Unpacking libxinerama1:amd64 (2:1.1.4-2) ...\n",
      "Selecting previously unselected package libxrandr2:amd64.\n",
      "Preparing to unpack .../133-libxrandr2_2%3a1.5.1-1_amd64.deb ...\n",
      "\u001b7\u001b[24;0f\u001b[42m\u001b[30mProgress: [ 42%]\u001b[49m\u001b[39m [########################..................................] \u001b8Unpacking libxrandr2:amd64 (2:1.5.1-1) ...\n",
      "Selecting previously unselected package libgtk-3-common.\n",
      "Preparing to unpack .../134-libgtk-3-common_3.24.5-1_all.deb ...\n",
      "Unpacking libgtk-3-common (3.24.5-1) ...\n",
      "Selecting previously unselected package libgtk-3-0:amd64.\n",
      "Preparing to unpack .../135-libgtk-3-0_3.24.5-1_amd64.deb ...\n",
      "Unpacking libgtk-3-0:amd64 (3.24.5-1) ...\n",
      "Selecting previously unselected package libgtk-3-bin.\n",
      "Preparing to unpack .../136-libgtk-3-bin_3.24.5-1_amd64.deb ...\n",
      "Unpacking libgtk-3-bin (3.24.5-1) ...\n",
      "Selecting previously unselected package libmbim-glib4:amd64.\n",
      "Preparing to unpack .../137-libmbim-glib4_1.18.0-1_amd64.deb ...\n",
      "\u001b7\u001b[24;0f\u001b[42m\u001b[30mProgress: [ 43%]\u001b[49m\u001b[39m [#########################.................................] \u001b8Unpacking libmbim-glib4:amd64 (1.18.0-1) ...\n",
      "Selecting previously unselected package libmbim-proxy.\n",
      "Preparing to unpack .../138-libmbim-proxy_1.18.0-1_amd64.deb ...\n",
      "Unpacking libmbim-proxy (1.18.0-1) ...\n",
      "Selecting previously unselected package libnl-3-200:amd64.\n",
      "Preparing to unpack .../139-libnl-3-200_3.4.0-1_amd64.deb ...\n",
      "Unpacking libnl-3-200:amd64 (3.4.0-1) ...\n",
      "Selecting previously unselected package libnl-genl-3-200:amd64.\n",
      "Preparing to unpack .../140-libnl-genl-3-200_3.4.0-1_amd64.deb ...\n",
      "Unpacking libnl-genl-3-200:amd64 (3.4.0-1) ...\n",
      "\u001b7\u001b[24;0f\u001b[42m\u001b[30mProgress: [ 44%]\u001b[49m\u001b[39m [#########################.................................] \u001b8Selecting previously unselected package libnl-route-3-200:amd64.\n",
      "Preparing to unpack .../141-libnl-route-3-200_3.4.0-1_amd64.deb ...\n",
      "Unpacking libnl-route-3-200:amd64 (3.4.0-1) ...\n",
      "Selecting previously unselected package libnss-mdns:amd64.\n",
      "Preparing to unpack .../142-libnss-mdns_0.14.1-1_amd64.deb ...\n",
      "Unpacking libnss-mdns:amd64 (0.14.1-1) ...\n",
      "Selecting previously unselected package libpam-cap:amd64.\n",
      "Preparing to unpack .../143-libpam-cap_1%3a2.25-2_amd64.deb ...\n",
      "Unpacking libpam-cap:amd64 (1:2.25-2) ...\n",
      "Selecting previously unselected package libpcsclite1:amd64.\n",
      "Preparing to unpack .../144-libpcsclite1_1.8.24-1_amd64.deb ...\n",
      "\u001b7\u001b[24;0f\u001b[42m\u001b[30mProgress: [ 45%]\u001b[49m\u001b[39m [##########################................................] \u001b8Unpacking libpcsclite1:amd64 (1.8.24-1) ...\n",
      "Selecting previously unselected package libpolkit-gobject-1-0:amd64.\n",
      "Preparing to unpack .../145-libpolkit-gobject-1-0_0.105-25+deb10u1_amd64.deb ...\n",
      "Unpacking libpolkit-gobject-1-0:amd64 (0.105-25+deb10u1) ...\n",
      "Selecting previously unselected package libqmi-glib5:amd64.\n",
      "Preparing to unpack .../146-libqmi-glib5_1.22.0-1.2_amd64.deb ...\n",
      "Unpacking libqmi-glib5:amd64 (1.22.0-1.2) ...\n",
      "Selecting previously unselected package libqmi-proxy.\n",
      "Preparing to unpack .../147-libqmi-proxy_1.22.0-1.2_amd64.deb ...\n",
      "Unpacking libqmi-proxy (1.22.0-1.2) ...\n",
      "\u001b7\u001b[24;0f\u001b[42m\u001b[30mProgress: [ 46%]\u001b[49m\u001b[39m [##########################................................] \u001b8Selecting previously unselected package libqt5xmlpatterns5:amd64.\n",
      "Preparing to unpack .../148-libqt5xmlpatterns5_5.11.3-2_amd64.deb ...\n",
      "Unpacking libqt5xmlpatterns5:amd64 (5.11.3-2) ...\n",
      "Selecting previously unselected package libunwind8:amd64.\n",
      "Preparing to unpack .../149-libunwind8_1.2.1-10~deb10u1_amd64.deb ...\n",
      "Unpacking libunwind8:amd64 (1.2.1-10~deb10u1) ...\n",
      "Selecting previously unselected package libusb-1.0-0:amd64.\n",
      "Preparing to unpack .../150-libusb-1.0-0_2%3a1.0.22-2_amd64.deb ...\n",
      "Unpacking libusb-1.0-0:amd64 (2:1.0.22-2) ...\n",
      "Selecting previously unselected package libwacom-bin.\n",
      "Preparing to unpack .../151-libwacom-bin_0.32-1_amd64.deb ...\n",
      "\u001b7\u001b[24;0f\u001b[42m\u001b[30mProgress: [ 47%]\u001b[49m\u001b[39m [###########################...............................] \u001b8Unpacking libwacom-bin (0.32-1) ...\n",
      "Selecting previously unselected package libxfont2:amd64.\n",
      "Preparing to unpack .../152-libxfont2_1%3a2.0.3-1_amd64.deb ...\n",
      "Unpacking libxfont2:amd64 (1:2.0.3-1) ...\n",
      "Selecting previously unselected package libxkbfile1:amd64.\n",
      "Preparing to unpack .../153-libxkbfile1_1%3a1.0.9-2+b11_amd64.deb ...\n",
      "Unpacking libxkbfile1:amd64 (1:1.0.9-2+b11) ...\n",
      "Selecting previously unselected package modemmanager.\n",
      "Preparing to unpack .../154-modemmanager_1.10.0-1_amd64.deb ...\n",
      "Unpacking modemmanager (1.10.0-1) ...\n",
      "Selecting previously unselected package notification-daemon.\n",
      "Preparing to unpack .../155-notification-daemon_3.20.0-4_amd64.deb ...\n",
      "\u001b7\u001b[24;0f\u001b[42m\u001b[30mProgress: [ 48%]\u001b[49m\u001b[39m [###########################...............................] \u001b8Unpacking notification-daemon (3.20.0-4) ...\n",
      "Selecting previously unselected package qt5-gtk-platformtheme:amd64.\n",
      "Preparing to unpack .../156-qt5-gtk-platformtheme_5.11.3+dfsg1-1+deb10u5_amd64.deb ...\n",
      "Unpacking qt5-gtk-platformtheme:amd64 (5.11.3+dfsg1-1+deb10u5) ...\n",
      "Selecting previously unselected package qttranslations5-l10n.\n",
      "Preparing to unpack .../157-qttranslations5-l10n_5.11.3-2_all.deb ...\n",
      "Unpacking qttranslations5-l10n (5.11.3-2) ...\n",
      "Selecting previously unselected package libjim0.77:amd64.\n",
      "Preparing to unpack .../158-libjim0.77_0.77+dfsg0-3_amd64.deb ...\n",
      "Unpacking libjim0.77:amd64 (0.77+dfsg0-3) ...\n",
      "\u001b7\u001b[24;0f\u001b[42m\u001b[30mProgress: [ 49%]\u001b[49m\u001b[39m [############################..............................] \u001b8Selecting previously unselected package usb-modeswitch-data.\n",
      "Preparing to unpack .../159-usb-modeswitch-data_20170806-2_all.deb ...\n",
      "Unpacking usb-modeswitch-data (20170806-2) ...\n",
      "Selecting previously unselected package usb-modeswitch.\n",
      "Preparing to unpack .../160-usb-modeswitch_2.5.2+repack0-2_amd64.deb ...\n",
      "Unpacking usb-modeswitch (2.5.2+repack0-2) ...\n",
      "Selecting previously unselected package wpasupplicant.\n",
      "Preparing to unpack .../161-wpasupplicant_2%3a2.7+git20190128+0c1e29f-6+deb10u3_amd64.deb ...\n",
      "Unpacking wpasupplicant (2:2.7+git20190128+0c1e29f-6+deb10u3) ...\n",
      "Selecting previously unselected package x11-xkb-utils.\n",
      "Preparing to unpack .../162-x11-xkb-utils_7.7+4_amd64.deb ...\n",
      "\u001b7\u001b[24;0f\u001b[42m\u001b[30mProgress: [ 50%]\u001b[49m\u001b[39m [#############################.............................] \u001b8Unpacking x11-xkb-utils (7.7+4) ...\n",
      "Selecting previously unselected package xfonts-encodings.\n",
      "Preparing to unpack .../163-xfonts-encodings_1%3a1.0.4-2_all.deb ...\n",
      "Unpacking xfonts-encodings (1:1.0.4-2) ...\n",
      "Selecting previously unselected package xfonts-utils.\n",
      "Preparing to unpack .../164-xfonts-utils_1%3a7.7+6_amd64.deb ...\n",
      "Unpacking xfonts-utils (1:7.7+6) ...\n",
      "Selecting previously unselected package xfonts-base.\n",
      "Preparing to unpack .../165-xfonts-base_1%3a1.0.5_all.deb ...\n",
      "Unpacking xfonts-base (1:1.0.5) ...\n",
      "\u001b7\u001b[24;0f\u001b[42m\u001b[30mProgress: [ 51%]\u001b[49m\u001b[39m [#############################.............................] \u001b8Selecting previously unselected package xserver-common.\n",
      "Preparing to unpack .../166-xserver-common_2%3a1.20.4-1+deb10u9_all.deb ...\n",
      "Unpacking xserver-common (2:1.20.4-1+deb10u9) ...\n",
      "Selecting previously unselected package xnest.\n",
      "Preparing to unpack .../167-xnest_2%3a1.20.4-1+deb10u9_amd64.deb ...\n",
      "Unpacking xnest (2:1.20.4-1+deb10u9) ...\n",
      "Selecting previously unselected package libnss-systemd:amd64.\n",
      "Preparing to unpack .../168-libnss-systemd_241-7~deb10u10_amd64.deb ...\n",
      "Unpacking libnss-systemd:amd64 (241-7~deb10u10) ...\n",
      "Selecting previously unselected package wkhtmltopdf.\n",
      "Preparing to unpack .../169-wkhtmltopdf_0.12.5-1+deb10u1_amd64.deb ...\n",
      "\u001b7\u001b[24;0f\u001b[42m\u001b[30mProgress: [ 52%]\u001b[49m\u001b[39m [##############################............................] \u001b8Unpacking wkhtmltopdf (0.12.5-1+deb10u1) ...\n",
      "Setting up libxcb-dri3-0:amd64 (1.13.1-2) ...\n",
      "Setting up libcdparanoia0:amd64 (3.10.2+debian-13) ...\n",
      "Setting up libwayland-server0:amd64 (1.16.0-1) ...\n",
      "Setting up libx11-xcb1:amd64 (2:1.6.7-1+deb10u3) ...\n",
      "\u001b7\u001b[24;0f\u001b[42m\u001b[30mProgress: [ 53%]\u001b[49m\u001b[39m [##############################............................] \u001b8Setting up libpciaccess0:amd64 (0.14-1) ...\n",
      "Setting up systemd-sysv (241-7~deb10u10) ...\n",
      "Setting up libproxy1v5:amd64 (0.4.15-5+deb10u1) ...\n",
      "\u001b7\u001b[24;0f\u001b[42m\u001b[30mProgress: [ 54%]\u001b[49m\u001b[39m [###############################...........................] \u001b8Setting up libxcb-xfixes0:amd64 (1.13.1-2) ...\n",
      "Setting up libogg0:amd64 (1.3.2-1+b1) ...\n",
      "Setting up libxi6:amd64 (2:1.7.9-1) ...\n",
      "Setting up libhyphen0:amd64 (2.8.8-7) ...\n",
      "\u001b7\u001b[24;0f\u001b[42m\u001b[30mProgress: [ 55%]\u001b[49m\u001b[39m [###############################...........................] \u001b8Setting up libvisual-0.4-0:amd64 (0.4.0-15) ...\n",
      "Setting up libglvnd0:amd64 (1.1.0-1) ...\n",
      "Setting up libxtst6:amd64 (2:1.2.3-1) ...\n",
      "\u001b7\u001b[24;0f\u001b[42m\u001b[30mProgress: [ 56%]\u001b[49m\u001b[39m [################################..........................] \u001b8Setting up libxcb-glx0:amd64 (1.13.1-2) ...\n",
      "Setting up libbrotli1:amd64 (1.0.7-2+deb10u1) ...\n",
      "Setting up libgdk-pixbuf2.0-common (2.38.1+dfsg-1) ...\n",
      "Setting up libxcb-keysyms1:amd64 (0.4.0-1+b2) ...\n",
      "\u001b7\u001b[24;0f\u001b[42m\u001b[30mProgress: [ 57%]\u001b[49m\u001b[39m [#################################.........................] \u001b8Setting up libxcb-shape0:amd64 (1.13.1-2) ...\n",
      "Setting up libsensors-config (1:3.5.0-3) ...\n",
      "Setting up libnss-systemd:amd64 (241-7~deb10u10) ...\n",
      "First installation detected...\n",
      "Checking NSS setup...\n",
      "Setting up libxcb-render-util0:amd64 (0.3.9-1+b1) ...\n",
      "\u001b7\u001b[24;0f\u001b[42m\u001b[30mProgress: [ 58%]\u001b[49m\u001b[39m [#################################.........................] \u001b8Setting up xkb-data (2.26-2) ...\n",
      "Setting up libxcb-icccm4:amd64 (0.4.1-1.1) ...\n",
      "Setting up libatspi2.0-0:amd64 (2.30.0-7) ...\n",
      "\u001b7\u001b[24;0f\u001b[42m\u001b[30mProgress: [ 59%]\u001b[49m\u001b[39m [##################################........................] \u001b8Setting up libxcb-util0:amd64 (0.3.8-3+b2) ...\n",
      "Setting up libunwind8:amd64 (1.2.1-10~deb10u1) ...\n",
      "Setting up libpcre2-16-0:amd64 (10.32-5+deb10u1) ...\n",
      "Setting up libcolord2:amd64 (1.4.3-4) ...\n",
      "\u001b7\u001b[24;0f\u001b[42m\u001b[30mProgress: [ 60%]\u001b[49m\u001b[39m [##################################........................] \u001b8Setting up libxxf86vm1:amd64 (1:1.1.4-1+b2) ...\n",
      "Setting up libxcb-xkb1:amd64 (1.13.1-2) ...\n",
      "Setting up libxcb-image0:amd64 (0.4.0-1+b2) ...\n",
      "\u001b7\u001b[24;0f\u001b[42m\u001b[30mProgress: [ 61%]\u001b[49m\u001b[39m [###################################.......................] \u001b8Setting up libcap2-bin (1:2.25-2) ...\n",
      "Setting up libxcb-present0:amd64 (1.13.1-2) ...\n",
      "Setting up libdconf1:amd64 (0.30.1-2) ...\n",
      "Setting up libfontenc1:amd64 (1:1.1.3-1+b2) ...\n",
      "\u001b7\u001b[24;0f\u001b[42m\u001b[30mProgress: [ 62%]\u001b[49m\u001b[39m [####################################......................] \u001b8Setting up libxcb-xinerama0:amd64 (1.13.1-2) ...\n",
      "Setting up qttranslations5-l10n (5.11.3-2) ...\n",
      "Setting up libepoxy0:amd64 (1.5.3-0.1) ...\n",
      "Setting up libxfixes3:amd64 (1:5.0.3-1) ...\n",
      "\u001b7\u001b[24;0f\u001b[42m\u001b[30mProgress: [ 63%]\u001b[49m\u001b[39m [####################################......................] \u001b8Setting up libxcb-sync1:amd64 (1.13.1-2) ...\n",
      "Setting up libgdk-pixbuf2.0-0:amd64 (2.38.1+dfsg-1) ...\n",
      "Setting up xfonts-encodings (1:1.0.4-2) ...\n",
      "\u001b7\u001b[24;0f\u001b[42m\u001b[30mProgress: [ 64%]\u001b[49m\u001b[39m [#####################################.....................] \u001b8Setting up libopus0:amd64 (1.3-1) ...\n",
      "Setting up libxinerama1:amd64 (2:1.1.4-2) ...\n",
      "Setting up usb-modeswitch-data (20170806-2) ...\n",
      "Setting up libvorbis0a:amd64 (1.3.6-2) ...\n",
      "\u001b7\u001b[24;0f\u001b[42m\u001b[30mProgress: [ 65%]\u001b[49m\u001b[39m [#####################################.....................] \u001b8Setting up udev (241-7~deb10u10) ...\n",
      "invoke-rc.d: could not determine current runlevel\n",
      "invoke-rc.d: policy-rc.d denied execution of start.\n",
      "Setting up libxrandr2:amd64 (2:1.5.1-1) ...\n",
      "Setting up liborc-0.4-0:amd64 (1:0.4.28-3.1) ...\n",
      "\u001b7\u001b[24;0f\u001b[42m\u001b[30mProgress: [ 66%]\u001b[49m\u001b[39m [######################################....................] \u001b8Setting up libcroco3:amd64 (0.6.12-3) ...\n",
      "Setting up libpcsclite1:amd64 (1.8.24-1) ...\n",
      "Setting up libsensors5:amd64 (1:3.5.0-3) ...\n",
      "Setting up libjim0.77:amd64 (0.77+dfsg0-3) ...\n",
      "\u001b7\u001b[24;0f\u001b[42m\u001b[30mProgress: [ 67%]\u001b[49m\u001b[39m [######################################....................] \u001b8Setting up libglapi-mesa:amd64 (18.3.6-2+deb10u1) ...\n",
      "Setting up libmtdev1:amd64 (1.1.5-1+b1) ...\n",
      "Setting up libxcb-dri2-0:amd64 (1.13.1-2) ...\n",
      "Setting up libatk1.0-data (2.30.0-2) ...\n",
      "\u001b7\u001b[24;0f\u001b[42m\u001b[30mProgress: [ 68%]\u001b[49m\u001b[39m [#######################################...................] \u001b8Setting up at-spi2-core (2.30.0-7) ...\n",
      "Setting up libxshmfence1:amd64 (1.3-1) ...\n",
      "Setting up libmm-glib0:amd64 (1.10.0-1) ...\n",
      "\u001b7\u001b[24;0f\u001b[42m\u001b[30mProgress: [ 69%]\u001b[49m\u001b[39m [########################################..................] \u001b8Setting up libgdk-pixbuf2.0-bin (2.38.1+dfsg-1) ...\n",
      "Setting up libxcb-randr0:amd64 (1.13.1-2) ...\n",
      "Setting up libtheora0:amd64 (1.1.1+dfsg.1-15) ...\n",
      "Setting up libxslt1.1:amd64 (1.1.32-2.2~deb10u2) ...\n",
      "\u001b7\u001b[24;0f\u001b[42m\u001b[30mProgress: [ 70%]\u001b[49m\u001b[39m [########################################..................] \u001b8Setting up libnl-3-200:amd64 (3.4.0-1) ...\n",
      "Setting up libpam-systemd:amd64 (241-7~deb10u10) ...\n",
      "Setting up libllvm7:amd64 (1:7.0.1-8+deb10u2) ...\n",
      "\u001b7\u001b[24;0f\u001b[42m\u001b[30mProgress: [ 71%]\u001b[49m\u001b[39m [#########################################.................] \u001b8Setting up libavahi-glib1:amd64 (0.7-4+deb10u3) ...\n",
      "Setting up libjson-glib-1.0-common (1.4.4-2) ...\n",
      "Setting up libcairo-gobject2:amd64 (1.16.0-4+deb10u1) ...\n",
      "Setting up libatk1.0-0:amd64 (2.30.0-2) ...\n",
      "\u001b7\u001b[24;0f\u001b[42m\u001b[30mProgress: [ 72%]\u001b[49m\u001b[39m [#########################################.................] \u001b8Setting up libwayland-egl1:amd64 (1.16.0-1) ...\n",
      "Setting up libusb-1.0-0:amd64 (2:1.0.22-2) ...\n",
      "Setting up libxkbfile1:amd64 (1:1.0.9-2+b11) ...\n",
      "Setting up glib-networking-common (2.58.0-2+deb10u2) ...\n",
      "\u001b7\u001b[24;0f\u001b[42m\u001b[30mProgress: [ 73%]\u001b[49m\u001b[39m [##########################################................] \u001b8Setting up libdaemon0:amd64 (0.14-7) ...\n",
      "Setting up libavahi-core7:amd64 (0.7-4+deb10u3) ...\n",
      "Setting up libdrm-common (2.4.97-1) ...\n",
      "\u001b7\u001b[24;0f\u001b[42m\u001b[30mProgress: [ 74%]\u001b[49m\u001b[39m [##########################################................] \u001b8Setting up libelf1:amd64 (0.176-1.1) ...\n",
      "Setting up libxcomposite1:amd64 (1:0.4.4-2) ...\n",
      "Setting up libpam-cap:amd64 (1:2.25-2) ...\n",
      "Setting up libxfont2:amd64 (1:2.0.3-1) ...\n",
      "\u001b7\u001b[24;0f\u001b[42m\u001b[30mProgress: [ 75%]\u001b[49m\u001b[39m [###########################################...............] \u001b8Setting up libevdev2:amd64 (1.6.0+dfsg-1) ...\n",
      "Setting up libdouble-conversion1:amd64 (3.1.0-3) ...\n",
      "Setting up iso-codes (4.2-1) ...\n",
      "\u001b7\u001b[24;0f\u001b[42m\u001b[30mProgress: [ 76%]\u001b[49m\u001b[39m [############################################..............] \u001b8Setting up libgudev-1.0-0:amd64 (232-2) ...\n",
      "Setting up libpolkit-gobject-1-0:amd64 (0.105-25+deb10u1) ...\n",
      "Setting up libmbim-glib4:amd64 (1.18.0-1) ...\n",
      "Setting up libgstreamer1.0-0:amd64 (1.14.4-1) ...\n",
      "unable to set CAP_SETFCAP effective capability: Operation not permitted\n",
      "Setcap failed on gst-ptp-helper, falling back to setuid\n",
      "\u001b7\u001b[24;0f\u001b[42m\u001b[30mProgress: [ 77%]\u001b[49m\u001b[39m [############################################..............] \u001b8Setting up libvorbisenc2:amd64 (1.3.6-2) ...\n",
      "Setting up libwacom-common (0.32-1) ...\n",
      "Setting up libxkbcommon0:amd64 (0.8.2-1) ...\n",
      "Setting up libwayland-client0:amd64 (1.16.0-1) ...\n",
      "\u001b7\u001b[24;0f\u001b[42m\u001b[30mProgress: [ 78%]\u001b[49m\u001b[39m [#############################################.............] \u001b8Setting up glib-networking-services (2.58.0-2+deb10u2) ...\n",
      "Setting up gtk-update-icon-cache (3.24.5-1) ...\n",
      "Setting up iio-sensor-proxy (2.4-2) ...\n",
      "\u001b7\u001b[24;0f\u001b[42m\u001b[30mProgress: [ 79%]\u001b[49m\u001b[39m [#############################################.............] \u001b8Setting up libxdamage1:amd64 (1:1.1.4-3+b3) ...\n",
      "Setting up libwoff1:amd64 (1.0.2-1) ...\n",
      "Setting up x11-xkb-utils (7.7+4) ...\n",
      "Setting up libxcursor1:amd64 (1:1.1.15-2) ...\n",
      "\u001b7\u001b[24;0f\u001b[42m\u001b[30mProgress: [ 80%]\u001b[49m\u001b[39m [##############################################............] \u001b8Setting up libgstreamer-plugins-base1.0-0:amd64 (1.14.4-2+deb10u2) ...\n",
      "Setting up libmbim-proxy (1.18.0-1) ...\n",
      "Setting up xfonts-utils (1:7.7+6) ...\n",
      "Setting up libjson-glib-1.0-0:amd64 (1.4.4-2) ...\n",
      "\u001b7\u001b[24;0f\u001b[42m\u001b[30mProgress: [ 81%]\u001b[49m\u001b[39m [###############################################...........] \u001b8Setting up libnl-route-3-200:amd64 (3.4.0-1) ...\n",
      "Setting up librsvg2-2:amd64 (2.44.10-2.1+deb10u3) ...\n",
      "Setting up libatk-bridge2.0-0:amd64 (2.30.0-5) ...\n",
      "\u001b7\u001b[24;0f\u001b[42m\u001b[30mProgress: [ 82%]\u001b[49m\u001b[39m [###############################################...........] \u001b8Setting up dbus-user-session (1.12.24-0+deb10u1) ...\n",
      "Setting up xfonts-base (1:1.0.5) ...\n",
      "Setting up gstreamer1.0-plugins-base:amd64 (1.14.4-2+deb10u2) ...\n",
      "Setting up libnotify4:amd64 (0.7.7-4) ...\n",
      "\u001b7\u001b[24;0f\u001b[42m\u001b[30mProgress: [ 83%]\u001b[49m\u001b[39m [################################################..........] \u001b8Setting up libxkbcommon-x11-0:amd64 (0.8.2-1) ...\n",
      "Setting up librsvg2-common:amd64 (2.44.10-2.1+deb10u3) ...\n",
      "Setting up libqt5core5a:amd64 (5.11.3+dfsg1-1+deb10u5) ...\n",
      "Setting up libdrm2:amd64 (2.4.97-1) ...\n",
      "\u001b7\u001b[24;0f\u001b[42m\u001b[30mProgress: [ 84%]\u001b[49m\u001b[39m [################################################..........] \u001b8Setting up avahi-daemon (0.7-4+deb10u3) ...\n",
      "invoke-rc.d: could not determine current runlevel\n",
      "invoke-rc.d: policy-rc.d denied execution of force-reload.\n",
      "Created symlink /etc/systemd/system/dbus-org.freedesktop.Avahi.service → /lib/systemd/system/avahi-daemon.service.\n",
      "Created symlink /etc/systemd/system/multi-user.target.wants/avahi-daemon.service → /lib/systemd/system/avahi-daemon.service.\n",
      "Created symlink /etc/systemd/system/sockets.target.wants/avahi-daemon.socket → /lib/systemd/system/avahi-daemon.socket.\n",
      "invoke-rc.d: could not determine current runlevel\n",
      "invoke-rc.d: policy-rc.d denied execution of start.\n",
      "Setting up libqt5dbus5:amd64 (5.11.3+dfsg1-1+deb10u5) ...\n",
      "Setting up libwayland-cursor0:amd64 (1.16.0-1) ...\n",
      "Setting up libnl-genl-3-200:amd64 (3.4.0-1) ...\n",
      "\u001b7\u001b[24;0f\u001b[42m\u001b[30mProgress: [ 85%]\u001b[49m\u001b[39m [#################################################.........] \u001b8Setting up usb-modeswitch (2.5.2+repack0-2) ...\n",
      "Setting up xserver-common (2:1.20.4-1+deb10u9) ...\n",
      "Setting up libqt5sensors5:amd64 (5.11.3-2) ...\n",
      "\u001b7\u001b[24;0f\u001b[42m\u001b[30mProgress: [ 86%]\u001b[49m\u001b[39m [#################################################.........] \u001b8Setting up libnss-mdns:amd64 (0.14.1-1) ...\n",
      "First installation detected...\n",
      "Checking NSS setup...\n",
      "Setting up libwacom2:amd64 (0.32-1) ...\n",
      "Setting up libdrm-amdgpu1:amd64 (2.4.97-1) ...\n",
      "Setting up libdrm-nouveau2:amd64 (2.4.97-1) ...\n",
      "\u001b7\u001b[24;0f\u001b[42m\u001b[30mProgress: [ 87%]\u001b[49m\u001b[39m [##################################################........] \u001b8Setting up libgbm1:amd64 (18.3.6-2+deb10u1) ...\n",
      "Setting up libdrm-radeon1:amd64 (2.4.97-1) ...\n",
      "Setting up libqt5positioning5:amd64 (5.11.3+dfsg-2) ...\n",
      "Setting up libdrm-intel1:amd64 (2.4.97-1) ...\n",
      "\u001b7\u001b[24;0f\u001b[42m\u001b[30mProgress: [ 88%]\u001b[49m\u001b[39m [###################################################.......] \u001b8Setting up libgl1-mesa-dri:amd64 (18.3.6-2+deb10u1) ...\n",
      "Setting up libqmi-glib5:amd64 (1.22.0-1.2) ...\n",
      "Setting up dconf-service (0.30.1-2) ...\n",
      "\u001b7\u001b[24;0f\u001b[42m\u001b[30mProgress: [ 89%]\u001b[49m\u001b[39m [###################################################.......] \u001b8Setting up libqt5network5:amd64 (5.11.3+dfsg1-1+deb10u5) ...\n",
      "Setting up libinput-bin (1.12.6-2+deb10u1) ...\n",
      "Setting up wpasupplicant (2:2.7+git20190128+0c1e29f-6+deb10u3) ...\n",
      "Created symlink /etc/systemd/system/dbus-fi.w1.wpa_supplicant1.service → /lib/systemd/system/wpa_supplicant.service.\n",
      "Created symlink /etc/systemd/system/multi-user.target.wants/wpa_supplicant.service → /lib/systemd/system/wpa_supplicant.service.\n",
      "Setting up libegl-mesa0:amd64 (18.3.6-2+deb10u1) ...\n",
      "\u001b7\u001b[24;0f\u001b[42m\u001b[30mProgress: [ 90%]\u001b[49m\u001b[39m [####################################################......] \u001b8Setting up adwaita-icon-theme (3.30.1-1) ...\n",
      "update-alternatives: using /usr/share/icons/Adwaita/cursor.theme to provide /usr/share/icons/default/index.theme (x-cursor-theme) in auto mode\n",
      "Setting up libqt5qml5:amd64 (5.11.3-4) ...\n",
      "Setting up libqt5webchannel5:amd64 (5.11.3-2) ...\n",
      "\u001b7\u001b[24;0f\u001b[42m\u001b[30mProgress: [ 91%]\u001b[49m\u001b[39m [####################################################......] \u001b8Setting up libwacom-bin (0.32-1) ...\n",
      "Setting up libegl1:amd64 (1.1.0-1) ...\n",
      "Setting up libinput10:amd64 (1.12.6-2+deb10u1) ...\n",
      "Setting up libglx-mesa0:amd64 (18.3.6-2+deb10u1) ...\n",
      "\u001b7\u001b[24;0f\u001b[42m\u001b[30mProgress: [ 92%]\u001b[49m\u001b[39m [#####################################################.....] \u001b8Setting up libglx0:amd64 (1.1.0-1) ...\n",
      "Setting up dconf-gsettings-backend:amd64 (0.30.1-2) ...\n",
      "Setting up libqt5xmlpatterns5:amd64 (5.11.3-2) ...\n",
      "Setting up libqmi-proxy (1.22.0-1.2) ...\n",
      "\u001b7\u001b[24;0f\u001b[42m\u001b[30mProgress: [ 93%]\u001b[49m\u001b[39m [#####################################################.....] \u001b8Setting up libgl1:amd64 (1.1.0-1) ...\n",
      "Setting up xnest (2:1.20.4-1+deb10u9) ...\n",
      "Setting up modemmanager (1.10.0-1) ...\n",
      "Created symlink /etc/systemd/system/dbus-org.freedesktop.ModemManager1.service → /lib/systemd/system/ModemManager.service.\n",
      "Created symlink /etc/systemd/system/multi-user.target.wants/ModemManager.service → /lib/systemd/system/ModemManager.service.\n",
      "\u001b7\u001b[24;0f\u001b[42m\u001b[30mProgress: [ 94%]\u001b[49m\u001b[39m [######################################################....] \u001b8Setting up libgtk-3-common (3.24.5-1) ...\n",
      "Setting up gsettings-desktop-schemas (3.28.1-1) ...\n",
      "Setting up libqt5gui5:amd64 (5.11.3+dfsg1-1+deb10u5) ...\n",
      "Setting up libqt5widgets5:amd64 (5.11.3+dfsg1-1+deb10u5) ...\n",
      "Setting up libqt5printsupport5:amd64 (5.11.3+dfsg1-1+deb10u5) ...\n",
      "\u001b7\u001b[24;0f\u001b[42m\u001b[30mProgress: [ 95%]\u001b[49m\u001b[39m [#######################################################...] \u001b8Setting up libqt5quick5:amd64 (5.11.3-4) ...\n",
      "Setting up libqt5svg5:amd64 (5.11.3-2) ...\n",
      "Setting up libqt5webkit5:amd64 (5.212.0~alpha2-21) ...\n",
      "Setting up wkhtmltopdf (0.12.5-1+deb10u1) ...\n",
      "\u001b7\u001b[24;0f\u001b[42m\u001b[30mProgress: [ 96%]\u001b[49m\u001b[39m [#######################################################...] \u001b8Processing triggers for hicolor-icon-theme (0.17-2) ...\n",
      "Processing triggers for libglib2.0-0:amd64 (2.58.3-2+deb10u2) ...\n",
      "Processing triggers for libc-bin (2.28-10) ...\n",
      "Processing triggers for systemd (241-7~deb10u10) ...\n",
      "\u001b7\u001b[24;0f\u001b[42m\u001b[30mProgress: [ 97%]\u001b[49m\u001b[39m [########################################################..] \u001b8Processing triggers for dbus (1.12.24-0+deb10u1) ...\n",
      "Setting up glib-networking:amd64 (2.58.0-2+deb10u2) ...\n",
      "Processing triggers for fontconfig (2.13.1-2) ...\n",
      "Processing triggers for mime-support (3.62) ...\n",
      "Setting up libsoup2.4-1:amd64 (2.64.2-2) ...\n",
      "Setting up geoclue-2.0 (2.5.2-1+deb10u1) ...\n",
      "Setting up libsoup-gnome2.4-1:amd64 (2.64.2-2) ...\n",
      "\u001b7\u001b[24;0f\u001b[42m\u001b[30mProgress: [ 98%]\u001b[49m\u001b[39m [########################################################..] \u001b8Setting up librest-0.7-0:amd64 (0.8.1-1) ...\n",
      "Setting up libgtk-3-0:amd64 (3.24.5-1) ...\n",
      "Setting up libgtk-3-bin (3.24.5-1) ...\n",
      "\u001b7\u001b[24;0f\u001b[42m\u001b[30mProgress: [ 99%]\u001b[49m\u001b[39m [#########################################################.] \u001b8Setting up qt5-gtk-platformtheme:amd64 (5.11.3+dfsg1-1+deb10u5) ...\n",
      "Setting up notification-daemon (3.20.0-4) ...\n",
      "Processing triggers for libgdk-pixbuf2.0-0:amd64 (2.38.1+dfsg-1) ...\n",
      "Processing triggers for libc-bin (2.28-10) ...\n",
      "Processing triggers for dbus (1.12.24-0+deb10u1) ...\n",
      "\n",
      "\u001b7\u001b[0;24r\u001b8\u001b[1A\u001b[J"
     ]
    }
   ],
   "source": [
    "!apt install wkhtmltopdf -y"
   ]
  },
  {
   "cell_type": "markdown",
   "id": "2f236cc4-5b4a-4cd1-b618-568615935ac8",
   "metadata": {},
   "source": [
    "### Install certain libraries which are needed for this run.\n",
    "These are provided in the requirements.txt or you can run these cells to fine control which libraries you need"
   ]
  },
  {
   "cell_type": "code",
   "execution_count": 6,
   "id": "82f06cfc-04a8-4c05-bb05-81afb87f0c01",
   "metadata": {},
   "outputs": [
    {
     "name": "stdout",
     "output_type": "stream",
     "text": [
      "Requirement already satisfied: pip in /opt/conda/lib/python3.8/site-packages (23.2.1)\n",
      "\u001b[33mDEPRECATION: pyodbc 4.0.0-unsupported has a non-standard version number. pip 23.3 will enforce this behaviour change. A possible replacement is to upgrade to a newer version of pyodbc or contact the author to suggest that they release a version with a conforming version number. Discussion can be found at https://github.com/pypa/pip/issues/12063\u001b[0m\u001b[33m\n",
      "\u001b[0m\u001b[33mWARNING: Running pip as the 'root' user can result in broken permissions and conflicting behaviour with the system package manager. It is recommended to use a virtual environment instead: https://pip.pypa.io/warnings/venv\u001b[0m\u001b[33m\n",
      "\u001b[0m"
     ]
    }
   ],
   "source": [
    "!pip install --upgrade pip"
   ]
  },
  {
   "cell_type": "code",
   "execution_count": 7,
   "id": "e5489aa5-387b-411d-bf91-46e8c40f200e",
   "metadata": {},
   "outputs": [
    {
     "name": "stdout",
     "output_type": "stream",
     "text": [
      "\u001b[33mDEPRECATION: pyodbc 4.0.0-unsupported has a non-standard version number. pip 23.3 will enforce this behaviour change. A possible replacement is to upgrade to a newer version of pyodbc or contact the author to suggest that they release a version with a conforming version number. Discussion can be found at https://github.com/pypa/pip/issues/12063\u001b[0m\u001b[33m\n",
      "\u001b[0m\u001b[33mWARNING: Running pip as the 'root' user can result in broken permissions and conflicting behaviour with the system package manager. It is recommended to use a virtual environment instead: https://pip.pypa.io/warnings/venv\u001b[0m\u001b[33m\n",
      "\u001b[0m"
     ]
    }
   ],
   "source": [
    "!pip install langchain==0.0.161 --quiet"
   ]
  },
  {
   "cell_type": "code",
   "execution_count": 8,
   "id": "43b7502e-5d8b-491e-aa74-4190cfaafa6c",
   "metadata": {},
   "outputs": [],
   "source": [
    "# !pip install chromadb==0.3.21 --quiet"
   ]
  },
  {
   "cell_type": "code",
   "execution_count": 9,
   "id": "cfd86a6d-861c-47ac-994c-c6f76139e56f",
   "metadata": {},
   "outputs": [
    {
     "name": "stdout",
     "output_type": "stream",
     "text": [
      "\u001b[33mDEPRECATION: pyodbc 4.0.0-unsupported has a non-standard version number. pip 23.3 will enforce this behaviour change. A possible replacement is to upgrade to a newer version of pyodbc or contact the author to suggest that they release a version with a conforming version number. Discussion can be found at https://github.com/pypa/pip/issues/12063\u001b[0m\u001b[33m\n",
      "\u001b[0m\u001b[33mWARNING: Running pip as the 'root' user can result in broken permissions and conflicting behaviour with the system package manager. It is recommended to use a virtual environment instead: https://pip.pypa.io/warnings/venv\u001b[0m\u001b[33m\n",
      "\u001b[0m"
     ]
    }
   ],
   "source": [
    "!pip install langchain==0.0.161 boto3 html2text jinja2 --quiet"
   ]
  },
  {
   "cell_type": "code",
   "execution_count": 10,
   "id": "a663021e-ed72-438c-ad41-e7499a79dd36",
   "metadata": {},
   "outputs": [
    {
     "name": "stdout",
     "output_type": "stream",
     "text": [
      "\u001b[33mDEPRECATION: pyodbc 4.0.0-unsupported has a non-standard version number. pip 23.3 will enforce this behaviour change. A possible replacement is to upgrade to a newer version of pyodbc or contact the author to suggest that they release a version with a conforming version number. Discussion can be found at https://github.com/pypa/pip/issues/12063\u001b[0m\u001b[33m\n",
      "\u001b[0m\u001b[33mWARNING: Running pip as the 'root' user can result in broken permissions and conflicting behaviour with the system package manager. It is recommended to use a virtual environment instead: https://pip.pypa.io/warnings/venv\u001b[0m\u001b[33m\n",
      "\u001b[0m"
     ]
    }
   ],
   "source": [
    "!pip install faiss-cpu==1.7.4 --quiet"
   ]
  },
  {
   "cell_type": "code",
   "execution_count": 11,
   "id": "78cc98a3-f790-4fa8-b6e1-3a36eb91fe8d",
   "metadata": {},
   "outputs": [
    {
     "name": "stdout",
     "output_type": "stream",
     "text": [
      "\u001b[33mDEPRECATION: pyodbc 4.0.0-unsupported has a non-standard version number. pip 23.3 will enforce this behaviour change. A possible replacement is to upgrade to a newer version of pyodbc or contact the author to suggest that they release a version with a conforming version number. Discussion can be found at https://github.com/pypa/pip/issues/12063\u001b[0m\u001b[33m\n",
      "\u001b[0m\u001b[33mWARNING: Running pip as the 'root' user can result in broken permissions and conflicting behaviour with the system package manager. It is recommended to use a virtual environment instead: https://pip.pypa.io/warnings/venv\u001b[0m\u001b[33m\n",
      "\u001b[0m"
     ]
    }
   ],
   "source": [
    "!pip install pypdf==3.8.1 --quiet"
   ]
  },
  {
   "cell_type": "code",
   "execution_count": 12,
   "id": "79ff5932-0216-4b7c-93ac-cc98a8f59fb4",
   "metadata": {},
   "outputs": [
    {
     "name": "stdout",
     "output_type": "stream",
     "text": [
      "\u001b[33mDEPRECATION: pyodbc 4.0.0-unsupported has a non-standard version number. pip 23.3 will enforce this behaviour change. A possible replacement is to upgrade to a newer version of pyodbc or contact the author to suggest that they release a version with a conforming version number. Discussion can be found at https://github.com/pypa/pip/issues/12063\u001b[0m\u001b[33m\n",
      "\u001b[0m\u001b[33mWARNING: Running pip as the 'root' user can result in broken permissions and conflicting behaviour with the system package manager. It is recommended to use a virtual environment instead: https://pip.pypa.io/warnings/venv\u001b[0m\u001b[33m\n",
      "\u001b[0m"
     ]
    }
   ],
   "source": [
    "!pip install transformers==4.24.0 --quiet"
   ]
  },
  {
   "cell_type": "code",
   "execution_count": 13,
   "id": "7387c952-e1a4-4146-b3f5-cd100d845bf0",
   "metadata": {},
   "outputs": [
    {
     "name": "stdout",
     "output_type": "stream",
     "text": [
      "\u001b[33mDEPRECATION: pyodbc 4.0.0-unsupported has a non-standard version number. pip 23.3 will enforce this behaviour change. A possible replacement is to upgrade to a newer version of pyodbc or contact the author to suggest that they release a version with a conforming version number. Discussion can be found at https://github.com/pypa/pip/issues/12063\u001b[0m\u001b[33m\n",
      "\u001b[0m\u001b[33mWARNING: Running pip as the 'root' user can result in broken permissions and conflicting behaviour with the system package manager. It is recommended to use a virtual environment instead: https://pip.pypa.io/warnings/venv\u001b[0m\u001b[33m\n",
      "\u001b[0m"
     ]
    }
   ],
   "source": [
    "!pip install sentence_transformers==2.2.2 --quiet"
   ]
  },
  {
   "cell_type": "code",
   "execution_count": 14,
   "id": "d29080a1-2495-4dc8-80a9-3a23d4cb9805",
   "metadata": {},
   "outputs": [
    {
     "name": "stdout",
     "output_type": "stream",
     "text": [
      "Collecting pdfkit\n",
      "  Downloading pdfkit-1.0.0-py3-none-any.whl (12 kB)\n",
      "\u001b[33mDEPRECATION: pyodbc 4.0.0-unsupported has a non-standard version number. pip 23.3 will enforce this behaviour change. A possible replacement is to upgrade to a newer version of pyodbc or contact the author to suggest that they release a version with a conforming version number. Discussion can be found at https://github.com/pypa/pip/issues/12063\u001b[0m\u001b[33m\n",
      "\u001b[0mInstalling collected packages: pdfkit\n",
      "Successfully installed pdfkit-1.0.0\n",
      "\u001b[33mWARNING: Running pip as the 'root' user can result in broken permissions and conflicting behaviour with the system package manager. It is recommended to use a virtual environment instead: https://pip.pypa.io/warnings/venv\u001b[0m\u001b[33m\n",
      "\u001b[0m"
     ]
    }
   ],
   "source": [
    "!pip install pdfkit"
   ]
  },
  {
   "cell_type": "code",
   "execution_count": 15,
   "id": "d4da5b3e-c561-4d5f-ae2b-8259a334c42d",
   "metadata": {
    "tags": []
   },
   "outputs": [
    {
     "data": {
      "text/plain": [
       "'2.2.2'"
      ]
     },
     "execution_count": 15,
     "metadata": {},
     "output_type": "execute_result"
    }
   ],
   "source": [
    "import sentence_transformers \n",
    "sentence_transformers.__version__"
   ]
  },
  {
   "cell_type": "code",
   "execution_count": 16,
   "id": "ff62bf1a-d310-4728-9599-000119f3d259",
   "metadata": {
    "tags": []
   },
   "outputs": [
    {
     "name": "stdout",
     "output_type": "stream",
     "text": [
      "all libraries installed\n"
     ]
    }
   ],
   "source": [
    "print(\"all libraries installed\")"
   ]
  },
  {
   "cell_type": "markdown",
   "id": "86ffaebc-fd87-4f19-815c-6a1d8a5d760a",
   "metadata": {},
   "source": [
    "### Import statements for our chain and indexers. We are not using any explicit agent here"
   ]
  },
  {
   "cell_type": "code",
   "execution_count": 17,
   "id": "30079014-ff7c-4369-9964-cb6952df475f",
   "metadata": {
    "tags": []
   },
   "outputs": [
    {
     "name": "stdout",
     "output_type": "stream",
     "text": [
      "sagemaker.config INFO - Not applying SDK defaults from location: /etc/xdg/sagemaker/config.yaml\n",
      "sagemaker.config INFO - Not applying SDK defaults from location: /root/.config/sagemaker/config.yaml\n"
     ]
    }
   ],
   "source": [
    "#from aws_langchain.kendra_index_retriever import KendraIndexRetriever\n",
    "from langchain.chains import ConversationalRetrievalChain\n",
    "from langchain import SagemakerEndpoint\n",
    "from langchain.llms.sagemaker_endpoint import ContentHandlerBase\n",
    "from langchain.prompts import PromptTemplate\n",
    "import sys\n",
    "import json\n",
    "import os\n",
    "import time\n",
    "import sagemaker, boto3, json\n",
    "from sagemaker.session import Session\n",
    "from sagemaker.model import Model\n",
    "from sagemaker import image_uris, model_uris, script_uris, hyperparameters\n",
    "from sagemaker.predictor import Predictor\n",
    "from sagemaker.utils import name_from_base\n",
    "from typing import Any, Dict, List, Optional\n",
    "from langchain.embeddings import SagemakerEndpointEmbeddings\n",
    "from langchain.llms.sagemaker_endpoint import ContentHandlerBase"
   ]
  },
  {
   "cell_type": "code",
   "execution_count": 18,
   "id": "c88e0304-58a9-46c5-8999-e7b0411fc430",
   "metadata": {
    "tags": []
   },
   "outputs": [
    {
     "name": "stdout",
     "output_type": "stream",
     "text": [
      "sagemaker.config INFO - Not applying SDK defaults from location: /etc/xdg/sagemaker/config.yaml\n",
      "sagemaker.config INFO - Not applying SDK defaults from location: /root/.config/sagemaker/config.yaml\n"
     ]
    }
   ],
   "source": [
    "import sagemaker\n",
    "import boto3\n",
    "import jinja2\n",
    "role = sagemaker.get_execution_role()  # execution role for the endpoint"
   ]
  },
  {
   "cell_type": "markdown",
   "id": "4470f341-cc81-4660-b9a6-d04896992841",
   "metadata": {},
   "source": [
    "### [Optiona] Deploy a GPT-J embeddings Model - so we can use that to generate the embeddings for the documents"
   ]
  },
  {
   "cell_type": "markdown",
   "id": "ca003a4f-0834-4820-bd24-2dbd3b03cfd4",
   "metadata": {},
   "source": [
    "skip"
   ]
  },
  {
   "cell_type": "markdown",
   "id": "6d7e1a51-ed48-4e4c-96b1-9469b90a97af",
   "metadata": {},
   "source": [
    "### Use HuggingFaceEmbeddings in the workshop setting. \n",
    "If you are in a workshop, please use the below code. If you are using GPTJ model for generating the embeddings, please comment the below cell. "
   ]
  },
  {
   "cell_type": "code",
   "execution_count": 19,
   "id": "d534face-5d83-4043-ae73-0677134aede2",
   "metadata": {
    "tags": []
   },
   "outputs": [
    {
     "data": {
      "application/vnd.jupyter.widget-view+json": {
       "model_id": "499a356519cc4791a07aa4a84d96054c",
       "version_major": 2,
       "version_minor": 0
      },
      "text/plain": [
       "Downloading (…)a8e1d/.gitattributes:   0%|          | 0.00/1.18k [00:00<?, ?B/s]"
      ]
     },
     "metadata": {},
     "output_type": "display_data"
    },
    {
     "data": {
      "application/vnd.jupyter.widget-view+json": {
       "model_id": "c19e5edff8bc4215863e1acfc199ba11",
       "version_major": 2,
       "version_minor": 0
      },
      "text/plain": [
       "Downloading (…)_Pooling/config.json:   0%|          | 0.00/190 [00:00<?, ?B/s]"
      ]
     },
     "metadata": {},
     "output_type": "display_data"
    },
    {
     "data": {
      "application/vnd.jupyter.widget-view+json": {
       "model_id": "0d3bbdb924464ec3be4a4da5893ce9b7",
       "version_major": 2,
       "version_minor": 0
      },
      "text/plain": [
       "Downloading (…)b20bca8e1d/README.md:   0%|          | 0.00/10.6k [00:00<?, ?B/s]"
      ]
     },
     "metadata": {},
     "output_type": "display_data"
    },
    {
     "data": {
      "application/vnd.jupyter.widget-view+json": {
       "model_id": "1db4483a12424bb0af2adf9d90ec4046",
       "version_major": 2,
       "version_minor": 0
      },
      "text/plain": [
       "Downloading (…)0bca8e1d/config.json:   0%|          | 0.00/571 [00:00<?, ?B/s]"
      ]
     },
     "metadata": {},
     "output_type": "display_data"
    },
    {
     "data": {
      "application/vnd.jupyter.widget-view+json": {
       "model_id": "1a7ea27b1d52407385a2a900a00b8fbb",
       "version_major": 2,
       "version_minor": 0
      },
      "text/plain": [
       "Downloading (…)ce_transformers.json:   0%|          | 0.00/116 [00:00<?, ?B/s]"
      ]
     },
     "metadata": {},
     "output_type": "display_data"
    },
    {
     "data": {
      "application/vnd.jupyter.widget-view+json": {
       "model_id": "713d1bb917b2479fa841d27bece9fb63",
       "version_major": 2,
       "version_minor": 0
      },
      "text/plain": [
       "Downloading (…)e1d/data_config.json:   0%|          | 0.00/39.3k [00:00<?, ?B/s]"
      ]
     },
     "metadata": {},
     "output_type": "display_data"
    },
    {
     "data": {
      "application/vnd.jupyter.widget-view+json": {
       "model_id": "484995005afd41fc96ae65049264afb0",
       "version_major": 2,
       "version_minor": 0
      },
      "text/plain": [
       "Downloading pytorch_model.bin:   0%|          | 0.00/438M [00:00<?, ?B/s]"
      ]
     },
     "metadata": {},
     "output_type": "display_data"
    },
    {
     "data": {
      "application/vnd.jupyter.widget-view+json": {
       "model_id": "bf5aa576de594d53b6172e92de67d32b",
       "version_major": 2,
       "version_minor": 0
      },
      "text/plain": [
       "Downloading (…)nce_bert_config.json:   0%|          | 0.00/53.0 [00:00<?, ?B/s]"
      ]
     },
     "metadata": {},
     "output_type": "display_data"
    },
    {
     "data": {
      "application/vnd.jupyter.widget-view+json": {
       "model_id": "b8a75168707949d8b0bf84366c45c5d9",
       "version_major": 2,
       "version_minor": 0
      },
      "text/plain": [
       "Downloading (…)cial_tokens_map.json:   0%|          | 0.00/239 [00:00<?, ?B/s]"
      ]
     },
     "metadata": {},
     "output_type": "display_data"
    },
    {
     "data": {
      "application/vnd.jupyter.widget-view+json": {
       "model_id": "f8866a262dc44fdb92274d044a761ac5",
       "version_major": 2,
       "version_minor": 0
      },
      "text/plain": [
       "Downloading (…)a8e1d/tokenizer.json:   0%|          | 0.00/466k [00:00<?, ?B/s]"
      ]
     },
     "metadata": {},
     "output_type": "display_data"
    },
    {
     "data": {
      "application/vnd.jupyter.widget-view+json": {
       "model_id": "31f4379c14664b4a8fa7cf12a4504bc3",
       "version_major": 2,
       "version_minor": 0
      },
      "text/plain": [
       "Downloading (…)okenizer_config.json:   0%|          | 0.00/363 [00:00<?, ?B/s]"
      ]
     },
     "metadata": {},
     "output_type": "display_data"
    },
    {
     "data": {
      "application/vnd.jupyter.widget-view+json": {
       "model_id": "a018f614e29649cc9ddf5199a0fccf40",
       "version_major": 2,
       "version_minor": 0
      },
      "text/plain": [
       "Downloading (…)8e1d/train_script.py:   0%|          | 0.00/13.1k [00:00<?, ?B/s]"
      ]
     },
     "metadata": {},
     "output_type": "display_data"
    },
    {
     "data": {
      "application/vnd.jupyter.widget-view+json": {
       "model_id": "c685d0b037c740e095e45186a5e143f5",
       "version_major": 2,
       "version_minor": 0
      },
      "text/plain": [
       "Downloading (…)b20bca8e1d/vocab.txt:   0%|          | 0.00/232k [00:00<?, ?B/s]"
      ]
     },
     "metadata": {},
     "output_type": "display_data"
    },
    {
     "data": {
      "application/vnd.jupyter.widget-view+json": {
       "model_id": "6d8e71f90c254eb8b740de5a6e70ce59",
       "version_major": 2,
       "version_minor": 0
      },
      "text/plain": [
       "Downloading (…)bca8e1d/modules.json:   0%|          | 0.00/349 [00:00<?, ?B/s]"
      ]
     },
     "metadata": {},
     "output_type": "display_data"
    }
   ],
   "source": [
    "from langchain.embeddings import HuggingFaceEmbeddings\n",
    "from typing import Any, Dict, List, Optional\n",
    "from pydantic import BaseModel, Extra, Field\n",
    "from langchain.embeddings.base import Embeddings\n",
    "import numpy as np\n",
    "\n",
    "model_name = \"sentence-transformers/all-mpnet-base-v2\"\n",
    "model_kwargs = {'device': 'cpu'}\n",
    "\n",
    "\n",
    "class CustomHFEmbeddings(HuggingFaceEmbeddings):\n",
    "    def embed_documents(self, texts: List[str]) -> List[List[float]]:\n",
    "        \"\"\"Compute doc embeddings using a HuggingFace transformer model.\n",
    "\n",
    "        Args:\n",
    "            texts: The list of texts to embed.\n",
    "\n",
    "        Returns:\n",
    "            List of embeddings, one for each text.\n",
    "        \"\"\"\n",
    "        texts = list(map(lambda x: x.replace(\"\\n\", \" \"), texts))\n",
    "        embeddings = self.client.encode(texts, **self.encode_kwargs)\n",
    "        #- (22, 1536)\n",
    "        print(f\"CustomHFEmbeddings::embed_documents::shape:returned -- > {embeddings.shape}:\")\n",
    "        \n",
    "        return embeddings.tolist()\n",
    "    def embed_query(self, text: str) -> List[float]:\n",
    "            \"\"\"Compute query embeddings using a HuggingFace transformer model.\n",
    "\n",
    "            Args:\n",
    "                text: The text to embed.\n",
    "\n",
    "            Returns:\n",
    "                Embeddings for the text.\n",
    "            \"\"\"\n",
    "            text = text.replace(\"\\n\", \" \")\n",
    "            embedding = self.client.encode(text, **self.encode_kwargs)\n",
    "            print(f\"CustomHFEmbeddings::QUERY::shape:returned -- > {embedding.shape}:\")\n",
    "            return embedding.tolist()\n",
    "\n",
    "hf_embeddings = CustomHFEmbeddings(model_name=model_name, model_kwargs=model_kwargs)"
   ]
  },
  {
   "cell_type": "markdown",
   "id": "9e5a04ce-787d-4042-b789-4a8c47e54c53",
   "metadata": {},
   "source": [
    "### Test the VARCO model \n",
    "Testing VARCO 13B IST model for answering a random question."
   ]
  },
  {
   "cell_type": "code",
   "execution_count": 32,
   "id": "08761a46-011e-4f90-9dd5-244ac1db9368",
   "metadata": {
    "tags": []
   },
   "outputs": [
    {
     "name": "stdout",
     "output_type": "stream",
     "text": [
      "sagemaker.config INFO - Not applying SDK defaults from location: /etc/xdg/sagemaker/config.yaml\n",
      "sagemaker.config INFO - Not applying SDK defaults from location: /root/.config/sagemaker/config.yaml\n"
     ]
    }
   ],
   "source": [
    "sagemaker_session = sagemaker.Session()\n",
    "runtime = boto3.client(\"runtime.sagemaker\")\n",
    "\n",
    "model_name = \"varco-llm-13b-ist\"\n",
    "content_type = \"application/json\""
   ]
  },
  {
   "cell_type": "code",
   "execution_count": 33,
   "id": "55423e0e-a96f-4dbd-8443-9fa61e968189",
   "metadata": {
    "tags": []
   },
   "outputs": [
    {
     "name": "stdout",
     "output_type": "stream",
     "text": [
      "Question being asked is -- > {'text': 'Answer this question below, How can it help me?'}:\n"
     ]
    },
    {
     "data": {
      "text/plain": [
       "{'result': ['### User:\\nAnswer this question below, How can it help me?\\n\\n### Assistant:\\nThe question is unclear. The answer is:\\nHow can I help you?']}"
      ]
     },
     "execution_count": 33,
     "metadata": {},
     "output_type": "execute_result"
    }
   ],
   "source": [
    "prompt = {\"text\":\"Answer this question below, How can it help me?\"}\n",
    "print(f\"Question being asked is -- > {prompt}:\")\n",
    "\n",
    "response = runtime.invoke_endpoint(\n",
    "    EndpointName=model_name,\n",
    "    ContentType=content_type,\n",
    "    Accept=\"application/json\",\n",
    "    Body=json.dumps(prompt)\n",
    ")\n",
    "\n",
    "json.load(response[\"Body\"])"
   ]
  },
  {
   "cell_type": "markdown",
   "id": "268aa75f-f96a-4b62-a656-c8faa0a3056f",
   "metadata": {},
   "source": [
    "## Section 2: Use LangChain\n",
    "\n",
    "We will follow this pattern for the rest of the section\n",
    "\n",
    "<li>Exploring vector databases\n",
    "<li>Basics of QA exploring simple chains\n",
    "<li>Basics of chatbot\n",
    "<li>Going to prompt templates,\n",
    "<li>Exploring Chains"
   ]
  },
  {
   "cell_type": "markdown",
   "id": "8badc924-0982-41b0-9dde-c0523c65a9ae",
   "metadata": {},
   "source": [
    "### Exploring Vector DataBases and Create the Embeddings. \n",
    "\n",
    "Leverage SageMaker GPT-J model or the same"
   ]
  },
  {
   "cell_type": "markdown",
   "id": "1f80f58f-da65-4f55-b1d0-ceea12a0be09",
   "metadata": {},
   "source": [
    "#### Use the file based document to retrieve based on embeddings\n",
    "\n",
    "Run the below to visualize the Dataset"
   ]
  },
  {
   "cell_type": "code",
   "execution_count": 34,
   "id": "6f8616cd-a44a-43d1-9105-cb77e0f2783a",
   "metadata": {
    "tags": []
   },
   "outputs": [
    {
     "name": "stdout",
     "output_type": "stream",
     "text": [
      "(154, 2)\n"
     ]
    },
    {
     "data": {
      "text/html": [
       "<div>\n",
       "<style scoped>\n",
       "    .dataframe tbody tr th:only-of-type {\n",
       "        vertical-align: middle;\n",
       "    }\n",
       "\n",
       "    .dataframe tbody tr th {\n",
       "        vertical-align: top;\n",
       "    }\n",
       "\n",
       "    .dataframe thead th {\n",
       "        text-align: right;\n",
       "    }\n",
       "</style>\n",
       "<table border=\"1\" class=\"dataframe\">\n",
       "  <thead>\n",
       "    <tr style=\"text-align: right;\">\n",
       "      <th></th>\n",
       "      <th>Question</th>\n",
       "      <th>Answer</th>\n",
       "    </tr>\n",
       "  </thead>\n",
       "  <tbody>\n",
       "    <tr>\n",
       "      <th>0</th>\n",
       "      <td>Amazon SageMaker 란 무엇입니까?</td>\n",
       "      <td>Amazon SageMaker는 완전 관리형 인프라, 도구 및 워크플로를 통해 모든...</td>\n",
       "    </tr>\n",
       "    <tr>\n",
       "      <th>1</th>\n",
       "      <td>In which Regions is Amazon SageMaker available...</td>\n",
       "      <td>For a list of the supported Amazon SageMaker A...</td>\n",
       "    </tr>\n",
       "  </tbody>\n",
       "</table>\n",
       "</div>"
      ],
      "text/plain": [
       "                                            Question  \\\n",
       "0                          Amazon SageMaker 란 무엇입니까?   \n",
       "1  In which Regions is Amazon SageMaker available...   \n",
       "\n",
       "                                              Answer  \n",
       "0  Amazon SageMaker는 완전 관리형 인프라, 도구 및 워크플로를 통해 모든...  \n",
       "1  For a list of the supported Amazon SageMaker A...  "
      ]
     },
     "execution_count": 34,
     "metadata": {},
     "output_type": "execute_result"
    }
   ],
   "source": [
    "import glob\n",
    "import os\n",
    "import pandas as pd\n",
    "\n",
    "all_files = glob.glob(os.path.join(\"rag_data/\", \"*.csv\"))\n",
    "\n",
    "df_knowledge = pd.concat(\n",
    "    (pd.read_csv(f, header=None, names=[\"Question\", \"Answer\"]) for f in all_files),\n",
    "    axis=0,\n",
    "    ignore_index=True,\n",
    ")\n",
    "\n",
    "#- drop \n",
    "df_answer = df_knowledge.drop([\"Question\"], axis=1)\n",
    "\n",
    "print(df_knowledge.shape)\n",
    "df_knowledge.head(2)"
   ]
  },
  {
   "cell_type": "markdown",
   "id": "332a8014-e948-41cb-bce8-723b32f843fe",
   "metadata": {},
   "source": [
    "#### Convert csv to pdf\n",
    "temp.html 로컬 파일 생성"
   ]
  },
  {
   "cell_type": "code",
   "execution_count": 49,
   "id": "5214a17a-f76c-46a4-b6e1-6db59ab03fc6",
   "metadata": {
    "tags": []
   },
   "outputs": [
    {
     "name": "stdout",
     "output_type": "stream",
     "text": [
      "Requirement already satisfied: weasyprint in /opt/conda/lib/python3.8/site-packages (59.0)\n",
      "Requirement already satisfied: pydyf>=0.6.0 in /opt/conda/lib/python3.8/site-packages (from weasyprint) (0.7.0)\n",
      "Requirement already satisfied: cffi>=0.6 in /opt/conda/lib/python3.8/site-packages (from weasyprint) (1.14.6)\n",
      "Requirement already satisfied: html5lib>=1.1 in /opt/conda/lib/python3.8/site-packages (from weasyprint) (1.1)\n",
      "Requirement already satisfied: tinycss2>=1.0.0 in /opt/conda/lib/python3.8/site-packages (from weasyprint) (1.2.1)\n",
      "Requirement already satisfied: cssselect2>=0.1 in /opt/conda/lib/python3.8/site-packages (from weasyprint) (0.7.0)\n",
      "Requirement already satisfied: Pyphen>=0.9.1 in /opt/conda/lib/python3.8/site-packages (from weasyprint) (0.14.0)\n",
      "Requirement already satisfied: Pillow>=9.1.0 in /opt/conda/lib/python3.8/site-packages (from weasyprint) (10.0.0)\n",
      "Requirement already satisfied: fonttools[woff]>=4.0.0 in /opt/conda/lib/python3.8/site-packages (from weasyprint) (4.25.0)\n",
      "Requirement already satisfied: pycparser in /opt/conda/lib/python3.8/site-packages (from cffi>=0.6->weasyprint) (2.20)\n",
      "Requirement already satisfied: webencodings in /opt/conda/lib/python3.8/site-packages (from cssselect2>=0.1->weasyprint) (0.5.1)\n",
      "Requirement already satisfied: zopfli>=0.1.4 in /opt/conda/lib/python3.8/site-packages (from fonttools[woff]>=4.0.0->weasyprint) (0.2.3)\n",
      "Requirement already satisfied: brotli>=1.0.1 in /opt/conda/lib/python3.8/site-packages (from fonttools[woff]>=4.0.0->weasyprint) (1.1.0)\n",
      "Requirement already satisfied: six>=1.9 in /opt/conda/lib/python3.8/site-packages (from html5lib>=1.1->weasyprint) (1.16.0)\n",
      "\u001b[33mDEPRECATION: pyodbc 4.0.0-unsupported has a non-standard version number. pip 23.3 will enforce this behaviour change. A possible replacement is to upgrade to a newer version of pyodbc or contact the author to suggest that they release a version with a conforming version number. Discussion can be found at https://github.com/pypa/pip/issues/12063\u001b[0m\u001b[33m\n",
      "\u001b[0m\u001b[33mWARNING: Running pip as the 'root' user can result in broken permissions and conflicting behaviour with the system package manager. It is recommended to use a virtual environment instead: https://pip.pypa.io/warnings/venv\u001b[0m\u001b[33m\n",
      "\u001b[0m"
     ]
    }
   ],
   "source": [
    "!pip install weasyprint"
   ]
  },
  {
   "cell_type": "code",
   "execution_count": 53,
   "id": "f6662c12-41ba-4f1d-97bb-471a55fa10e7",
   "metadata": {
    "tags": []
   },
   "outputs": [],
   "source": [
    "from bs4 import BeautifulSoup\n",
    "import requests\n",
    "\n",
    "# 한글 FAQ 문서 URL\n",
    "url = 'https://aws.amazon.com/ko/sagemaker/faqs'\n",
    "response = requests.get(url)\n",
    "soup = BeautifulSoup(response.text, 'html.parser')\n",
    "\n",
    "# Add a style tag with desired font\n",
    "font_tag = soup.new_tag('style')\n",
    "font_tag.string = \"@import url('https://fonts.googleapis.com/css2?family=Noto+Sans+KR&display=swap'); body { font-family: 'Noto Sans KR', sans-serif; }\"\n",
    "soup.head.append(font_tag)\n",
    "\n",
    "# Save the modified HTML to a temporary file.\n",
    "with open('rag_data/temp.html', 'w') as f:\n",
    "    f.write(str(soup))\n"
   ]
  },
  {
   "cell_type": "markdown",
   "id": "efdb19a7-a1de-407c-95ab-37b7fed278f2",
   "metadata": {},
   "source": [
    "temp.html 파일을 Amazon_SageMaker_FAQs.pdf로 변환"
   ]
  },
  {
   "cell_type": "code",
   "execution_count": 59,
   "id": "2e75730f-bd85-457b-8223-cf2dc1be8749",
   "metadata": {
    "tags": []
   },
   "outputs": [
    {
     "ename": "AttributeError",
     "evalue": "'NoneType' object has no attribute 'getBestCmap'",
     "output_type": "error",
     "traceback": [
      "\u001b[0;31m---------------------------------------------------------------------------\u001b[0m",
      "\u001b[0;31mAttributeError\u001b[0m                            Traceback (most recent call last)",
      "Cell \u001b[0;32mIn[59], line 5\u001b[0m\n\u001b[1;32m      1\u001b[0m \u001b[38;5;66;03m# Generate the PDF from the modified HTML.\u001b[39;00m\n\u001b[1;32m      3\u001b[0m \u001b[38;5;28;01mfrom\u001b[39;00m \u001b[38;5;21;01mweasyprint\u001b[39;00m \u001b[38;5;28;01mimport\u001b[39;00m HTML\n\u001b[0;32m----> 5\u001b[0m \u001b[43mHTML\u001b[49m\u001b[43m(\u001b[49m\u001b[38;5;124;43m'\u001b[39;49m\u001b[38;5;124;43mrag_data/temp.html\u001b[39;49m\u001b[38;5;124;43m'\u001b[39;49m\u001b[43m)\u001b[49m\u001b[38;5;241;43m.\u001b[39;49m\u001b[43mwrite_pdf\u001b[49m\u001b[43m(\u001b[49m\u001b[38;5;124;43m'\u001b[39;49m\u001b[38;5;124;43mrag_data/Amazon_SageMaker_FAQs.pdf\u001b[39;49m\u001b[38;5;124;43m'\u001b[39;49m\u001b[43m)\u001b[49m\n",
      "File \u001b[0;32m/opt/conda/lib/python3.8/site-packages/weasyprint/__init__.py:252\u001b[0m, in \u001b[0;36mHTML.write_pdf\u001b[0;34m(self, target, zoom, finisher, font_config, counter_style, **options)\u001b[0m\n\u001b[1;32m    249\u001b[0m new_options\u001b[38;5;241m.\u001b[39mupdate(options)\n\u001b[1;32m    250\u001b[0m options \u001b[38;5;241m=\u001b[39m new_options\n\u001b[1;32m    251\u001b[0m \u001b[38;5;28;01mreturn\u001b[39;00m (\n\u001b[0;32m--> 252\u001b[0m     \u001b[38;5;28;43mself\u001b[39;49m\u001b[38;5;241;43m.\u001b[39;49m\u001b[43mrender\u001b[49m\u001b[43m(\u001b[49m\u001b[43mfont_config\u001b[49m\u001b[43m,\u001b[49m\u001b[43m \u001b[49m\u001b[43mcounter_style\u001b[49m\u001b[43m,\u001b[49m\u001b[43m \u001b[49m\u001b[38;5;241;43m*\u001b[39;49m\u001b[38;5;241;43m*\u001b[39;49m\u001b[43moptions\u001b[49m\u001b[43m)\u001b[49m\n\u001b[1;32m    253\u001b[0m \u001b[43m    \u001b[49m\u001b[38;5;241;43m.\u001b[39;49m\u001b[43mwrite_pdf\u001b[49m\u001b[43m(\u001b[49m\u001b[43mtarget\u001b[49m\u001b[43m,\u001b[49m\u001b[43m \u001b[49m\u001b[43mzoom\u001b[49m\u001b[43m,\u001b[49m\u001b[43m \u001b[49m\u001b[43mfinisher\u001b[49m\u001b[43m,\u001b[49m\u001b[43m \u001b[49m\u001b[38;5;241;43m*\u001b[39;49m\u001b[38;5;241;43m*\u001b[39;49m\u001b[43moptions\u001b[49m\u001b[43m)\u001b[49m)\n",
      "File \u001b[0;32m/opt/conda/lib/python3.8/site-packages/weasyprint/document.py:399\u001b[0m, in \u001b[0;36mDocument.write_pdf\u001b[0;34m(self, target, zoom, finisher, **options)\u001b[0m\n\u001b[1;32m    397\u001b[0m new_options\u001b[38;5;241m.\u001b[39mupdate(options)\n\u001b[1;32m    398\u001b[0m options \u001b[38;5;241m=\u001b[39m new_options\n\u001b[0;32m--> 399\u001b[0m pdf \u001b[38;5;241m=\u001b[39m \u001b[43mgenerate_pdf\u001b[49m\u001b[43m(\u001b[49m\u001b[38;5;28;43mself\u001b[39;49m\u001b[43m,\u001b[49m\u001b[43m \u001b[49m\u001b[43mtarget\u001b[49m\u001b[43m,\u001b[49m\u001b[43m \u001b[49m\u001b[43mzoom\u001b[49m\u001b[43m,\u001b[49m\u001b[43m \u001b[49m\u001b[38;5;241;43m*\u001b[39;49m\u001b[38;5;241;43m*\u001b[39;49m\u001b[43moptions\u001b[49m\u001b[43m)\u001b[49m\n\u001b[1;32m    401\u001b[0m identifier \u001b[38;5;241m=\u001b[39m options[\u001b[38;5;124m'\u001b[39m\u001b[38;5;124mpdf_identifier\u001b[39m\u001b[38;5;124m'\u001b[39m]\n\u001b[1;32m    402\u001b[0m compress \u001b[38;5;241m=\u001b[39m \u001b[38;5;129;01mnot\u001b[39;00m options[\u001b[38;5;124m'\u001b[39m\u001b[38;5;124muncompressed_pdf\u001b[39m\u001b[38;5;124m'\u001b[39m]\n",
      "File \u001b[0;32m/opt/conda/lib/python3.8/site-packages/weasyprint/pdf/__init__.py:261\u001b[0m, in \u001b[0;36mgenerate_pdf\u001b[0;34m(document, target, zoom, **options)\u001b[0m\n\u001b[1;32m    259\u001b[0m subset \u001b[38;5;241m=\u001b[39m \u001b[38;5;129;01mnot\u001b[39;00m options[\u001b[38;5;124m'\u001b[39m\u001b[38;5;124mfull_fonts\u001b[39m\u001b[38;5;124m'\u001b[39m]\n\u001b[1;32m    260\u001b[0m hinting \u001b[38;5;241m=\u001b[39m options[\u001b[38;5;124m'\u001b[39m\u001b[38;5;124mhinting\u001b[39m\u001b[38;5;124m'\u001b[39m]\n\u001b[0;32m--> 261\u001b[0m pdf_fonts \u001b[38;5;241m=\u001b[39m \u001b[43mbuild_fonts_dictionary\u001b[49m\u001b[43m(\u001b[49m\n\u001b[1;32m    262\u001b[0m \u001b[43m    \u001b[49m\u001b[43mpdf\u001b[49m\u001b[43m,\u001b[49m\u001b[43m \u001b[49m\u001b[43mdocument\u001b[49m\u001b[38;5;241;43m.\u001b[39;49m\u001b[43mfonts\u001b[49m\u001b[43m,\u001b[49m\u001b[43m \u001b[49m\u001b[43mcompress\u001b[49m\u001b[43m,\u001b[49m\u001b[43m \u001b[49m\u001b[43msubset\u001b[49m\u001b[43m,\u001b[49m\u001b[43m \u001b[49m\u001b[43mhinting\u001b[49m\u001b[43m)\u001b[49m\n\u001b[1;32m    263\u001b[0m pdf\u001b[38;5;241m.\u001b[39madd_object(pdf_fonts)\n\u001b[1;32m    264\u001b[0m \u001b[38;5;28;01mif\u001b[39;00m \u001b[38;5;124m'\u001b[39m\u001b[38;5;124mAcroForm\u001b[39m\u001b[38;5;124m'\u001b[39m \u001b[38;5;129;01min\u001b[39;00m pdf\u001b[38;5;241m.\u001b[39mcatalog:\n\u001b[1;32m    265\u001b[0m     \u001b[38;5;66;03m# Include Dingbats for forms\u001b[39;00m\n",
      "File \u001b[0;32m/opt/conda/lib/python3.8/site-packages/weasyprint/pdf/fonts.py:47\u001b[0m, in \u001b[0;36mbuild_fonts_dictionary\u001b[0;34m(pdf, fonts, compress_pdf, subset, hinting)\u001b[0m\n\u001b[1;32m     44\u001b[0m \u001b[38;5;28;01melse\u001b[39;00m:\n\u001b[1;32m     45\u001b[0m     \u001b[38;5;66;03m# Store width and Unicode map for all glyphs\u001b[39;00m\n\u001b[1;32m     46\u001b[0m     font_widths, cmap \u001b[38;5;241m=\u001b[39m {}, {}\n\u001b[0;32m---> 47\u001b[0m     \u001b[38;5;28;01mfor\u001b[39;00m letter, key \u001b[38;5;129;01min\u001b[39;00m \u001b[43mfont\u001b[49m\u001b[38;5;241;43m.\u001b[39;49m\u001b[43mttfont\u001b[49m\u001b[38;5;241;43m.\u001b[39;49m\u001b[43mgetBestCmap\u001b[49m()\u001b[38;5;241m.\u001b[39mitems():\n\u001b[1;32m     48\u001b[0m         glyph \u001b[38;5;241m=\u001b[39m font\u001b[38;5;241m.\u001b[39mttfont\u001b[38;5;241m.\u001b[39mgetGlyphID(key)\n\u001b[1;32m     49\u001b[0m         \u001b[38;5;28;01mif\u001b[39;00m glyph \u001b[38;5;129;01mnot\u001b[39;00m \u001b[38;5;129;01min\u001b[39;00m cmap:\n",
      "\u001b[0;31mAttributeError\u001b[0m: 'NoneType' object has no attribute 'getBestCmap'"
     ]
    }
   ],
   "source": [
    "# Generate the PDF from the modified HTML.\n",
    "\n",
    "from weasyprint import HTML\n",
    "\n",
    "HTML('rag_data/temp.html').write_pdf('rag_data/Amazon_SageMaker_FAQs.pdf')\n"
   ]
  },
  {
   "cell_type": "markdown",
   "id": "d4dd8d0e-d7fe-4a10-9eb7-752cf814a9c3",
   "metadata": {},
   "source": [
    "\n",
    "## <i> 한글 PDF 파일 만드는 로직은 조금 더 고민.. 일단은 SageMaker FAQ (한글) PDF 파일은 수동으로 생성하여 rag_data에 업로드"
   ]
  },
  {
   "cell_type": "code",
   "execution_count": 60,
   "id": "5e149169-d6d6-4a4c-9a1f-731190df4e31",
   "metadata": {
    "tags": []
   },
   "outputs": [],
   "source": [
    "from langchain.chains import RetrievalQA\n",
    "from langchain.document_loaders import TextLoader\n",
    "from langchain.indexes import VectorstoreIndexCreator\n",
    "from langchain.vectorstores import Chroma, AtlasDB, FAISS\n",
    "from langchain.text_splitter import CharacterTextSplitter\n",
    "from langchain import PromptTemplate\n",
    "from langchain.chains.question_answering import load_qa_chain\n",
    "from langchain.document_loaders.csv_loader import CSVLoader"
   ]
  },
  {
   "cell_type": "code",
   "execution_count": 61,
   "id": "a5c1e726-0da4-45d0-a931-b84c41513144",
   "metadata": {
    "tags": []
   },
   "outputs": [],
   "source": [
    "import time\n",
    "import sagemaker, boto3, json\n",
    "from sagemaker.session import Session\n",
    "from sagemaker.model import Model\n",
    "from sagemaker import image_uris, model_uris, script_uris, hyperparameters\n",
    "from sagemaker.predictor import Predictor\n",
    "from sagemaker.utils import name_from_base\n",
    "from typing import Any, Dict, List, Optional\n",
    "from langchain.embeddings import SagemakerEndpointEmbeddings\n",
    "from langchain.llms.sagemaker_endpoint import ContentHandlerBase"
   ]
  },
  {
   "cell_type": "markdown",
   "id": "7b15420a-f564-4e68-80d0-5477640e474b",
   "metadata": {},
   "source": [
    "#### Create the embeddings for document search"
   ]
  },
  {
   "cell_type": "code",
   "execution_count": 62,
   "id": "5f6fc373-dc74-4158-955b-248347a23a61",
   "metadata": {
    "tags": []
   },
   "outputs": [],
   "source": [
    "from langchain.indexes import VectorstoreIndexCreator"
   ]
  },
  {
   "cell_type": "markdown",
   "id": "c17a0745-c55f-44ac-9949-fad03531e0d9",
   "metadata": {},
   "source": [
    "#### Vector store indexer. \n",
    "\n",
    "This is what stores and matches the embeddings.This notebook showcases Chroma and FAISS and will be transient and in memory. The VectorStore Api's are available [here](https://python.langchain.com/en/harrison-docs-refactor-3-24/reference/modules/vectorstore.html)\n",
    "\n",
    "We will use our own Custom implementation of SageMaker Embeddings which needs a reference to the SageMaker endpoint to call the model which will return the embeddings. This will be used by the FAISS or Chroma to store in memory and be used when ever the User runs a query"
   ]
  },
  {
   "cell_type": "markdown",
   "id": "01a09670-f92e-4d6c-8d45-e71582f81801",
   "metadata": {},
   "source": [
    "#### Use LangChain to leverage a SageMaker LLM \n",
    "\n",
    "Let's break down the above VectorstoreIndexCreator and see what's happening under the hood. Furthermore, we will see how to incorporate a customize prompt rather than using a default prompt with VectorstoreIndexCreator.\n",
    "\n",
    "Firstly, we generate embedings for each of document in the knowledge library with SageMaker  embedding model.\n"
   ]
  },
  {
   "cell_type": "code",
   "execution_count": 74,
   "id": "d51a86fc-835a-467f-938d-ef28ffe65e9e",
   "metadata": {
    "tags": []
   },
   "outputs": [
    {
     "name": "stdout",
     "output_type": "stream",
     "text": [
      "<botocore.client.SageMakerRuntime object at 0x7fdb9585c430>\n",
      "SageMaker LLM created at \u001b[1mSagemakerEndpoint\u001b[0m\n",
      "Params: {'endpoint_name': 'varco-llm-13b-ist', 'model_kwargs': {}}::\n"
     ]
    }
   ],
   "source": [
    "from langchain.llms.sagemaker_endpoint import SagemakerEndpoint\n",
    "from langchain.llms.sagemaker_endpoint import LLMContentHandler\n",
    "import ast\n",
    "\n",
    "parameters = {\n",
    "    \"max_length\": 200,\n",
    "    \"num_return_sequences\": 1,\n",
    "    \"top_k\": 250,\n",
    "    \"top_p\": 0.95,\n",
    "    \"do_sample\": False,\n",
    "    \"temperature\": 1,\n",
    "}\n",
    "MAX_CHARACTER_TRUNCATION=10000 # at 20k it produced garbage results\n",
    "\n",
    "class ContentHandlerSMLMI(LLMContentHandler):\n",
    "    content_type = \"application/json\"\n",
    "    accepts = \"application/json\"\n",
    "\n",
    "    def transform_input(self, prompt: str, model_kwargs={}) -> bytes:\n",
    "        #input_str = json.dumps({\"text_inputs\": prompt, **model_kwargs})\n",
    "        print(f\"ContentHandlerSMLMI::LangChain:::LEN:input_str={len(prompt)}:: will truncate if > {MAX_CHARACTER_TRUNCATION}::\")\n",
    "        if len(prompt) > MAX_CHARACTER_TRUNCATION:\n",
    "            prompt=prompt[:MAX_CHARACTER_TRUNCATION]\n",
    "        input_str = json.dumps({\"text_inputs\": prompt, **model_kwargs})\n",
    "        #print(f\"ContentHandlerSMLMI::LangChain:::LEN:input_str={len(input_str)}::\")\n",
    "        return input_str.encode(\"utf-8\")\n",
    "\n",
    "    def transform_output(self, output: bytes) -> str:\n",
    "        response_json_dict = json.loads(output.read().decode(\"utf-8\"))\n",
    "        print(f\"ContentHandlerSMLMI::LangChain::output={response_json_dict}:\")\n",
    "        return response_json_dict[list(response_json_dict.keys())[0]] [0]\n",
    "\n",
    "\n",
    "content_handler_sm_llm = ContentHandlerSMLMI()\n",
    "session = boto3.Session()\n",
    "boto3_sm_client = boto3.client(\n",
    "    \"sagemaker-runtime\"\n",
    "    # **boto3_kwargs\n",
    ")\n",
    "print(boto3_sm_client)\n",
    "\n",
    "\n",
    "sm_llm = SagemakerEndpoint(\n",
    "    client = boto3_sm_client,\n",
    "    endpoint_name=os.environ[\"VARCO_ENDPOINT\"],\n",
    "    region_name='us-west-2',\n",
    "    #model_kwargs=parameters,\n",
    "    content_handler=content_handler_sm_llm,\n",
    ")\n",
    "\n",
    "print(f\"SageMaker LLM created at {sm_llm}::\")"
   ]
  },
  {
   "cell_type": "markdown",
   "id": "0ddd8db3-d869-487c-8e20-5f8d6ab20f71",
   "metadata": {},
   "source": [
    "#### Load the Data from our Documents Source. \n",
    "\n",
    "Then we will feed this into the VectorStore to create the embeddings using the loaders like [here](https://python.langchain.com/en/latest/modules/indexes/document_loaders/examples/directory_loader.html). First we will try with the SageMaker FAQ PDF document and also the IRS PDF files\n",
    "\n",
    "we will create 3 Loaders and 3 documents after doing a split on them. 1st loader for amazon faq, 2nd for some of the IRS PDF's, 3rd just for  some ramdom example. For text it will be just a separate loader, text loader vs pdf"
   ]
  },
  {
   "cell_type": "code",
   "execution_count": 75,
   "id": "2908a10e-0e59-42f7-a8f9-9321caddb233",
   "metadata": {
    "tags": []
   },
   "outputs": [],
   "source": [
    "from langchain.document_loaders import TextLoader\n",
    "from langchain.document_loaders.csv_loader import CSVLoader\n",
    "\n",
    "from langchain.document_loaders import PyPDFLoader\n",
    "\n",
    "loader = PyPDFLoader(\"rag_data/Amazon_SageMaker_FAQs.pdf\")\n",
    "documents_aws = loader.load() # -- gives 2 docs\n",
    "documents_split = loader.load_and_split() # - gives 22 docs"
   ]
  },
  {
   "cell_type": "markdown",
   "id": "ef619e83-4246-4db2-b82d-a8ee509c3fee",
   "metadata": {},
   "source": [
    "vectorstore_faiss_aws = FAISS.from_documents(\n",
    "    CharacterTextSplitter(chunk_size=300, chunk_overlap=0).split_documents(documents_aws), \n",
    "    hf_embeddings, \n",
    "    #k=1\n",
    "    #**k_args\n",
    ")#### VectorStore as FAISS \n",
    "\n",
    "You can read up about [FAISS](https://arxiv.org/pdf/1702.08734.pdf) in memory vector store here. However for our example it will be the same \n",
    "\n",
    "Chroma\n",
    "\n",
    "[Chroma](https://www.trychroma.com/) is a super simple vector search database. The core-API consists of just four functions, allowing users to build an in-memory document-vector store. By default Chroma uses the Hugging Face transformers library to vectorize documents.\n",
    "\n",
    "Weaviate\n",
    "\n",
    "[Weaviate](https://github.com/weaviate/weaviate) is a very posh looking tool - not only does Weaviate offer a GraphQL API with support for vector search. It also allows users to vectorize their content using Weaviate's inbuilt modules or custom modules."
   ]
  },
  {
   "cell_type": "code",
   "execution_count": 76,
   "id": "920e3778-41b9-498c-a934-8442a2716813",
   "metadata": {
    "tags": []
   },
   "outputs": [
    {
     "name": "stdout",
     "output_type": "stream",
     "text": [
      "CustomHFEmbeddings::embed_documents::shape:returned -- > (18, 768):\n",
      "CPU times: user 14.7 s, sys: 4.55 s, total: 19.3 s\n",
      "Wall time: 23.3 s\n"
     ]
    }
   ],
   "source": [
    "%%time\n",
    "from langchain.chains.question_answering import load_qa_chain\n",
    "from langchain.document_loaders import TextLoader\n",
    "from langchain.document_loaders.csv_loader import CSVLoader\n",
    "\n",
    "from langchain.document_loaders import PyPDFLoader\n",
    "from langchain.vectorstores import Chroma, AtlasDB, FAISS\n",
    "\n",
    "from langchain.document_loaders import PyPDFLoader\n",
    "import glob\n",
    "import os\n",
    "import pandas as pd\n",
    "from langchain.document_loaders import DirectoryLoader\n",
    "\n",
    "from langchain.indexes import VectorstoreIndexCreator\n",
    "from langchain.indexes.vectorstore import VectorStoreIndexWrapper\n",
    "\n",
    "k_args = {\"k\": 1}\n",
    "# - sub_docs = self.text_splitter.split_documents(docs)\n",
    "# - create Vectorstore\n",
    "vectorstore_faiss_aws = FAISS.from_documents(\n",
    "    CharacterTextSplitter(chunk_size=300, chunk_overlap=0).split_documents(documents_aws), \n",
    "    hf_embeddings, \n",
    "    #k=1\n",
    "    #**k_args\n",
    ")\n",
    "\n",
    "wrapper_store_faiss = VectorStoreIndexWrapper(vectorstore=vectorstore_faiss_aws)"
   ]
  },
  {
   "cell_type": "markdown",
   "id": "4266ed6a-0db4-4ec9-a8fe-ce0bd7f60d13",
   "metadata": {},
   "source": [
    "#### First way of running the Query. High Level abstraction\n",
    "\n",
    "Leverage VectorStoreIndexCreator which wraps around the RetrievalQA and provides a high level API abstraction to generate the response. This is a wrapper around the underlying API's which we will explore below"
   ]
  },
  {
   "cell_type": "code",
   "execution_count": 77,
   "id": "9470b496-acec-478d-ba96-07524af3457b",
   "metadata": {
    "tags": []
   },
   "outputs": [],
   "source": [
    "#query=\"Simplified method for business use of home deduction\"\n",
    "query=\"Amazon SageMaker 란 무엇인가\""
   ]
  },
  {
   "cell_type": "code",
   "execution_count": 78,
   "id": "c6175596-7cb5-4f40-92eb-7cef3a50710c",
   "metadata": {
    "tags": []
   },
   "outputs": [
    {
     "name": "stdout",
     "output_type": "stream",
     "text": [
      "CustomHFEmbeddings::QUERY::shape:returned -- > (768,):\n",
      "ContentHandlerSMLMI::LangChain:::LEN:input_str=10701:: will truncate if > 10000::\n"
     ]
    },
    {
     "ename": "ValueError",
     "evalue": "Error raised by inference endpoint: An error occurred (ModelError) when calling the InvokeEndpoint operation: Received client error (422) from primary and could not load the entire response body. See https://us-west-2.console.aws.amazon.com/cloudwatch/home?region=us-west-2#logEventViewer:group=/aws/sagemaker/Endpoints/varco-llm-13b-ist in account 376278017302 for more information.",
     "output_type": "error",
     "traceback": [
      "\u001b[0;31m---------------------------------------------------------------------------\u001b[0m",
      "\u001b[0;31mModelError\u001b[0m                                Traceback (most recent call last)",
      "File \u001b[0;32m/opt/conda/lib/python3.8/site-packages/langchain/llms/sagemaker_endpoint.py:234\u001b[0m, in \u001b[0;36mSagemakerEndpoint._call\u001b[0;34m(self, prompt, stop, run_manager)\u001b[0m\n\u001b[1;32m    233\u001b[0m \u001b[38;5;28;01mtry\u001b[39;00m:\n\u001b[0;32m--> 234\u001b[0m     response \u001b[38;5;241m=\u001b[39m \u001b[38;5;28;43mself\u001b[39;49m\u001b[38;5;241;43m.\u001b[39;49m\u001b[43mclient\u001b[49m\u001b[38;5;241;43m.\u001b[39;49m\u001b[43minvoke_endpoint\u001b[49m\u001b[43m(\u001b[49m\n\u001b[1;32m    235\u001b[0m \u001b[43m        \u001b[49m\u001b[43mEndpointName\u001b[49m\u001b[38;5;241;43m=\u001b[39;49m\u001b[38;5;28;43mself\u001b[39;49m\u001b[38;5;241;43m.\u001b[39;49m\u001b[43mendpoint_name\u001b[49m\u001b[43m,\u001b[49m\n\u001b[1;32m    236\u001b[0m \u001b[43m        \u001b[49m\u001b[43mBody\u001b[49m\u001b[38;5;241;43m=\u001b[39;49m\u001b[43mbody\u001b[49m\u001b[43m,\u001b[49m\n\u001b[1;32m    237\u001b[0m \u001b[43m        \u001b[49m\u001b[43mContentType\u001b[49m\u001b[38;5;241;43m=\u001b[39;49m\u001b[43mcontent_type\u001b[49m\u001b[43m,\u001b[49m\n\u001b[1;32m    238\u001b[0m \u001b[43m        \u001b[49m\u001b[43mAccept\u001b[49m\u001b[38;5;241;43m=\u001b[39;49m\u001b[43maccepts\u001b[49m\u001b[43m,\u001b[49m\n\u001b[1;32m    239\u001b[0m \u001b[43m        \u001b[49m\u001b[38;5;241;43m*\u001b[39;49m\u001b[38;5;241;43m*\u001b[39;49m\u001b[43m_endpoint_kwargs\u001b[49m\u001b[43m,\u001b[49m\n\u001b[1;32m    240\u001b[0m \u001b[43m    \u001b[49m\u001b[43m)\u001b[49m\n\u001b[1;32m    241\u001b[0m \u001b[38;5;28;01mexcept\u001b[39;00m \u001b[38;5;167;01mException\u001b[39;00m \u001b[38;5;28;01mas\u001b[39;00m e:\n",
      "File \u001b[0;32m/opt/conda/lib/python3.8/site-packages/botocore/client.py:535\u001b[0m, in \u001b[0;36mClientCreator._create_api_method.<locals>._api_call\u001b[0;34m(self, *args, **kwargs)\u001b[0m\n\u001b[1;32m    534\u001b[0m \u001b[38;5;66;03m# The \"self\" in this scope is referring to the BaseClient.\u001b[39;00m\n\u001b[0;32m--> 535\u001b[0m \u001b[38;5;28;01mreturn\u001b[39;00m \u001b[38;5;28;43mself\u001b[39;49m\u001b[38;5;241;43m.\u001b[39;49m\u001b[43m_make_api_call\u001b[49m\u001b[43m(\u001b[49m\u001b[43moperation_name\u001b[49m\u001b[43m,\u001b[49m\u001b[43m \u001b[49m\u001b[43mkwargs\u001b[49m\u001b[43m)\u001b[49m\n",
      "File \u001b[0;32m/opt/conda/lib/python3.8/site-packages/botocore/client.py:980\u001b[0m, in \u001b[0;36mBaseClient._make_api_call\u001b[0;34m(self, operation_name, api_params)\u001b[0m\n\u001b[1;32m    979\u001b[0m     error_class \u001b[38;5;241m=\u001b[39m \u001b[38;5;28mself\u001b[39m\u001b[38;5;241m.\u001b[39mexceptions\u001b[38;5;241m.\u001b[39mfrom_code(error_code)\n\u001b[0;32m--> 980\u001b[0m     \u001b[38;5;28;01mraise\u001b[39;00m error_class(parsed_response, operation_name)\n\u001b[1;32m    981\u001b[0m \u001b[38;5;28;01melse\u001b[39;00m:\n",
      "\u001b[0;31mModelError\u001b[0m: An error occurred (ModelError) when calling the InvokeEndpoint operation: Received client error (422) from primary and could not load the entire response body. See https://us-west-2.console.aws.amazon.com/cloudwatch/home?region=us-west-2#logEventViewer:group=/aws/sagemaker/Endpoints/varco-llm-13b-ist in account 376278017302 for more information.",
      "\nDuring handling of the above exception, another exception occurred:\n",
      "\u001b[0;31mValueError\u001b[0m                                Traceback (most recent call last)",
      "Cell \u001b[0;32mIn[78], line 1\u001b[0m\n\u001b[0;32m----> 1\u001b[0m \u001b[43mwrapper_store_faiss\u001b[49m\u001b[38;5;241;43m.\u001b[39;49m\u001b[43mquery\u001b[49m\u001b[43m(\u001b[49m\u001b[43mquestion\u001b[49m\u001b[38;5;241;43m=\u001b[39;49m\u001b[38;5;124;43m\"\u001b[39;49m\u001b[38;5;124;43mAmazon SageMaker ?\u001b[39;49m\u001b[38;5;124;43m\"\u001b[39;49m\u001b[43m,\u001b[49m\u001b[43mllm\u001b[49m\u001b[38;5;241;43m=\u001b[39;49m\u001b[43msm_llm\u001b[49m\u001b[43m)\u001b[49m\n",
      "File \u001b[0;32m/opt/conda/lib/python3.8/site-packages/langchain/indexes/vectorstore.py:41\u001b[0m, in \u001b[0;36mVectorStoreIndexWrapper.query\u001b[0;34m(self, question, llm, **kwargs)\u001b[0m\n\u001b[1;32m     37\u001b[0m llm \u001b[38;5;241m=\u001b[39m llm \u001b[38;5;129;01mor\u001b[39;00m OpenAI(temperature\u001b[38;5;241m=\u001b[39m\u001b[38;5;241m0\u001b[39m)\n\u001b[1;32m     38\u001b[0m chain \u001b[38;5;241m=\u001b[39m RetrievalQA\u001b[38;5;241m.\u001b[39mfrom_chain_type(\n\u001b[1;32m     39\u001b[0m     llm, retriever\u001b[38;5;241m=\u001b[39m\u001b[38;5;28mself\u001b[39m\u001b[38;5;241m.\u001b[39mvectorstore\u001b[38;5;241m.\u001b[39mas_retriever(), \u001b[38;5;241m*\u001b[39m\u001b[38;5;241m*\u001b[39mkwargs\n\u001b[1;32m     40\u001b[0m )\n\u001b[0;32m---> 41\u001b[0m \u001b[38;5;28;01mreturn\u001b[39;00m \u001b[43mchain\u001b[49m\u001b[38;5;241;43m.\u001b[39;49m\u001b[43mrun\u001b[49m\u001b[43m(\u001b[49m\u001b[43mquestion\u001b[49m\u001b[43m)\u001b[49m\n",
      "File \u001b[0;32m/opt/conda/lib/python3.8/site-packages/langchain/chains/base.py:236\u001b[0m, in \u001b[0;36mChain.run\u001b[0;34m(self, callbacks, *args, **kwargs)\u001b[0m\n\u001b[1;32m    234\u001b[0m     \u001b[38;5;28;01mif\u001b[39;00m \u001b[38;5;28mlen\u001b[39m(args) \u001b[38;5;241m!=\u001b[39m \u001b[38;5;241m1\u001b[39m:\n\u001b[1;32m    235\u001b[0m         \u001b[38;5;28;01mraise\u001b[39;00m \u001b[38;5;167;01mValueError\u001b[39;00m(\u001b[38;5;124m\"\u001b[39m\u001b[38;5;124m`run` supports only one positional argument.\u001b[39m\u001b[38;5;124m\"\u001b[39m)\n\u001b[0;32m--> 236\u001b[0m     \u001b[38;5;28;01mreturn\u001b[39;00m \u001b[38;5;28;43mself\u001b[39;49m\u001b[43m(\u001b[49m\u001b[43margs\u001b[49m\u001b[43m[\u001b[49m\u001b[38;5;241;43m0\u001b[39;49m\u001b[43m]\u001b[49m\u001b[43m,\u001b[49m\u001b[43m \u001b[49m\u001b[43mcallbacks\u001b[49m\u001b[38;5;241;43m=\u001b[39;49m\u001b[43mcallbacks\u001b[49m\u001b[43m)\u001b[49m[\u001b[38;5;28mself\u001b[39m\u001b[38;5;241m.\u001b[39moutput_keys[\u001b[38;5;241m0\u001b[39m]]\n\u001b[1;32m    238\u001b[0m \u001b[38;5;28;01mif\u001b[39;00m kwargs \u001b[38;5;129;01mand\u001b[39;00m \u001b[38;5;129;01mnot\u001b[39;00m args:\n\u001b[1;32m    239\u001b[0m     \u001b[38;5;28;01mreturn\u001b[39;00m \u001b[38;5;28mself\u001b[39m(kwargs, callbacks\u001b[38;5;241m=\u001b[39mcallbacks)[\u001b[38;5;28mself\u001b[39m\u001b[38;5;241m.\u001b[39moutput_keys[\u001b[38;5;241m0\u001b[39m]]\n",
      "File \u001b[0;32m/opt/conda/lib/python3.8/site-packages/langchain/chains/base.py:140\u001b[0m, in \u001b[0;36mChain.__call__\u001b[0;34m(self, inputs, return_only_outputs, callbacks)\u001b[0m\n\u001b[1;32m    138\u001b[0m \u001b[38;5;28;01mexcept\u001b[39;00m (\u001b[38;5;167;01mKeyboardInterrupt\u001b[39;00m, \u001b[38;5;167;01mException\u001b[39;00m) \u001b[38;5;28;01mas\u001b[39;00m e:\n\u001b[1;32m    139\u001b[0m     run_manager\u001b[38;5;241m.\u001b[39mon_chain_error(e)\n\u001b[0;32m--> 140\u001b[0m     \u001b[38;5;28;01mraise\u001b[39;00m e\n\u001b[1;32m    141\u001b[0m run_manager\u001b[38;5;241m.\u001b[39mon_chain_end(outputs)\n\u001b[1;32m    142\u001b[0m \u001b[38;5;28;01mreturn\u001b[39;00m \u001b[38;5;28mself\u001b[39m\u001b[38;5;241m.\u001b[39mprep_outputs(inputs, outputs, return_only_outputs)\n",
      "File \u001b[0;32m/opt/conda/lib/python3.8/site-packages/langchain/chains/base.py:134\u001b[0m, in \u001b[0;36mChain.__call__\u001b[0;34m(self, inputs, return_only_outputs, callbacks)\u001b[0m\n\u001b[1;32m    128\u001b[0m run_manager \u001b[38;5;241m=\u001b[39m callback_manager\u001b[38;5;241m.\u001b[39mon_chain_start(\n\u001b[1;32m    129\u001b[0m     {\u001b[38;5;124m\"\u001b[39m\u001b[38;5;124mname\u001b[39m\u001b[38;5;124m\"\u001b[39m: \u001b[38;5;28mself\u001b[39m\u001b[38;5;241m.\u001b[39m\u001b[38;5;18m__class__\u001b[39m\u001b[38;5;241m.\u001b[39m\u001b[38;5;18m__name__\u001b[39m},\n\u001b[1;32m    130\u001b[0m     inputs,\n\u001b[1;32m    131\u001b[0m )\n\u001b[1;32m    132\u001b[0m \u001b[38;5;28;01mtry\u001b[39;00m:\n\u001b[1;32m    133\u001b[0m     outputs \u001b[38;5;241m=\u001b[39m (\n\u001b[0;32m--> 134\u001b[0m         \u001b[38;5;28;43mself\u001b[39;49m\u001b[38;5;241;43m.\u001b[39;49m\u001b[43m_call\u001b[49m\u001b[43m(\u001b[49m\u001b[43minputs\u001b[49m\u001b[43m,\u001b[49m\u001b[43m \u001b[49m\u001b[43mrun_manager\u001b[49m\u001b[38;5;241;43m=\u001b[39;49m\u001b[43mrun_manager\u001b[49m\u001b[43m)\u001b[49m\n\u001b[1;32m    135\u001b[0m         \u001b[38;5;28;01mif\u001b[39;00m new_arg_supported\n\u001b[1;32m    136\u001b[0m         \u001b[38;5;28;01melse\u001b[39;00m \u001b[38;5;28mself\u001b[39m\u001b[38;5;241m.\u001b[39m_call(inputs)\n\u001b[1;32m    137\u001b[0m     )\n\u001b[1;32m    138\u001b[0m \u001b[38;5;28;01mexcept\u001b[39;00m (\u001b[38;5;167;01mKeyboardInterrupt\u001b[39;00m, \u001b[38;5;167;01mException\u001b[39;00m) \u001b[38;5;28;01mas\u001b[39;00m e:\n\u001b[1;32m    139\u001b[0m     run_manager\u001b[38;5;241m.\u001b[39mon_chain_error(e)\n",
      "File \u001b[0;32m/opt/conda/lib/python3.8/site-packages/langchain/chains/retrieval_qa/base.py:120\u001b[0m, in \u001b[0;36mBaseRetrievalQA._call\u001b[0;34m(self, inputs, run_manager)\u001b[0m\n\u001b[1;32m    117\u001b[0m question \u001b[38;5;241m=\u001b[39m inputs[\u001b[38;5;28mself\u001b[39m\u001b[38;5;241m.\u001b[39minput_key]\n\u001b[1;32m    119\u001b[0m docs \u001b[38;5;241m=\u001b[39m \u001b[38;5;28mself\u001b[39m\u001b[38;5;241m.\u001b[39m_get_docs(question)\n\u001b[0;32m--> 120\u001b[0m answer \u001b[38;5;241m=\u001b[39m \u001b[38;5;28;43mself\u001b[39;49m\u001b[38;5;241;43m.\u001b[39;49m\u001b[43mcombine_documents_chain\u001b[49m\u001b[38;5;241;43m.\u001b[39;49m\u001b[43mrun\u001b[49m\u001b[43m(\u001b[49m\n\u001b[1;32m    121\u001b[0m \u001b[43m    \u001b[49m\u001b[43minput_documents\u001b[49m\u001b[38;5;241;43m=\u001b[39;49m\u001b[43mdocs\u001b[49m\u001b[43m,\u001b[49m\u001b[43m \u001b[49m\u001b[43mquestion\u001b[49m\u001b[38;5;241;43m=\u001b[39;49m\u001b[43mquestion\u001b[49m\u001b[43m,\u001b[49m\u001b[43m \u001b[49m\u001b[43mcallbacks\u001b[49m\u001b[38;5;241;43m=\u001b[39;49m\u001b[43m_run_manager\u001b[49m\u001b[38;5;241;43m.\u001b[39;49m\u001b[43mget_child\u001b[49m\u001b[43m(\u001b[49m\u001b[43m)\u001b[49m\n\u001b[1;32m    122\u001b[0m \u001b[43m\u001b[49m\u001b[43m)\u001b[49m\n\u001b[1;32m    124\u001b[0m \u001b[38;5;28;01mif\u001b[39;00m \u001b[38;5;28mself\u001b[39m\u001b[38;5;241m.\u001b[39mreturn_source_documents:\n\u001b[1;32m    125\u001b[0m     \u001b[38;5;28;01mreturn\u001b[39;00m {\u001b[38;5;28mself\u001b[39m\u001b[38;5;241m.\u001b[39moutput_key: answer, \u001b[38;5;124m\"\u001b[39m\u001b[38;5;124msource_documents\u001b[39m\u001b[38;5;124m\"\u001b[39m: docs}\n",
      "File \u001b[0;32m/opt/conda/lib/python3.8/site-packages/langchain/chains/base.py:239\u001b[0m, in \u001b[0;36mChain.run\u001b[0;34m(self, callbacks, *args, **kwargs)\u001b[0m\n\u001b[1;32m    236\u001b[0m     \u001b[38;5;28;01mreturn\u001b[39;00m \u001b[38;5;28mself\u001b[39m(args[\u001b[38;5;241m0\u001b[39m], callbacks\u001b[38;5;241m=\u001b[39mcallbacks)[\u001b[38;5;28mself\u001b[39m\u001b[38;5;241m.\u001b[39moutput_keys[\u001b[38;5;241m0\u001b[39m]]\n\u001b[1;32m    238\u001b[0m \u001b[38;5;28;01mif\u001b[39;00m kwargs \u001b[38;5;129;01mand\u001b[39;00m \u001b[38;5;129;01mnot\u001b[39;00m args:\n\u001b[0;32m--> 239\u001b[0m     \u001b[38;5;28;01mreturn\u001b[39;00m \u001b[38;5;28;43mself\u001b[39;49m\u001b[43m(\u001b[49m\u001b[43mkwargs\u001b[49m\u001b[43m,\u001b[49m\u001b[43m \u001b[49m\u001b[43mcallbacks\u001b[49m\u001b[38;5;241;43m=\u001b[39;49m\u001b[43mcallbacks\u001b[49m\u001b[43m)\u001b[49m[\u001b[38;5;28mself\u001b[39m\u001b[38;5;241m.\u001b[39moutput_keys[\u001b[38;5;241m0\u001b[39m]]\n\u001b[1;32m    241\u001b[0m \u001b[38;5;28;01mraise\u001b[39;00m \u001b[38;5;167;01mValueError\u001b[39;00m(\n\u001b[1;32m    242\u001b[0m     \u001b[38;5;124mf\u001b[39m\u001b[38;5;124m\"\u001b[39m\u001b[38;5;124m`run` supported with either positional arguments or keyword arguments\u001b[39m\u001b[38;5;124m\"\u001b[39m\n\u001b[1;32m    243\u001b[0m     \u001b[38;5;124mf\u001b[39m\u001b[38;5;124m\"\u001b[39m\u001b[38;5;124m but not both. Got args: \u001b[39m\u001b[38;5;132;01m{\u001b[39;00margs\u001b[38;5;132;01m}\u001b[39;00m\u001b[38;5;124m and kwargs: \u001b[39m\u001b[38;5;132;01m{\u001b[39;00mkwargs\u001b[38;5;132;01m}\u001b[39;00m\u001b[38;5;124m.\u001b[39m\u001b[38;5;124m\"\u001b[39m\n\u001b[1;32m    244\u001b[0m )\n",
      "File \u001b[0;32m/opt/conda/lib/python3.8/site-packages/langchain/chains/base.py:140\u001b[0m, in \u001b[0;36mChain.__call__\u001b[0;34m(self, inputs, return_only_outputs, callbacks)\u001b[0m\n\u001b[1;32m    138\u001b[0m \u001b[38;5;28;01mexcept\u001b[39;00m (\u001b[38;5;167;01mKeyboardInterrupt\u001b[39;00m, \u001b[38;5;167;01mException\u001b[39;00m) \u001b[38;5;28;01mas\u001b[39;00m e:\n\u001b[1;32m    139\u001b[0m     run_manager\u001b[38;5;241m.\u001b[39mon_chain_error(e)\n\u001b[0;32m--> 140\u001b[0m     \u001b[38;5;28;01mraise\u001b[39;00m e\n\u001b[1;32m    141\u001b[0m run_manager\u001b[38;5;241m.\u001b[39mon_chain_end(outputs)\n\u001b[1;32m    142\u001b[0m \u001b[38;5;28;01mreturn\u001b[39;00m \u001b[38;5;28mself\u001b[39m\u001b[38;5;241m.\u001b[39mprep_outputs(inputs, outputs, return_only_outputs)\n",
      "File \u001b[0;32m/opt/conda/lib/python3.8/site-packages/langchain/chains/base.py:134\u001b[0m, in \u001b[0;36mChain.__call__\u001b[0;34m(self, inputs, return_only_outputs, callbacks)\u001b[0m\n\u001b[1;32m    128\u001b[0m run_manager \u001b[38;5;241m=\u001b[39m callback_manager\u001b[38;5;241m.\u001b[39mon_chain_start(\n\u001b[1;32m    129\u001b[0m     {\u001b[38;5;124m\"\u001b[39m\u001b[38;5;124mname\u001b[39m\u001b[38;5;124m\"\u001b[39m: \u001b[38;5;28mself\u001b[39m\u001b[38;5;241m.\u001b[39m\u001b[38;5;18m__class__\u001b[39m\u001b[38;5;241m.\u001b[39m\u001b[38;5;18m__name__\u001b[39m},\n\u001b[1;32m    130\u001b[0m     inputs,\n\u001b[1;32m    131\u001b[0m )\n\u001b[1;32m    132\u001b[0m \u001b[38;5;28;01mtry\u001b[39;00m:\n\u001b[1;32m    133\u001b[0m     outputs \u001b[38;5;241m=\u001b[39m (\n\u001b[0;32m--> 134\u001b[0m         \u001b[38;5;28;43mself\u001b[39;49m\u001b[38;5;241;43m.\u001b[39;49m\u001b[43m_call\u001b[49m\u001b[43m(\u001b[49m\u001b[43minputs\u001b[49m\u001b[43m,\u001b[49m\u001b[43m \u001b[49m\u001b[43mrun_manager\u001b[49m\u001b[38;5;241;43m=\u001b[39;49m\u001b[43mrun_manager\u001b[49m\u001b[43m)\u001b[49m\n\u001b[1;32m    135\u001b[0m         \u001b[38;5;28;01mif\u001b[39;00m new_arg_supported\n\u001b[1;32m    136\u001b[0m         \u001b[38;5;28;01melse\u001b[39;00m \u001b[38;5;28mself\u001b[39m\u001b[38;5;241m.\u001b[39m_call(inputs)\n\u001b[1;32m    137\u001b[0m     )\n\u001b[1;32m    138\u001b[0m \u001b[38;5;28;01mexcept\u001b[39;00m (\u001b[38;5;167;01mKeyboardInterrupt\u001b[39;00m, \u001b[38;5;167;01mException\u001b[39;00m) \u001b[38;5;28;01mas\u001b[39;00m e:\n\u001b[1;32m    139\u001b[0m     run_manager\u001b[38;5;241m.\u001b[39mon_chain_error(e)\n",
      "File \u001b[0;32m/opt/conda/lib/python3.8/site-packages/langchain/chains/combine_documents/base.py:84\u001b[0m, in \u001b[0;36mBaseCombineDocumentsChain._call\u001b[0;34m(self, inputs, run_manager)\u001b[0m\n\u001b[1;32m     82\u001b[0m \u001b[38;5;66;03m# Other keys are assumed to be needed for LLM prediction\u001b[39;00m\n\u001b[1;32m     83\u001b[0m other_keys \u001b[38;5;241m=\u001b[39m {k: v \u001b[38;5;28;01mfor\u001b[39;00m k, v \u001b[38;5;129;01min\u001b[39;00m inputs\u001b[38;5;241m.\u001b[39mitems() \u001b[38;5;28;01mif\u001b[39;00m k \u001b[38;5;241m!=\u001b[39m \u001b[38;5;28mself\u001b[39m\u001b[38;5;241m.\u001b[39minput_key}\n\u001b[0;32m---> 84\u001b[0m output, extra_return_dict \u001b[38;5;241m=\u001b[39m \u001b[38;5;28;43mself\u001b[39;49m\u001b[38;5;241;43m.\u001b[39;49m\u001b[43mcombine_docs\u001b[49m\u001b[43m(\u001b[49m\n\u001b[1;32m     85\u001b[0m \u001b[43m    \u001b[49m\u001b[43mdocs\u001b[49m\u001b[43m,\u001b[49m\u001b[43m \u001b[49m\u001b[43mcallbacks\u001b[49m\u001b[38;5;241;43m=\u001b[39;49m\u001b[43m_run_manager\u001b[49m\u001b[38;5;241;43m.\u001b[39;49m\u001b[43mget_child\u001b[49m\u001b[43m(\u001b[49m\u001b[43m)\u001b[49m\u001b[43m,\u001b[49m\u001b[43m \u001b[49m\u001b[38;5;241;43m*\u001b[39;49m\u001b[38;5;241;43m*\u001b[39;49m\u001b[43mother_keys\u001b[49m\n\u001b[1;32m     86\u001b[0m \u001b[43m\u001b[49m\u001b[43m)\u001b[49m\n\u001b[1;32m     87\u001b[0m extra_return_dict[\u001b[38;5;28mself\u001b[39m\u001b[38;5;241m.\u001b[39moutput_key] \u001b[38;5;241m=\u001b[39m output\n\u001b[1;32m     88\u001b[0m \u001b[38;5;28;01mreturn\u001b[39;00m extra_return_dict\n",
      "File \u001b[0;32m/opt/conda/lib/python3.8/site-packages/langchain/chains/combine_documents/stuff.py:87\u001b[0m, in \u001b[0;36mStuffDocumentsChain.combine_docs\u001b[0;34m(self, docs, callbacks, **kwargs)\u001b[0m\n\u001b[1;32m     85\u001b[0m inputs \u001b[38;5;241m=\u001b[39m \u001b[38;5;28mself\u001b[39m\u001b[38;5;241m.\u001b[39m_get_inputs(docs, \u001b[38;5;241m*\u001b[39m\u001b[38;5;241m*\u001b[39mkwargs)\n\u001b[1;32m     86\u001b[0m \u001b[38;5;66;03m# Call predict on the LLM.\u001b[39;00m\n\u001b[0;32m---> 87\u001b[0m \u001b[38;5;28;01mreturn\u001b[39;00m \u001b[38;5;28;43mself\u001b[39;49m\u001b[38;5;241;43m.\u001b[39;49m\u001b[43mllm_chain\u001b[49m\u001b[38;5;241;43m.\u001b[39;49m\u001b[43mpredict\u001b[49m\u001b[43m(\u001b[49m\u001b[43mcallbacks\u001b[49m\u001b[38;5;241;43m=\u001b[39;49m\u001b[43mcallbacks\u001b[49m\u001b[43m,\u001b[49m\u001b[43m \u001b[49m\u001b[38;5;241;43m*\u001b[39;49m\u001b[38;5;241;43m*\u001b[39;49m\u001b[43minputs\u001b[49m\u001b[43m)\u001b[49m, {}\n",
      "File \u001b[0;32m/opt/conda/lib/python3.8/site-packages/langchain/chains/llm.py:213\u001b[0m, in \u001b[0;36mLLMChain.predict\u001b[0;34m(self, callbacks, **kwargs)\u001b[0m\n\u001b[1;32m    198\u001b[0m \u001b[38;5;28;01mdef\u001b[39;00m \u001b[38;5;21mpredict\u001b[39m(\u001b[38;5;28mself\u001b[39m, callbacks: Callbacks \u001b[38;5;241m=\u001b[39m \u001b[38;5;28;01mNone\u001b[39;00m, \u001b[38;5;241m*\u001b[39m\u001b[38;5;241m*\u001b[39mkwargs: Any) \u001b[38;5;241m-\u001b[39m\u001b[38;5;241m>\u001b[39m \u001b[38;5;28mstr\u001b[39m:\n\u001b[1;32m    199\u001b[0m \u001b[38;5;250m    \u001b[39m\u001b[38;5;124;03m\"\"\"Format prompt with kwargs and pass to LLM.\u001b[39;00m\n\u001b[1;32m    200\u001b[0m \n\u001b[1;32m    201\u001b[0m \u001b[38;5;124;03m    Args:\u001b[39;00m\n\u001b[0;32m   (...)\u001b[0m\n\u001b[1;32m    211\u001b[0m \u001b[38;5;124;03m            completion = llm.predict(adjective=\"funny\")\u001b[39;00m\n\u001b[1;32m    212\u001b[0m \u001b[38;5;124;03m    \"\"\"\u001b[39;00m\n\u001b[0;32m--> 213\u001b[0m     \u001b[38;5;28;01mreturn\u001b[39;00m \u001b[38;5;28;43mself\u001b[39;49m\u001b[43m(\u001b[49m\u001b[43mkwargs\u001b[49m\u001b[43m,\u001b[49m\u001b[43m \u001b[49m\u001b[43mcallbacks\u001b[49m\u001b[38;5;241;43m=\u001b[39;49m\u001b[43mcallbacks\u001b[49m\u001b[43m)\u001b[49m[\u001b[38;5;28mself\u001b[39m\u001b[38;5;241m.\u001b[39moutput_key]\n",
      "File \u001b[0;32m/opt/conda/lib/python3.8/site-packages/langchain/chains/base.py:140\u001b[0m, in \u001b[0;36mChain.__call__\u001b[0;34m(self, inputs, return_only_outputs, callbacks)\u001b[0m\n\u001b[1;32m    138\u001b[0m \u001b[38;5;28;01mexcept\u001b[39;00m (\u001b[38;5;167;01mKeyboardInterrupt\u001b[39;00m, \u001b[38;5;167;01mException\u001b[39;00m) \u001b[38;5;28;01mas\u001b[39;00m e:\n\u001b[1;32m    139\u001b[0m     run_manager\u001b[38;5;241m.\u001b[39mon_chain_error(e)\n\u001b[0;32m--> 140\u001b[0m     \u001b[38;5;28;01mraise\u001b[39;00m e\n\u001b[1;32m    141\u001b[0m run_manager\u001b[38;5;241m.\u001b[39mon_chain_end(outputs)\n\u001b[1;32m    142\u001b[0m \u001b[38;5;28;01mreturn\u001b[39;00m \u001b[38;5;28mself\u001b[39m\u001b[38;5;241m.\u001b[39mprep_outputs(inputs, outputs, return_only_outputs)\n",
      "File \u001b[0;32m/opt/conda/lib/python3.8/site-packages/langchain/chains/base.py:134\u001b[0m, in \u001b[0;36mChain.__call__\u001b[0;34m(self, inputs, return_only_outputs, callbacks)\u001b[0m\n\u001b[1;32m    128\u001b[0m run_manager \u001b[38;5;241m=\u001b[39m callback_manager\u001b[38;5;241m.\u001b[39mon_chain_start(\n\u001b[1;32m    129\u001b[0m     {\u001b[38;5;124m\"\u001b[39m\u001b[38;5;124mname\u001b[39m\u001b[38;5;124m\"\u001b[39m: \u001b[38;5;28mself\u001b[39m\u001b[38;5;241m.\u001b[39m\u001b[38;5;18m__class__\u001b[39m\u001b[38;5;241m.\u001b[39m\u001b[38;5;18m__name__\u001b[39m},\n\u001b[1;32m    130\u001b[0m     inputs,\n\u001b[1;32m    131\u001b[0m )\n\u001b[1;32m    132\u001b[0m \u001b[38;5;28;01mtry\u001b[39;00m:\n\u001b[1;32m    133\u001b[0m     outputs \u001b[38;5;241m=\u001b[39m (\n\u001b[0;32m--> 134\u001b[0m         \u001b[38;5;28;43mself\u001b[39;49m\u001b[38;5;241;43m.\u001b[39;49m\u001b[43m_call\u001b[49m\u001b[43m(\u001b[49m\u001b[43minputs\u001b[49m\u001b[43m,\u001b[49m\u001b[43m \u001b[49m\u001b[43mrun_manager\u001b[49m\u001b[38;5;241;43m=\u001b[39;49m\u001b[43mrun_manager\u001b[49m\u001b[43m)\u001b[49m\n\u001b[1;32m    135\u001b[0m         \u001b[38;5;28;01mif\u001b[39;00m new_arg_supported\n\u001b[1;32m    136\u001b[0m         \u001b[38;5;28;01melse\u001b[39;00m \u001b[38;5;28mself\u001b[39m\u001b[38;5;241m.\u001b[39m_call(inputs)\n\u001b[1;32m    137\u001b[0m     )\n\u001b[1;32m    138\u001b[0m \u001b[38;5;28;01mexcept\u001b[39;00m (\u001b[38;5;167;01mKeyboardInterrupt\u001b[39;00m, \u001b[38;5;167;01mException\u001b[39;00m) \u001b[38;5;28;01mas\u001b[39;00m e:\n\u001b[1;32m    139\u001b[0m     run_manager\u001b[38;5;241m.\u001b[39mon_chain_error(e)\n",
      "File \u001b[0;32m/opt/conda/lib/python3.8/site-packages/langchain/chains/llm.py:69\u001b[0m, in \u001b[0;36mLLMChain._call\u001b[0;34m(self, inputs, run_manager)\u001b[0m\n\u001b[1;32m     64\u001b[0m \u001b[38;5;28;01mdef\u001b[39;00m \u001b[38;5;21m_call\u001b[39m(\n\u001b[1;32m     65\u001b[0m     \u001b[38;5;28mself\u001b[39m,\n\u001b[1;32m     66\u001b[0m     inputs: Dict[\u001b[38;5;28mstr\u001b[39m, Any],\n\u001b[1;32m     67\u001b[0m     run_manager: Optional[CallbackManagerForChainRun] \u001b[38;5;241m=\u001b[39m \u001b[38;5;28;01mNone\u001b[39;00m,\n\u001b[1;32m     68\u001b[0m ) \u001b[38;5;241m-\u001b[39m\u001b[38;5;241m>\u001b[39m Dict[\u001b[38;5;28mstr\u001b[39m, \u001b[38;5;28mstr\u001b[39m]:\n\u001b[0;32m---> 69\u001b[0m     response \u001b[38;5;241m=\u001b[39m \u001b[38;5;28;43mself\u001b[39;49m\u001b[38;5;241;43m.\u001b[39;49m\u001b[43mgenerate\u001b[49m\u001b[43m(\u001b[49m\u001b[43m[\u001b[49m\u001b[43minputs\u001b[49m\u001b[43m]\u001b[49m\u001b[43m,\u001b[49m\u001b[43m \u001b[49m\u001b[43mrun_manager\u001b[49m\u001b[38;5;241;43m=\u001b[39;49m\u001b[43mrun_manager\u001b[49m\u001b[43m)\u001b[49m\n\u001b[1;32m     70\u001b[0m     \u001b[38;5;28;01mreturn\u001b[39;00m \u001b[38;5;28mself\u001b[39m\u001b[38;5;241m.\u001b[39mcreate_outputs(response)[\u001b[38;5;241m0\u001b[39m]\n",
      "File \u001b[0;32m/opt/conda/lib/python3.8/site-packages/langchain/chains/llm.py:79\u001b[0m, in \u001b[0;36mLLMChain.generate\u001b[0;34m(self, input_list, run_manager)\u001b[0m\n\u001b[1;32m     77\u001b[0m \u001b[38;5;250m\u001b[39m\u001b[38;5;124;03m\"\"\"Generate LLM result from inputs.\"\"\"\u001b[39;00m\n\u001b[1;32m     78\u001b[0m prompts, stop \u001b[38;5;241m=\u001b[39m \u001b[38;5;28mself\u001b[39m\u001b[38;5;241m.\u001b[39mprep_prompts(input_list, run_manager\u001b[38;5;241m=\u001b[39mrun_manager)\n\u001b[0;32m---> 79\u001b[0m \u001b[38;5;28;01mreturn\u001b[39;00m \u001b[38;5;28;43mself\u001b[39;49m\u001b[38;5;241;43m.\u001b[39;49m\u001b[43mllm\u001b[49m\u001b[38;5;241;43m.\u001b[39;49m\u001b[43mgenerate_prompt\u001b[49m\u001b[43m(\u001b[49m\n\u001b[1;32m     80\u001b[0m \u001b[43m    \u001b[49m\u001b[43mprompts\u001b[49m\u001b[43m,\u001b[49m\u001b[43m \u001b[49m\u001b[43mstop\u001b[49m\u001b[43m,\u001b[49m\u001b[43m \u001b[49m\u001b[43mcallbacks\u001b[49m\u001b[38;5;241;43m=\u001b[39;49m\u001b[43mrun_manager\u001b[49m\u001b[38;5;241;43m.\u001b[39;49m\u001b[43mget_child\u001b[49m\u001b[43m(\u001b[49m\u001b[43m)\u001b[49m\u001b[43m \u001b[49m\u001b[38;5;28;43;01mif\u001b[39;49;00m\u001b[43m \u001b[49m\u001b[43mrun_manager\u001b[49m\u001b[43m \u001b[49m\u001b[38;5;28;43;01melse\u001b[39;49;00m\u001b[43m \u001b[49m\u001b[38;5;28;43;01mNone\u001b[39;49;00m\n\u001b[1;32m     81\u001b[0m \u001b[43m\u001b[49m\u001b[43m)\u001b[49m\n",
      "File \u001b[0;32m/opt/conda/lib/python3.8/site-packages/langchain/llms/base.py:127\u001b[0m, in \u001b[0;36mBaseLLM.generate_prompt\u001b[0;34m(self, prompts, stop, callbacks)\u001b[0m\n\u001b[1;32m    120\u001b[0m \u001b[38;5;28;01mdef\u001b[39;00m \u001b[38;5;21mgenerate_prompt\u001b[39m(\n\u001b[1;32m    121\u001b[0m     \u001b[38;5;28mself\u001b[39m,\n\u001b[1;32m    122\u001b[0m     prompts: List[PromptValue],\n\u001b[1;32m    123\u001b[0m     stop: Optional[List[\u001b[38;5;28mstr\u001b[39m]] \u001b[38;5;241m=\u001b[39m \u001b[38;5;28;01mNone\u001b[39;00m,\n\u001b[1;32m    124\u001b[0m     callbacks: Callbacks \u001b[38;5;241m=\u001b[39m \u001b[38;5;28;01mNone\u001b[39;00m,\n\u001b[1;32m    125\u001b[0m ) \u001b[38;5;241m-\u001b[39m\u001b[38;5;241m>\u001b[39m LLMResult:\n\u001b[1;32m    126\u001b[0m     prompt_strings \u001b[38;5;241m=\u001b[39m [p\u001b[38;5;241m.\u001b[39mto_string() \u001b[38;5;28;01mfor\u001b[39;00m p \u001b[38;5;129;01min\u001b[39;00m prompts]\n\u001b[0;32m--> 127\u001b[0m     \u001b[38;5;28;01mreturn\u001b[39;00m \u001b[38;5;28;43mself\u001b[39;49m\u001b[38;5;241;43m.\u001b[39;49m\u001b[43mgenerate\u001b[49m\u001b[43m(\u001b[49m\u001b[43mprompt_strings\u001b[49m\u001b[43m,\u001b[49m\u001b[43m \u001b[49m\u001b[43mstop\u001b[49m\u001b[38;5;241;43m=\u001b[39;49m\u001b[43mstop\u001b[49m\u001b[43m,\u001b[49m\u001b[43m \u001b[49m\u001b[43mcallbacks\u001b[49m\u001b[38;5;241;43m=\u001b[39;49m\u001b[43mcallbacks\u001b[49m\u001b[43m)\u001b[49m\n",
      "File \u001b[0;32m/opt/conda/lib/python3.8/site-packages/langchain/llms/base.py:176\u001b[0m, in \u001b[0;36mBaseLLM.generate\u001b[0;34m(self, prompts, stop, callbacks)\u001b[0m\n\u001b[1;32m    174\u001b[0m \u001b[38;5;28;01mexcept\u001b[39;00m (\u001b[38;5;167;01mKeyboardInterrupt\u001b[39;00m, \u001b[38;5;167;01mException\u001b[39;00m) \u001b[38;5;28;01mas\u001b[39;00m e:\n\u001b[1;32m    175\u001b[0m     run_manager\u001b[38;5;241m.\u001b[39mon_llm_error(e)\n\u001b[0;32m--> 176\u001b[0m     \u001b[38;5;28;01mraise\u001b[39;00m e\n\u001b[1;32m    177\u001b[0m run_manager\u001b[38;5;241m.\u001b[39mon_llm_end(output)\n\u001b[1;32m    178\u001b[0m \u001b[38;5;28;01mreturn\u001b[39;00m output\n",
      "File \u001b[0;32m/opt/conda/lib/python3.8/site-packages/langchain/llms/base.py:170\u001b[0m, in \u001b[0;36mBaseLLM.generate\u001b[0;34m(self, prompts, stop, callbacks)\u001b[0m\n\u001b[1;32m    165\u001b[0m run_manager \u001b[38;5;241m=\u001b[39m callback_manager\u001b[38;5;241m.\u001b[39mon_llm_start(\n\u001b[1;32m    166\u001b[0m     {\u001b[38;5;124m\"\u001b[39m\u001b[38;5;124mname\u001b[39m\u001b[38;5;124m\"\u001b[39m: \u001b[38;5;28mself\u001b[39m\u001b[38;5;241m.\u001b[39m\u001b[38;5;18m__class__\u001b[39m\u001b[38;5;241m.\u001b[39m\u001b[38;5;18m__name__\u001b[39m}, prompts\n\u001b[1;32m    167\u001b[0m )\n\u001b[1;32m    168\u001b[0m \u001b[38;5;28;01mtry\u001b[39;00m:\n\u001b[1;32m    169\u001b[0m     output \u001b[38;5;241m=\u001b[39m (\n\u001b[0;32m--> 170\u001b[0m         \u001b[38;5;28;43mself\u001b[39;49m\u001b[38;5;241;43m.\u001b[39;49m\u001b[43m_generate\u001b[49m\u001b[43m(\u001b[49m\u001b[43mprompts\u001b[49m\u001b[43m,\u001b[49m\u001b[43m \u001b[49m\u001b[43mstop\u001b[49m\u001b[38;5;241;43m=\u001b[39;49m\u001b[43mstop\u001b[49m\u001b[43m,\u001b[49m\u001b[43m \u001b[49m\u001b[43mrun_manager\u001b[49m\u001b[38;5;241;43m=\u001b[39;49m\u001b[43mrun_manager\u001b[49m\u001b[43m)\u001b[49m\n\u001b[1;32m    171\u001b[0m         \u001b[38;5;28;01mif\u001b[39;00m new_arg_supported\n\u001b[1;32m    172\u001b[0m         \u001b[38;5;28;01melse\u001b[39;00m \u001b[38;5;28mself\u001b[39m\u001b[38;5;241m.\u001b[39m_generate(prompts, stop\u001b[38;5;241m=\u001b[39mstop)\n\u001b[1;32m    173\u001b[0m     )\n\u001b[1;32m    174\u001b[0m \u001b[38;5;28;01mexcept\u001b[39;00m (\u001b[38;5;167;01mKeyboardInterrupt\u001b[39;00m, \u001b[38;5;167;01mException\u001b[39;00m) \u001b[38;5;28;01mas\u001b[39;00m e:\n\u001b[1;32m    175\u001b[0m     run_manager\u001b[38;5;241m.\u001b[39mon_llm_error(e)\n",
      "File \u001b[0;32m/opt/conda/lib/python3.8/site-packages/langchain/llms/base.py:377\u001b[0m, in \u001b[0;36mLLM._generate\u001b[0;34m(self, prompts, stop, run_manager)\u001b[0m\n\u001b[1;32m    374\u001b[0m new_arg_supported \u001b[38;5;241m=\u001b[39m inspect\u001b[38;5;241m.\u001b[39msignature(\u001b[38;5;28mself\u001b[39m\u001b[38;5;241m.\u001b[39m_call)\u001b[38;5;241m.\u001b[39mparameters\u001b[38;5;241m.\u001b[39mget(\u001b[38;5;124m\"\u001b[39m\u001b[38;5;124mrun_manager\u001b[39m\u001b[38;5;124m\"\u001b[39m)\n\u001b[1;32m    375\u001b[0m \u001b[38;5;28;01mfor\u001b[39;00m prompt \u001b[38;5;129;01min\u001b[39;00m prompts:\n\u001b[1;32m    376\u001b[0m     text \u001b[38;5;241m=\u001b[39m (\n\u001b[0;32m--> 377\u001b[0m         \u001b[38;5;28;43mself\u001b[39;49m\u001b[38;5;241;43m.\u001b[39;49m\u001b[43m_call\u001b[49m\u001b[43m(\u001b[49m\u001b[43mprompt\u001b[49m\u001b[43m,\u001b[49m\u001b[43m \u001b[49m\u001b[43mstop\u001b[49m\u001b[38;5;241;43m=\u001b[39;49m\u001b[43mstop\u001b[49m\u001b[43m,\u001b[49m\u001b[43m \u001b[49m\u001b[43mrun_manager\u001b[49m\u001b[38;5;241;43m=\u001b[39;49m\u001b[43mrun_manager\u001b[49m\u001b[43m)\u001b[49m\n\u001b[1;32m    378\u001b[0m         \u001b[38;5;28;01mif\u001b[39;00m new_arg_supported\n\u001b[1;32m    379\u001b[0m         \u001b[38;5;28;01melse\u001b[39;00m \u001b[38;5;28mself\u001b[39m\u001b[38;5;241m.\u001b[39m_call(prompt, stop\u001b[38;5;241m=\u001b[39mstop)\n\u001b[1;32m    380\u001b[0m     )\n\u001b[1;32m    381\u001b[0m     generations\u001b[38;5;241m.\u001b[39mappend([Generation(text\u001b[38;5;241m=\u001b[39mtext)])\n\u001b[1;32m    382\u001b[0m \u001b[38;5;28;01mreturn\u001b[39;00m LLMResult(generations\u001b[38;5;241m=\u001b[39mgenerations)\n",
      "File \u001b[0;32m/opt/conda/lib/python3.8/site-packages/langchain/llms/sagemaker_endpoint.py:242\u001b[0m, in \u001b[0;36mSagemakerEndpoint._call\u001b[0;34m(self, prompt, stop, run_manager)\u001b[0m\n\u001b[1;32m    234\u001b[0m     response \u001b[38;5;241m=\u001b[39m \u001b[38;5;28mself\u001b[39m\u001b[38;5;241m.\u001b[39mclient\u001b[38;5;241m.\u001b[39minvoke_endpoint(\n\u001b[1;32m    235\u001b[0m         EndpointName\u001b[38;5;241m=\u001b[39m\u001b[38;5;28mself\u001b[39m\u001b[38;5;241m.\u001b[39mendpoint_name,\n\u001b[1;32m    236\u001b[0m         Body\u001b[38;5;241m=\u001b[39mbody,\n\u001b[0;32m   (...)\u001b[0m\n\u001b[1;32m    239\u001b[0m         \u001b[38;5;241m*\u001b[39m\u001b[38;5;241m*\u001b[39m_endpoint_kwargs,\n\u001b[1;32m    240\u001b[0m     )\n\u001b[1;32m    241\u001b[0m \u001b[38;5;28;01mexcept\u001b[39;00m \u001b[38;5;167;01mException\u001b[39;00m \u001b[38;5;28;01mas\u001b[39;00m e:\n\u001b[0;32m--> 242\u001b[0m     \u001b[38;5;28;01mraise\u001b[39;00m \u001b[38;5;167;01mValueError\u001b[39;00m(\u001b[38;5;124mf\u001b[39m\u001b[38;5;124m\"\u001b[39m\u001b[38;5;124mError raised by inference endpoint: \u001b[39m\u001b[38;5;132;01m{\u001b[39;00me\u001b[38;5;132;01m}\u001b[39;00m\u001b[38;5;124m\"\u001b[39m)\n\u001b[1;32m    244\u001b[0m text \u001b[38;5;241m=\u001b[39m \u001b[38;5;28mself\u001b[39m\u001b[38;5;241m.\u001b[39mcontent_handler\u001b[38;5;241m.\u001b[39mtransform_output(response[\u001b[38;5;124m\"\u001b[39m\u001b[38;5;124mBody\u001b[39m\u001b[38;5;124m\"\u001b[39m])\n\u001b[1;32m    245\u001b[0m \u001b[38;5;28;01mif\u001b[39;00m stop \u001b[38;5;129;01mis\u001b[39;00m \u001b[38;5;129;01mnot\u001b[39;00m \u001b[38;5;28;01mNone\u001b[39;00m:\n\u001b[1;32m    246\u001b[0m     \u001b[38;5;66;03m# This is a bit hacky, but I can't figure out a better way to enforce\u001b[39;00m\n\u001b[1;32m    247\u001b[0m     \u001b[38;5;66;03m# stop tokens when making calls to the sagemaker endpoint.\u001b[39;00m\n",
      "\u001b[0;31mValueError\u001b[0m: Error raised by inference endpoint: An error occurred (ModelError) when calling the InvokeEndpoint operation: Received client error (422) from primary and could not load the entire response body. See https://us-west-2.console.aws.amazon.com/cloudwatch/home?region=us-west-2#logEventViewer:group=/aws/sagemaker/Endpoints/varco-llm-13b-ist in account 376278017302 for more information."
     ]
    }
   ],
   "source": [
    "wrapper_store_faiss.query(question=\"Amazon SageMaker ?\",llm=sm_llm)"
   ]
  },
  {
   "cell_type": "code",
   "execution_count": null,
   "id": "165e76a6-b6a5-4cc5-9e29-d0a00a3b3b9a",
   "metadata": {},
   "outputs": [],
   "source": []
  }
 ],
 "metadata": {
  "availableInstances": [
   {
    "_defaultOrder": 0,
    "_isFastLaunch": true,
    "category": "General purpose",
    "gpuNum": 0,
    "hideHardwareSpecs": false,
    "memoryGiB": 4,
    "name": "ml.t3.medium",
    "vcpuNum": 2
   },
   {
    "_defaultOrder": 1,
    "_isFastLaunch": false,
    "category": "General purpose",
    "gpuNum": 0,
    "hideHardwareSpecs": false,
    "memoryGiB": 8,
    "name": "ml.t3.large",
    "vcpuNum": 2
   },
   {
    "_defaultOrder": 2,
    "_isFastLaunch": false,
    "category": "General purpose",
    "gpuNum": 0,
    "hideHardwareSpecs": false,
    "memoryGiB": 16,
    "name": "ml.t3.xlarge",
    "vcpuNum": 4
   },
   {
    "_defaultOrder": 3,
    "_isFastLaunch": false,
    "category": "General purpose",
    "gpuNum": 0,
    "hideHardwareSpecs": false,
    "memoryGiB": 32,
    "name": "ml.t3.2xlarge",
    "vcpuNum": 8
   },
   {
    "_defaultOrder": 4,
    "_isFastLaunch": true,
    "category": "General purpose",
    "gpuNum": 0,
    "hideHardwareSpecs": false,
    "memoryGiB": 8,
    "name": "ml.m5.large",
    "vcpuNum": 2
   },
   {
    "_defaultOrder": 5,
    "_isFastLaunch": false,
    "category": "General purpose",
    "gpuNum": 0,
    "hideHardwareSpecs": false,
    "memoryGiB": 16,
    "name": "ml.m5.xlarge",
    "vcpuNum": 4
   },
   {
    "_defaultOrder": 6,
    "_isFastLaunch": false,
    "category": "General purpose",
    "gpuNum": 0,
    "hideHardwareSpecs": false,
    "memoryGiB": 32,
    "name": "ml.m5.2xlarge",
    "vcpuNum": 8
   },
   {
    "_defaultOrder": 7,
    "_isFastLaunch": false,
    "category": "General purpose",
    "gpuNum": 0,
    "hideHardwareSpecs": false,
    "memoryGiB": 64,
    "name": "ml.m5.4xlarge",
    "vcpuNum": 16
   },
   {
    "_defaultOrder": 8,
    "_isFastLaunch": false,
    "category": "General purpose",
    "gpuNum": 0,
    "hideHardwareSpecs": false,
    "memoryGiB": 128,
    "name": "ml.m5.8xlarge",
    "vcpuNum": 32
   },
   {
    "_defaultOrder": 9,
    "_isFastLaunch": false,
    "category": "General purpose",
    "gpuNum": 0,
    "hideHardwareSpecs": false,
    "memoryGiB": 192,
    "name": "ml.m5.12xlarge",
    "vcpuNum": 48
   },
   {
    "_defaultOrder": 10,
    "_isFastLaunch": false,
    "category": "General purpose",
    "gpuNum": 0,
    "hideHardwareSpecs": false,
    "memoryGiB": 256,
    "name": "ml.m5.16xlarge",
    "vcpuNum": 64
   },
   {
    "_defaultOrder": 11,
    "_isFastLaunch": false,
    "category": "General purpose",
    "gpuNum": 0,
    "hideHardwareSpecs": false,
    "memoryGiB": 384,
    "name": "ml.m5.24xlarge",
    "vcpuNum": 96
   },
   {
    "_defaultOrder": 12,
    "_isFastLaunch": false,
    "category": "General purpose",
    "gpuNum": 0,
    "hideHardwareSpecs": false,
    "memoryGiB": 8,
    "name": "ml.m5d.large",
    "vcpuNum": 2
   },
   {
    "_defaultOrder": 13,
    "_isFastLaunch": false,
    "category": "General purpose",
    "gpuNum": 0,
    "hideHardwareSpecs": false,
    "memoryGiB": 16,
    "name": "ml.m5d.xlarge",
    "vcpuNum": 4
   },
   {
    "_defaultOrder": 14,
    "_isFastLaunch": false,
    "category": "General purpose",
    "gpuNum": 0,
    "hideHardwareSpecs": false,
    "memoryGiB": 32,
    "name": "ml.m5d.2xlarge",
    "vcpuNum": 8
   },
   {
    "_defaultOrder": 15,
    "_isFastLaunch": false,
    "category": "General purpose",
    "gpuNum": 0,
    "hideHardwareSpecs": false,
    "memoryGiB": 64,
    "name": "ml.m5d.4xlarge",
    "vcpuNum": 16
   },
   {
    "_defaultOrder": 16,
    "_isFastLaunch": false,
    "category": "General purpose",
    "gpuNum": 0,
    "hideHardwareSpecs": false,
    "memoryGiB": 128,
    "name": "ml.m5d.8xlarge",
    "vcpuNum": 32
   },
   {
    "_defaultOrder": 17,
    "_isFastLaunch": false,
    "category": "General purpose",
    "gpuNum": 0,
    "hideHardwareSpecs": false,
    "memoryGiB": 192,
    "name": "ml.m5d.12xlarge",
    "vcpuNum": 48
   },
   {
    "_defaultOrder": 18,
    "_isFastLaunch": false,
    "category": "General purpose",
    "gpuNum": 0,
    "hideHardwareSpecs": false,
    "memoryGiB": 256,
    "name": "ml.m5d.16xlarge",
    "vcpuNum": 64
   },
   {
    "_defaultOrder": 19,
    "_isFastLaunch": false,
    "category": "General purpose",
    "gpuNum": 0,
    "hideHardwareSpecs": false,
    "memoryGiB": 384,
    "name": "ml.m5d.24xlarge",
    "vcpuNum": 96
   },
   {
    "_defaultOrder": 20,
    "_isFastLaunch": false,
    "category": "General purpose",
    "gpuNum": 0,
    "hideHardwareSpecs": true,
    "memoryGiB": 0,
    "name": "ml.geospatial.interactive",
    "supportedImageNames": [
     "sagemaker-geospatial-v1-0"
    ],
    "vcpuNum": 0
   },
   {
    "_defaultOrder": 21,
    "_isFastLaunch": true,
    "category": "Compute optimized",
    "gpuNum": 0,
    "hideHardwareSpecs": false,
    "memoryGiB": 4,
    "name": "ml.c5.large",
    "vcpuNum": 2
   },
   {
    "_defaultOrder": 22,
    "_isFastLaunch": false,
    "category": "Compute optimized",
    "gpuNum": 0,
    "hideHardwareSpecs": false,
    "memoryGiB": 8,
    "name": "ml.c5.xlarge",
    "vcpuNum": 4
   },
   {
    "_defaultOrder": 23,
    "_isFastLaunch": false,
    "category": "Compute optimized",
    "gpuNum": 0,
    "hideHardwareSpecs": false,
    "memoryGiB": 16,
    "name": "ml.c5.2xlarge",
    "vcpuNum": 8
   },
   {
    "_defaultOrder": 24,
    "_isFastLaunch": false,
    "category": "Compute optimized",
    "gpuNum": 0,
    "hideHardwareSpecs": false,
    "memoryGiB": 32,
    "name": "ml.c5.4xlarge",
    "vcpuNum": 16
   },
   {
    "_defaultOrder": 25,
    "_isFastLaunch": false,
    "category": "Compute optimized",
    "gpuNum": 0,
    "hideHardwareSpecs": false,
    "memoryGiB": 72,
    "name": "ml.c5.9xlarge",
    "vcpuNum": 36
   },
   {
    "_defaultOrder": 26,
    "_isFastLaunch": false,
    "category": "Compute optimized",
    "gpuNum": 0,
    "hideHardwareSpecs": false,
    "memoryGiB": 96,
    "name": "ml.c5.12xlarge",
    "vcpuNum": 48
   },
   {
    "_defaultOrder": 27,
    "_isFastLaunch": false,
    "category": "Compute optimized",
    "gpuNum": 0,
    "hideHardwareSpecs": false,
    "memoryGiB": 144,
    "name": "ml.c5.18xlarge",
    "vcpuNum": 72
   },
   {
    "_defaultOrder": 28,
    "_isFastLaunch": false,
    "category": "Compute optimized",
    "gpuNum": 0,
    "hideHardwareSpecs": false,
    "memoryGiB": 192,
    "name": "ml.c5.24xlarge",
    "vcpuNum": 96
   },
   {
    "_defaultOrder": 29,
    "_isFastLaunch": true,
    "category": "Accelerated computing",
    "gpuNum": 1,
    "hideHardwareSpecs": false,
    "memoryGiB": 16,
    "name": "ml.g4dn.xlarge",
    "vcpuNum": 4
   },
   {
    "_defaultOrder": 30,
    "_isFastLaunch": false,
    "category": "Accelerated computing",
    "gpuNum": 1,
    "hideHardwareSpecs": false,
    "memoryGiB": 32,
    "name": "ml.g4dn.2xlarge",
    "vcpuNum": 8
   },
   {
    "_defaultOrder": 31,
    "_isFastLaunch": false,
    "category": "Accelerated computing",
    "gpuNum": 1,
    "hideHardwareSpecs": false,
    "memoryGiB": 64,
    "name": "ml.g4dn.4xlarge",
    "vcpuNum": 16
   },
   {
    "_defaultOrder": 32,
    "_isFastLaunch": false,
    "category": "Accelerated computing",
    "gpuNum": 1,
    "hideHardwareSpecs": false,
    "memoryGiB": 128,
    "name": "ml.g4dn.8xlarge",
    "vcpuNum": 32
   },
   {
    "_defaultOrder": 33,
    "_isFastLaunch": false,
    "category": "Accelerated computing",
    "gpuNum": 4,
    "hideHardwareSpecs": false,
    "memoryGiB": 192,
    "name": "ml.g4dn.12xlarge",
    "vcpuNum": 48
   },
   {
    "_defaultOrder": 34,
    "_isFastLaunch": false,
    "category": "Accelerated computing",
    "gpuNum": 1,
    "hideHardwareSpecs": false,
    "memoryGiB": 256,
    "name": "ml.g4dn.16xlarge",
    "vcpuNum": 64
   },
   {
    "_defaultOrder": 35,
    "_isFastLaunch": false,
    "category": "Accelerated computing",
    "gpuNum": 1,
    "hideHardwareSpecs": false,
    "memoryGiB": 61,
    "name": "ml.p3.2xlarge",
    "vcpuNum": 8
   },
   {
    "_defaultOrder": 36,
    "_isFastLaunch": false,
    "category": "Accelerated computing",
    "gpuNum": 4,
    "hideHardwareSpecs": false,
    "memoryGiB": 244,
    "name": "ml.p3.8xlarge",
    "vcpuNum": 32
   },
   {
    "_defaultOrder": 37,
    "_isFastLaunch": false,
    "category": "Accelerated computing",
    "gpuNum": 8,
    "hideHardwareSpecs": false,
    "memoryGiB": 488,
    "name": "ml.p3.16xlarge",
    "vcpuNum": 64
   },
   {
    "_defaultOrder": 38,
    "_isFastLaunch": false,
    "category": "Accelerated computing",
    "gpuNum": 8,
    "hideHardwareSpecs": false,
    "memoryGiB": 768,
    "name": "ml.p3dn.24xlarge",
    "vcpuNum": 96
   },
   {
    "_defaultOrder": 39,
    "_isFastLaunch": false,
    "category": "Memory Optimized",
    "gpuNum": 0,
    "hideHardwareSpecs": false,
    "memoryGiB": 16,
    "name": "ml.r5.large",
    "vcpuNum": 2
   },
   {
    "_defaultOrder": 40,
    "_isFastLaunch": false,
    "category": "Memory Optimized",
    "gpuNum": 0,
    "hideHardwareSpecs": false,
    "memoryGiB": 32,
    "name": "ml.r5.xlarge",
    "vcpuNum": 4
   },
   {
    "_defaultOrder": 41,
    "_isFastLaunch": false,
    "category": "Memory Optimized",
    "gpuNum": 0,
    "hideHardwareSpecs": false,
    "memoryGiB": 64,
    "name": "ml.r5.2xlarge",
    "vcpuNum": 8
   },
   {
    "_defaultOrder": 42,
    "_isFastLaunch": false,
    "category": "Memory Optimized",
    "gpuNum": 0,
    "hideHardwareSpecs": false,
    "memoryGiB": 128,
    "name": "ml.r5.4xlarge",
    "vcpuNum": 16
   },
   {
    "_defaultOrder": 43,
    "_isFastLaunch": false,
    "category": "Memory Optimized",
    "gpuNum": 0,
    "hideHardwareSpecs": false,
    "memoryGiB": 256,
    "name": "ml.r5.8xlarge",
    "vcpuNum": 32
   },
   {
    "_defaultOrder": 44,
    "_isFastLaunch": false,
    "category": "Memory Optimized",
    "gpuNum": 0,
    "hideHardwareSpecs": false,
    "memoryGiB": 384,
    "name": "ml.r5.12xlarge",
    "vcpuNum": 48
   },
   {
    "_defaultOrder": 45,
    "_isFastLaunch": false,
    "category": "Memory Optimized",
    "gpuNum": 0,
    "hideHardwareSpecs": false,
    "memoryGiB": 512,
    "name": "ml.r5.16xlarge",
    "vcpuNum": 64
   },
   {
    "_defaultOrder": 46,
    "_isFastLaunch": false,
    "category": "Memory Optimized",
    "gpuNum": 0,
    "hideHardwareSpecs": false,
    "memoryGiB": 768,
    "name": "ml.r5.24xlarge",
    "vcpuNum": 96
   },
   {
    "_defaultOrder": 47,
    "_isFastLaunch": false,
    "category": "Accelerated computing",
    "gpuNum": 1,
    "hideHardwareSpecs": false,
    "memoryGiB": 16,
    "name": "ml.g5.xlarge",
    "vcpuNum": 4
   },
   {
    "_defaultOrder": 48,
    "_isFastLaunch": false,
    "category": "Accelerated computing",
    "gpuNum": 1,
    "hideHardwareSpecs": false,
    "memoryGiB": 32,
    "name": "ml.g5.2xlarge",
    "vcpuNum": 8
   },
   {
    "_defaultOrder": 49,
    "_isFastLaunch": false,
    "category": "Accelerated computing",
    "gpuNum": 1,
    "hideHardwareSpecs": false,
    "memoryGiB": 64,
    "name": "ml.g5.4xlarge",
    "vcpuNum": 16
   },
   {
    "_defaultOrder": 50,
    "_isFastLaunch": false,
    "category": "Accelerated computing",
    "gpuNum": 1,
    "hideHardwareSpecs": false,
    "memoryGiB": 128,
    "name": "ml.g5.8xlarge",
    "vcpuNum": 32
   },
   {
    "_defaultOrder": 51,
    "_isFastLaunch": false,
    "category": "Accelerated computing",
    "gpuNum": 1,
    "hideHardwareSpecs": false,
    "memoryGiB": 256,
    "name": "ml.g5.16xlarge",
    "vcpuNum": 64
   },
   {
    "_defaultOrder": 52,
    "_isFastLaunch": false,
    "category": "Accelerated computing",
    "gpuNum": 4,
    "hideHardwareSpecs": false,
    "memoryGiB": 192,
    "name": "ml.g5.12xlarge",
    "vcpuNum": 48
   },
   {
    "_defaultOrder": 53,
    "_isFastLaunch": false,
    "category": "Accelerated computing",
    "gpuNum": 4,
    "hideHardwareSpecs": false,
    "memoryGiB": 384,
    "name": "ml.g5.24xlarge",
    "vcpuNum": 96
   },
   {
    "_defaultOrder": 54,
    "_isFastLaunch": false,
    "category": "Accelerated computing",
    "gpuNum": 8,
    "hideHardwareSpecs": false,
    "memoryGiB": 768,
    "name": "ml.g5.48xlarge",
    "vcpuNum": 192
   },
   {
    "_defaultOrder": 55,
    "_isFastLaunch": false,
    "category": "Accelerated computing",
    "gpuNum": 8,
    "hideHardwareSpecs": false,
    "memoryGiB": 1152,
    "name": "ml.p4d.24xlarge",
    "vcpuNum": 96
   },
   {
    "_defaultOrder": 56,
    "_isFastLaunch": false,
    "category": "Accelerated computing",
    "gpuNum": 8,
    "hideHardwareSpecs": false,
    "memoryGiB": 1152,
    "name": "ml.p4de.24xlarge",
    "vcpuNum": 96
   }
  ],
  "instance_type": "ml.t3.medium",
  "kernelspec": {
   "display_name": "Python 3 (Data Science 2.0)",
   "language": "python",
   "name": "python3__SAGEMAKER_INTERNAL__arn:aws:sagemaker:us-west-2:236514542706:image/sagemaker-data-science-38"
  },
  "language_info": {
   "codemirror_mode": {
    "name": "ipython",
    "version": 3
   },
   "file_extension": ".py",
   "mimetype": "text/x-python",
   "name": "python",
   "nbconvert_exporter": "python",
   "pygments_lexer": "ipython3",
   "version": "3.8.13"
  }
 },
 "nbformat": 4,
 "nbformat_minor": 5
}
